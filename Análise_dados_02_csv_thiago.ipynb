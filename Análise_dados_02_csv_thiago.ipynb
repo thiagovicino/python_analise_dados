{
  "nbformat": 4,
  "nbformat_minor": 0,
  "metadata": {
    "colab": {
      "provenance": [],
      "authorship_tag": "ABX9TyMDsUrBNv64qzgj7VW/UJua",
      "include_colab_link": true
    },
    "kernelspec": {
      "name": "python3",
      "display_name": "Python 3"
    },
    "language_info": {
      "name": "python"
    }
  },
  "cells": [
    {
      "cell_type": "markdown",
      "metadata": {
        "id": "view-in-github",
        "colab_type": "text"
      },
      "source": [
        "<a href=\"https://colab.research.google.com/github/thiagovicino/python_analise_dados/blob/main/An%C3%A1lise_dados_02_csv_thiago.ipynb\" target=\"_parent\"><img src=\"https://colab.research.google.com/assets/colab-badge.svg\" alt=\"Open In Colab\"/></a>"
      ]
    },
    {
      "cell_type": "markdown",
      "source": [
        "# Trabalhando com arquivos .csv"
      ],
      "metadata": {
        "id": "ZaPmw5b0Bgvw"
      }
    },
    {
      "cell_type": "code",
      "execution_count": 2,
      "metadata": {
        "id": "MWUPowU5AY-O"
      },
      "outputs": [],
      "source": [
        "import numpy as np \n",
        "import pandas as pd # o pandas depende do numpy"
      ]
    },
    {
      "cell_type": "code",
      "source": [
        "csv = \"https://raw.githubusercontent.com/thiagovicino/python_analise_dados/main/contexto_inter.csv\"\n",
        "contexto = pd.read_csv(csv)\n",
        "contexto"
      ],
      "metadata": {
        "colab": {
          "base_uri": "https://localhost:8080/",
          "height": 1000
        },
        "id": "1elhnVrZBCrj",
        "outputId": "c7d2573b-ec97-4e38-b0c5-e5d5268d207a"
      },
      "execution_count": 3,
      "outputs": [
        {
          "output_type": "execute_result",
          "data": {
            "text/plain": [
              "                                                    AU  \\\n",
              "0                                Eugênio Vargas Garcia   \n",
              "1                               Juan Gabriel Tokatlian   \n",
              "2                       Maria Guadalupe Moog Rodrigues   \n",
              "3                                      Mark Everingham   \n",
              "4                                          Mônica Herz   \n",
              "..                                                 ...   \n",
              "419  Leandro Wolpert dos Santos;André Pimentel Ferr...   \n",
              "420                     Cairo Gabriel Borges Junqueira   \n",
              "421         Virginia Soledad Busilli;María Belén Jaime   \n",
              "422             Bruno Hendler;André Luiz Cançado Motta   \n",
              "423                              João Fernando Finazzi   \n",
              "\n",
              "                                                    OG  \\\n",
              "0                                                  NaN   \n",
              "1                                                  NaN   \n",
              "2                                                  NaN   \n",
              "3                                                  NaN   \n",
              "4                                                  NaN   \n",
              "..                                                 ...   \n",
              "419  Institute of Social and Political Studies of t...   \n",
              "420                Federal University of Sergipe (UFS)   \n",
              "421  Scientific and Technological Center of the Nat...   \n",
              "422  Federal University of Santa Maria (UFSM);Feder...   \n",
              "423  San Tiago Dantas Interinstitutional Graduate P...   \n",
              "\n",
              "                                                    TI  \\\n",
              "0    Estados Unidos e Grã-Bretanha no Brasil: trans...   \n",
              "1    Colômbia: mais insegurança humana, menos segur...   \n",
              "2    Redes transnacionais de advocacia pública: est...   \n",
              "3    Direitos de propriedade e cidadania em socieda...   \n",
              "4    O Crescimento da área de relações internaciona...   \n",
              "..                                                 ...   \n",
              "419  Explaining the Changes in Brazilian Foreign Po...   \n",
              "420  From Municipalist Activism to Institutional Ch...   \n",
              "421  Chinese Investments in Brazil: Economic Diplom...   \n",
              "422  Military Build-up in Southeast Asia and the So...   \n",
              "423  Badges Without Borders: How Global Counterinsu...   \n",
              "\n",
              "                                                    AB  \\\n",
              "0    Com enfoque sobretudo na década de 20, este ar...   \n",
              "1    No contexto da grave crise que atravessa a reg...   \n",
              "2    O projeto Planafloro, financiado pelo Banco Mu...   \n",
              "3    Este estudo mostra como as disputas de terra d...   \n",
              "4    O artigo analisa a produção acadêmica brasilei...   \n",
              "..                                                 ...   \n",
              "419  AbstractThe administration of President Michel...   \n",
              "420  AbstractMercosur has gone through distinct pha...   \n",
              "421  AbstractThe People’s Republic of China has con...   \n",
              "422  AbstractAbstract: The South China Sea (SCS) is...   \n",
              "423                                                NaN   \n",
              "\n",
              "                                                    DE  \\\n",
              "0    Brazil-United States; Brazil-Britain; Transiti...   \n",
              "1    Andes Region; Human Insecurity; US Interventio...   \n",
              "2    Inspection Panel; World Bank; Transnational Ne...   \n",
              "3    Property Rights; Conflict Resolution; Citizens...   \n",
              "4    International Relations Theory; International ...   \n",
              "..                                                 ...   \n",
              "419  foreign policy change; Brazilian foreign polic...   \n",
              "420  Mercosur; Mercocities; FCCR; subnational gover...   \n",
              "421  Latin America, China, economic diplomacy, FDI,...   \n",
              "422  South China Sea; Southeast Asia; China; milita...   \n",
              "423                                                NaN   \n",
              "\n",
              "                                                    CR    BP_EP      PY  \\\n",
              "0    ABREU, Marcelo de Paiva. (1973), \"The Niemeyer...      NaN  2002.0   \n",
              "1    DORF, Robert H. (1996), \"Democratization and F...  129-166  2002.0   \n",
              "2    BROWDER, John. (1998), Report - World Bank Mid...      NaN  2002.0   \n",
              "3    ADAMS, Martin, SIBANDA, Sipho e THOMAS, Glen. ...      NaN  2002.0   \n",
              "4    ABREU, Marcelo de Paiva. (1984), \"O Brasil e a...      NaN  2002.0   \n",
              "..                                                 ...      ...     ...   \n",
              "419  Almeida, P R de. 2003. ‘A Política Internacion...  489-513  2021.0   \n",
              "420  Aalberts, T. 2005. ‘Sovereignty Reloaded? A Co...  515-540  2021.0   \n",
              "421  Abeliansky, A. L and I Martínez-Zarzoso. 2019....  541-564  2021.0   \n",
              "422  Astro Awani [online]. 2013. ‘PM Announces Sett...  565-591  2021.0   \n",
              "423  Latham, M. 2011. The Right Kind of Revolution:...  593-596  2021.0   \n",
              "\n",
              "                    IS  LA                                DI  \\\n",
              "0    v. 24 n. 1 (2002)  pt   10.1590/S0102-85292002000100001   \n",
              "1    v. 24 n. 1 (2002)  pt   10.1590/S0102-85292002000100002   \n",
              "2    v. 24 n. 1 (2002)  pt   10.1590/S0102-85292002000100003   \n",
              "3    v. 24 n. 1 (2002)  pt   10.1590/S0102-85292002000100004   \n",
              "4    v. 24 n. 1 (2002)  pt   10.1590/S0102-85292002000100005   \n",
              "..                 ...  ..                               ...   \n",
              "419  v. 43 n. 3 (2021)  en  10.1590/S0102-8529.2019430300003   \n",
              "420  v. 43 n. 3 (2021)  en  10.1590/S0102-8529.2019430300004   \n",
              "421  v. 43 n. 3 (2021)  en  10.1590/S0102-8529.2019430300005   \n",
              "422  v. 43 n. 3 (2021)  en  10.1590/S0102-8529.2019430300006   \n",
              "423  v. 43 n. 3 (2021)  en  10.1590/S0102-8529.2019430300007   \n",
              "\n",
              "                         SO         SN  \\\n",
              "0    Contexto Internacional  1982-0240   \n",
              "1    Contexto Internacional  1982-0240   \n",
              "2    Contexto Internacional  1982-0240   \n",
              "3    Contexto Internacional  1982-0240   \n",
              "4    Contexto Internacional  1982-0240   \n",
              "..                      ...        ...   \n",
              "419  Contexto Internacional  1982-0240   \n",
              "420  Contexto Internacional  1982-0240   \n",
              "421  Contexto Internacional  1982-0240   \n",
              "422  Contexto Internacional  1982-0240   \n",
              "423  Contexto Internacional  1982-0240   \n",
              "\n",
              "                                                   URL  \\\n",
              "0    http://www.scielo.br/j/cint/a/cMTYLM3xwfzKNT4q...   \n",
              "1    http://www.scielo.br/j/cint/a/z8kxTngCqVMZD65G...   \n",
              "2    http://www.scielo.br/j/cint/a/46s45RBfLWLqwZx9...   \n",
              "3    http://www.scielo.br/j/cint/a/7pRZMvTywYzZXDfJ...   \n",
              "4    http://www.scielo.br/j/cint/a/dTq3jbQQtT7DgRDj...   \n",
              "..                                                 ...   \n",
              "419  http://www.scielo.br/j/cint/a/7gnzcsdC6C3mcsm3...   \n",
              "420  http://www.scielo.br/j/cint/a/vqh4SkKwm4DknmfQ...   \n",
              "421  http://www.scielo.br/j/cint/a/czWnkqcLF8RfYDjR...   \n",
              "422  http://www.scielo.br/j/cint/a/jp66xVMw6bFGVJQH...   \n",
              "423  http://www.scielo.br/j/cint/a/zJtYy5mtQsMwTNpQ...   \n",
              "\n",
              "                                                PDFURL  \\\n",
              "0    https://www.scielo.br/j/cint/a/cMTYLM3xwfzKNT4...   \n",
              "1    https://www.scielo.br/j/cint/a/z8kxTngCqVMZD65...   \n",
              "2    https://www.scielo.br/j/cint/a/46s45RBfLWLqwZx...   \n",
              "3    https://www.scielo.br/j/cint/a/7pRZMvTywYzZXDf...   \n",
              "4    https://www.scielo.br/j/cint/a/dTq3jbQQtT7DgRD...   \n",
              "..                                                 ...   \n",
              "419  https://www.scielo.br/j/cint/a/7gnzcsdC6C3mcsm...   \n",
              "420  https://www.scielo.br/j/cint/a/vqh4SkKwm4Dknmf...   \n",
              "421  https://www.scielo.br/j/cint/a/czWnkqcLF8RfYDj...   \n",
              "422  https://www.scielo.br/j/cint/a/jp66xVMw6bFGVJQ...   \n",
              "423  https://www.scielo.br/j/cint/a/zJtYy5mtQsMwTNp...   \n",
              "\n",
              "                                           loc_arquivo     size  \n",
              "0    /media/hdvm09/bd/007/002/002/003/contexto_inte...   139729  \n",
              "1    /media/hdvm09/bd/007/002/002/003/contexto_inte...   154457  \n",
              "2    /media/hdvm09/bd/007/002/002/003/contexto_inte...   206246  \n",
              "3    /media/hdvm09/bd/007/002/002/003/contexto_inte...   147182  \n",
              "4    /media/hdvm09/bd/007/002/002/003/contexto_inte...   157795  \n",
              "..                                                 ...      ...  \n",
              "419  /media/hdvm09/bd/007/002/002/003/contexto_inte...  1702907  \n",
              "420  /media/hdvm09/bd/007/002/002/003/contexto_inte...  2147350  \n",
              "421  /media/hdvm09/bd/007/002/002/003/contexto_inte...  1823392  \n",
              "422  /media/hdvm09/bd/007/002/002/003/contexto_inte...  2166459  \n",
              "423  /media/hdvm09/bd/007/002/002/003/contexto_inte...   733593  \n",
              "\n",
              "[424 rows x 17 columns]"
            ],
            "text/html": [
              "\n",
              "  <div id=\"df-4dc71456-eddb-4b97-86d0-f4caf653aa07\">\n",
              "    <div class=\"colab-df-container\">\n",
              "      <div>\n",
              "<style scoped>\n",
              "    .dataframe tbody tr th:only-of-type {\n",
              "        vertical-align: middle;\n",
              "    }\n",
              "\n",
              "    .dataframe tbody tr th {\n",
              "        vertical-align: top;\n",
              "    }\n",
              "\n",
              "    .dataframe thead th {\n",
              "        text-align: right;\n",
              "    }\n",
              "</style>\n",
              "<table border=\"1\" class=\"dataframe\">\n",
              "  <thead>\n",
              "    <tr style=\"text-align: right;\">\n",
              "      <th></th>\n",
              "      <th>AU</th>\n",
              "      <th>OG</th>\n",
              "      <th>TI</th>\n",
              "      <th>AB</th>\n",
              "      <th>DE</th>\n",
              "      <th>CR</th>\n",
              "      <th>BP_EP</th>\n",
              "      <th>PY</th>\n",
              "      <th>IS</th>\n",
              "      <th>LA</th>\n",
              "      <th>DI</th>\n",
              "      <th>SO</th>\n",
              "      <th>SN</th>\n",
              "      <th>URL</th>\n",
              "      <th>PDFURL</th>\n",
              "      <th>loc_arquivo</th>\n",
              "      <th>size</th>\n",
              "    </tr>\n",
              "  </thead>\n",
              "  <tbody>\n",
              "    <tr>\n",
              "      <th>0</th>\n",
              "      <td>Eugênio Vargas Garcia</td>\n",
              "      <td>NaN</td>\n",
              "      <td>Estados Unidos e Grã-Bretanha no Brasil: trans...</td>\n",
              "      <td>Com enfoque sobretudo na década de 20, este ar...</td>\n",
              "      <td>Brazil-United States; Brazil-Britain; Transiti...</td>\n",
              "      <td>ABREU, Marcelo de Paiva. (1973), \"The Niemeyer...</td>\n",
              "      <td>NaN</td>\n",
              "      <td>2002.0</td>\n",
              "      <td>v. 24 n. 1 (2002)</td>\n",
              "      <td>pt</td>\n",
              "      <td>10.1590/S0102-85292002000100001</td>\n",
              "      <td>Contexto Internacional</td>\n",
              "      <td>1982-0240</td>\n",
              "      <td>http://www.scielo.br/j/cint/a/cMTYLM3xwfzKNT4q...</td>\n",
              "      <td>https://www.scielo.br/j/cint/a/cMTYLM3xwfzKNT4...</td>\n",
              "      <td>/media/hdvm09/bd/007/002/002/003/contexto_inte...</td>\n",
              "      <td>139729</td>\n",
              "    </tr>\n",
              "    <tr>\n",
              "      <th>1</th>\n",
              "      <td>Juan Gabriel Tokatlian</td>\n",
              "      <td>NaN</td>\n",
              "      <td>Colômbia: mais insegurança humana, menos segur...</td>\n",
              "      <td>No contexto da grave crise que atravessa a reg...</td>\n",
              "      <td>Andes Region; Human Insecurity; US Interventio...</td>\n",
              "      <td>DORF, Robert H. (1996), \"Democratization and F...</td>\n",
              "      <td>129-166</td>\n",
              "      <td>2002.0</td>\n",
              "      <td>v. 24 n. 1 (2002)</td>\n",
              "      <td>pt</td>\n",
              "      <td>10.1590/S0102-85292002000100002</td>\n",
              "      <td>Contexto Internacional</td>\n",
              "      <td>1982-0240</td>\n",
              "      <td>http://www.scielo.br/j/cint/a/z8kxTngCqVMZD65G...</td>\n",
              "      <td>https://www.scielo.br/j/cint/a/z8kxTngCqVMZD65...</td>\n",
              "      <td>/media/hdvm09/bd/007/002/002/003/contexto_inte...</td>\n",
              "      <td>154457</td>\n",
              "    </tr>\n",
              "    <tr>\n",
              "      <th>2</th>\n",
              "      <td>Maria Guadalupe Moog Rodrigues</td>\n",
              "      <td>NaN</td>\n",
              "      <td>Redes transnacionais de advocacia pública: est...</td>\n",
              "      <td>O projeto Planafloro, financiado pelo Banco Mu...</td>\n",
              "      <td>Inspection Panel; World Bank; Transnational Ne...</td>\n",
              "      <td>BROWDER, John. (1998), Report - World Bank Mid...</td>\n",
              "      <td>NaN</td>\n",
              "      <td>2002.0</td>\n",
              "      <td>v. 24 n. 1 (2002)</td>\n",
              "      <td>pt</td>\n",
              "      <td>10.1590/S0102-85292002000100003</td>\n",
              "      <td>Contexto Internacional</td>\n",
              "      <td>1982-0240</td>\n",
              "      <td>http://www.scielo.br/j/cint/a/46s45RBfLWLqwZx9...</td>\n",
              "      <td>https://www.scielo.br/j/cint/a/46s45RBfLWLqwZx...</td>\n",
              "      <td>/media/hdvm09/bd/007/002/002/003/contexto_inte...</td>\n",
              "      <td>206246</td>\n",
              "    </tr>\n",
              "    <tr>\n",
              "      <th>3</th>\n",
              "      <td>Mark Everingham</td>\n",
              "      <td>NaN</td>\n",
              "      <td>Direitos de propriedade e cidadania em socieda...</td>\n",
              "      <td>Este estudo mostra como as disputas de terra d...</td>\n",
              "      <td>Property Rights; Conflict Resolution; Citizens...</td>\n",
              "      <td>ADAMS, Martin, SIBANDA, Sipho e THOMAS, Glen. ...</td>\n",
              "      <td>NaN</td>\n",
              "      <td>2002.0</td>\n",
              "      <td>v. 24 n. 1 (2002)</td>\n",
              "      <td>pt</td>\n",
              "      <td>10.1590/S0102-85292002000100004</td>\n",
              "      <td>Contexto Internacional</td>\n",
              "      <td>1982-0240</td>\n",
              "      <td>http://www.scielo.br/j/cint/a/7pRZMvTywYzZXDfJ...</td>\n",
              "      <td>https://www.scielo.br/j/cint/a/7pRZMvTywYzZXDf...</td>\n",
              "      <td>/media/hdvm09/bd/007/002/002/003/contexto_inte...</td>\n",
              "      <td>147182</td>\n",
              "    </tr>\n",
              "    <tr>\n",
              "      <th>4</th>\n",
              "      <td>Mônica Herz</td>\n",
              "      <td>NaN</td>\n",
              "      <td>O Crescimento da área de relações internaciona...</td>\n",
              "      <td>O artigo analisa a produção acadêmica brasilei...</td>\n",
              "      <td>International Relations Theory; International ...</td>\n",
              "      <td>ABREU, Marcelo de Paiva. (1984), \"O Brasil e a...</td>\n",
              "      <td>NaN</td>\n",
              "      <td>2002.0</td>\n",
              "      <td>v. 24 n. 1 (2002)</td>\n",
              "      <td>pt</td>\n",
              "      <td>10.1590/S0102-85292002000100005</td>\n",
              "      <td>Contexto Internacional</td>\n",
              "      <td>1982-0240</td>\n",
              "      <td>http://www.scielo.br/j/cint/a/dTq3jbQQtT7DgRDj...</td>\n",
              "      <td>https://www.scielo.br/j/cint/a/dTq3jbQQtT7DgRD...</td>\n",
              "      <td>/media/hdvm09/bd/007/002/002/003/contexto_inte...</td>\n",
              "      <td>157795</td>\n",
              "    </tr>\n",
              "    <tr>\n",
              "      <th>...</th>\n",
              "      <td>...</td>\n",
              "      <td>...</td>\n",
              "      <td>...</td>\n",
              "      <td>...</td>\n",
              "      <td>...</td>\n",
              "      <td>...</td>\n",
              "      <td>...</td>\n",
              "      <td>...</td>\n",
              "      <td>...</td>\n",
              "      <td>...</td>\n",
              "      <td>...</td>\n",
              "      <td>...</td>\n",
              "      <td>...</td>\n",
              "      <td>...</td>\n",
              "      <td>...</td>\n",
              "      <td>...</td>\n",
              "      <td>...</td>\n",
              "    </tr>\n",
              "    <tr>\n",
              "      <th>419</th>\n",
              "      <td>Leandro Wolpert dos Santos;André Pimentel Ferr...</td>\n",
              "      <td>Institute of Social and Political Studies of t...</td>\n",
              "      <td>Explaining the Changes in Brazilian Foreign Po...</td>\n",
              "      <td>AbstractThe administration of President Michel...</td>\n",
              "      <td>foreign policy change; Brazilian foreign polic...</td>\n",
              "      <td>Almeida, P R de. 2003. ‘A Política Internacion...</td>\n",
              "      <td>489-513</td>\n",
              "      <td>2021.0</td>\n",
              "      <td>v. 43 n. 3 (2021)</td>\n",
              "      <td>en</td>\n",
              "      <td>10.1590/S0102-8529.2019430300003</td>\n",
              "      <td>Contexto Internacional</td>\n",
              "      <td>1982-0240</td>\n",
              "      <td>http://www.scielo.br/j/cint/a/7gnzcsdC6C3mcsm3...</td>\n",
              "      <td>https://www.scielo.br/j/cint/a/7gnzcsdC6C3mcsm...</td>\n",
              "      <td>/media/hdvm09/bd/007/002/002/003/contexto_inte...</td>\n",
              "      <td>1702907</td>\n",
              "    </tr>\n",
              "    <tr>\n",
              "      <th>420</th>\n",
              "      <td>Cairo Gabriel Borges Junqueira</td>\n",
              "      <td>Federal University of Sergipe (UFS)</td>\n",
              "      <td>From Municipalist Activism to Institutional Ch...</td>\n",
              "      <td>AbstractMercosur has gone through distinct pha...</td>\n",
              "      <td>Mercosur; Mercocities; FCCR; subnational gover...</td>\n",
              "      <td>Aalberts, T. 2005. ‘Sovereignty Reloaded? A Co...</td>\n",
              "      <td>515-540</td>\n",
              "      <td>2021.0</td>\n",
              "      <td>v. 43 n. 3 (2021)</td>\n",
              "      <td>en</td>\n",
              "      <td>10.1590/S0102-8529.2019430300004</td>\n",
              "      <td>Contexto Internacional</td>\n",
              "      <td>1982-0240</td>\n",
              "      <td>http://www.scielo.br/j/cint/a/vqh4SkKwm4DknmfQ...</td>\n",
              "      <td>https://www.scielo.br/j/cint/a/vqh4SkKwm4Dknmf...</td>\n",
              "      <td>/media/hdvm09/bd/007/002/002/003/contexto_inte...</td>\n",
              "      <td>2147350</td>\n",
              "    </tr>\n",
              "    <tr>\n",
              "      <th>421</th>\n",
              "      <td>Virginia Soledad Busilli;María Belén Jaime</td>\n",
              "      <td>Scientific and Technological Center of the Nat...</td>\n",
              "      <td>Chinese Investments in Brazil: Economic Diplom...</td>\n",
              "      <td>AbstractThe People’s Republic of China has con...</td>\n",
              "      <td>Latin America, China, economic diplomacy, FDI,...</td>\n",
              "      <td>Abeliansky, A. L and I Martínez-Zarzoso. 2019....</td>\n",
              "      <td>541-564</td>\n",
              "      <td>2021.0</td>\n",
              "      <td>v. 43 n. 3 (2021)</td>\n",
              "      <td>en</td>\n",
              "      <td>10.1590/S0102-8529.2019430300005</td>\n",
              "      <td>Contexto Internacional</td>\n",
              "      <td>1982-0240</td>\n",
              "      <td>http://www.scielo.br/j/cint/a/czWnkqcLF8RfYDjR...</td>\n",
              "      <td>https://www.scielo.br/j/cint/a/czWnkqcLF8RfYDj...</td>\n",
              "      <td>/media/hdvm09/bd/007/002/002/003/contexto_inte...</td>\n",
              "      <td>1823392</td>\n",
              "    </tr>\n",
              "    <tr>\n",
              "      <th>422</th>\n",
              "      <td>Bruno Hendler;André Luiz Cançado Motta</td>\n",
              "      <td>Federal University of Santa Maria (UFSM);Feder...</td>\n",
              "      <td>Military Build-up in Southeast Asia and the So...</td>\n",
              "      <td>AbstractAbstract: The South China Sea (SCS) is...</td>\n",
              "      <td>South China Sea; Southeast Asia; China; milita...</td>\n",
              "      <td>Astro Awani [online]. 2013. ‘PM Announces Sett...</td>\n",
              "      <td>565-591</td>\n",
              "      <td>2021.0</td>\n",
              "      <td>v. 43 n. 3 (2021)</td>\n",
              "      <td>en</td>\n",
              "      <td>10.1590/S0102-8529.2019430300006</td>\n",
              "      <td>Contexto Internacional</td>\n",
              "      <td>1982-0240</td>\n",
              "      <td>http://www.scielo.br/j/cint/a/jp66xVMw6bFGVJQH...</td>\n",
              "      <td>https://www.scielo.br/j/cint/a/jp66xVMw6bFGVJQ...</td>\n",
              "      <td>/media/hdvm09/bd/007/002/002/003/contexto_inte...</td>\n",
              "      <td>2166459</td>\n",
              "    </tr>\n",
              "    <tr>\n",
              "      <th>423</th>\n",
              "      <td>João Fernando Finazzi</td>\n",
              "      <td>San Tiago Dantas Interinstitutional Graduate P...</td>\n",
              "      <td>Badges Without Borders: How Global Counterinsu...</td>\n",
              "      <td>NaN</td>\n",
              "      <td>NaN</td>\n",
              "      <td>Latham, M. 2011. The Right Kind of Revolution:...</td>\n",
              "      <td>593-596</td>\n",
              "      <td>2021.0</td>\n",
              "      <td>v. 43 n. 3 (2021)</td>\n",
              "      <td>en</td>\n",
              "      <td>10.1590/S0102-8529.2019430300007</td>\n",
              "      <td>Contexto Internacional</td>\n",
              "      <td>1982-0240</td>\n",
              "      <td>http://www.scielo.br/j/cint/a/zJtYy5mtQsMwTNpQ...</td>\n",
              "      <td>https://www.scielo.br/j/cint/a/zJtYy5mtQsMwTNp...</td>\n",
              "      <td>/media/hdvm09/bd/007/002/002/003/contexto_inte...</td>\n",
              "      <td>733593</td>\n",
              "    </tr>\n",
              "  </tbody>\n",
              "</table>\n",
              "<p>424 rows × 17 columns</p>\n",
              "</div>\n",
              "      <button class=\"colab-df-convert\" onclick=\"convertToInteractive('df-4dc71456-eddb-4b97-86d0-f4caf653aa07')\"\n",
              "              title=\"Convert this dataframe to an interactive table.\"\n",
              "              style=\"display:none;\">\n",
              "        \n",
              "  <svg xmlns=\"http://www.w3.org/2000/svg\" height=\"24px\"viewBox=\"0 0 24 24\"\n",
              "       width=\"24px\">\n",
              "    <path d=\"M0 0h24v24H0V0z\" fill=\"none\"/>\n",
              "    <path d=\"M18.56 5.44l.94 2.06.94-2.06 2.06-.94-2.06-.94-.94-2.06-.94 2.06-2.06.94zm-11 1L8.5 8.5l.94-2.06 2.06-.94-2.06-.94L8.5 2.5l-.94 2.06-2.06.94zm10 10l.94 2.06.94-2.06 2.06-.94-2.06-.94-.94-2.06-.94 2.06-2.06.94z\"/><path d=\"M17.41 7.96l-1.37-1.37c-.4-.4-.92-.59-1.43-.59-.52 0-1.04.2-1.43.59L10.3 9.45l-7.72 7.72c-.78.78-.78 2.05 0 2.83L4 21.41c.39.39.9.59 1.41.59.51 0 1.02-.2 1.41-.59l7.78-7.78 2.81-2.81c.8-.78.8-2.07 0-2.86zM5.41 20L4 18.59l7.72-7.72 1.47 1.35L5.41 20z\"/>\n",
              "  </svg>\n",
              "      </button>\n",
              "      \n",
              "  <style>\n",
              "    .colab-df-container {\n",
              "      display:flex;\n",
              "      flex-wrap:wrap;\n",
              "      gap: 12px;\n",
              "    }\n",
              "\n",
              "    .colab-df-convert {\n",
              "      background-color: #E8F0FE;\n",
              "      border: none;\n",
              "      border-radius: 50%;\n",
              "      cursor: pointer;\n",
              "      display: none;\n",
              "      fill: #1967D2;\n",
              "      height: 32px;\n",
              "      padding: 0 0 0 0;\n",
              "      width: 32px;\n",
              "    }\n",
              "\n",
              "    .colab-df-convert:hover {\n",
              "      background-color: #E2EBFA;\n",
              "      box-shadow: 0px 1px 2px rgba(60, 64, 67, 0.3), 0px 1px 3px 1px rgba(60, 64, 67, 0.15);\n",
              "      fill: #174EA6;\n",
              "    }\n",
              "\n",
              "    [theme=dark] .colab-df-convert {\n",
              "      background-color: #3B4455;\n",
              "      fill: #D2E3FC;\n",
              "    }\n",
              "\n",
              "    [theme=dark] .colab-df-convert:hover {\n",
              "      background-color: #434B5C;\n",
              "      box-shadow: 0px 1px 3px 1px rgba(0, 0, 0, 0.15);\n",
              "      filter: drop-shadow(0px 1px 2px rgba(0, 0, 0, 0.3));\n",
              "      fill: #FFFFFF;\n",
              "    }\n",
              "  </style>\n",
              "\n",
              "      <script>\n",
              "        const buttonEl =\n",
              "          document.querySelector('#df-4dc71456-eddb-4b97-86d0-f4caf653aa07 button.colab-df-convert');\n",
              "        buttonEl.style.display =\n",
              "          google.colab.kernel.accessAllowed ? 'block' : 'none';\n",
              "\n",
              "        async function convertToInteractive(key) {\n",
              "          const element = document.querySelector('#df-4dc71456-eddb-4b97-86d0-f4caf653aa07');\n",
              "          const dataTable =\n",
              "            await google.colab.kernel.invokeFunction('convertToInteractive',\n",
              "                                                     [key], {});\n",
              "          if (!dataTable) return;\n",
              "\n",
              "          const docLinkHtml = 'Like what you see? Visit the ' +\n",
              "            '<a target=\"_blank\" href=https://colab.research.google.com/notebooks/data_table.ipynb>data table notebook</a>'\n",
              "            + ' to learn more about interactive tables.';\n",
              "          element.innerHTML = '';\n",
              "          dataTable['output_type'] = 'display_data';\n",
              "          await google.colab.output.renderOutput(dataTable, element);\n",
              "          const docLink = document.createElement('div');\n",
              "          docLink.innerHTML = docLinkHtml;\n",
              "          element.appendChild(docLink);\n",
              "        }\n",
              "      </script>\n",
              "    </div>\n",
              "  </div>\n",
              "  "
            ]
          },
          "metadata": {},
          "execution_count": 3
        }
      ]
    },
    {
      "cell_type": "code",
      "source": [
        "contexto.shape"
      ],
      "metadata": {
        "colab": {
          "base_uri": "https://localhost:8080/"
        },
        "id": "9K7FRYE7BeC1",
        "outputId": "39b5245b-d58a-4c66-ba80-e3af0f4bb63e"
      },
      "execution_count": 4,
      "outputs": [
        {
          "output_type": "execute_result",
          "data": {
            "text/plain": [
              "(424, 17)"
            ]
          },
          "metadata": {},
          "execution_count": 4
        }
      ]
    },
    {
      "cell_type": "code",
      "source": [
        "contexto[\"TI\"]"
      ],
      "metadata": {
        "colab": {
          "base_uri": "https://localhost:8080/"
        },
        "id": "DkOmvPlNDerp",
        "outputId": "ed15c7f2-4f34-4dd3-9a2b-541288fa7a82"
      },
      "execution_count": 5,
      "outputs": [
        {
          "output_type": "execute_result",
          "data": {
            "text/plain": [
              "0      Estados Unidos e Grã-Bretanha no Brasil: trans...\n",
              "1      Colômbia: mais insegurança humana, menos segur...\n",
              "2      Redes transnacionais de advocacia pública: est...\n",
              "3      Direitos de propriedade e cidadania em socieda...\n",
              "4      O Crescimento da área de relações internaciona...\n",
              "                             ...                        \n",
              "419    Explaining the Changes in Brazilian Foreign Po...\n",
              "420    From Municipalist Activism to Institutional Ch...\n",
              "421    Chinese Investments in Brazil: Economic Diplom...\n",
              "422    Military Build-up in Southeast Asia and the So...\n",
              "423    Badges Without Borders: How Global Counterinsu...\n",
              "Name: TI, Length: 424, dtype: object"
            ]
          },
          "metadata": {},
          "execution_count": 5
        }
      ]
    },
    {
      "cell_type": "code",
      "source": [
        "# vetorizando os gráficos\n",
        "%config InlineBackend.figure_formats = ['svg']"
      ],
      "metadata": {
        "id": "_n29Q4INGpLJ"
      },
      "execution_count": 6,
      "outputs": []
    },
    {
      "cell_type": "code",
      "source": [
        "artigos_por_ano_02 = contexto.groupby([\"PY\"]).PY.count()\n",
        "artigos_por_ano_02"
      ],
      "metadata": {
        "colab": {
          "base_uri": "https://localhost:8080/"
        },
        "id": "TXDane6vHzdZ",
        "outputId": "7b35928f-ba4a-47fc-9f8c-0ef00337854a"
      },
      "execution_count": 7,
      "outputs": [
        {
          "output_type": "execute_result",
          "data": {
            "text/plain": [
              "PY\n",
              "2002.0    10\n",
              "2003.0    10\n",
              "2004.0    12\n",
              "2005.0    14\n",
              "2006.0    13\n",
              "2007.0    11\n",
              "2008.0    19\n",
              "2009.0    17\n",
              "2010.0    19\n",
              "2011.0    20\n",
              "2012.0    18\n",
              "2013.0    19\n",
              "2014.0    21\n",
              "2015.0    35\n",
              "2016.0    35\n",
              "2017.0    34\n",
              "2018.0    31\n",
              "2019.0    34\n",
              "2020.0    26\n",
              "2021.0    26\n",
              "Name: PY, dtype: int64"
            ]
          },
          "metadata": {},
          "execution_count": 7
        }
      ]
    },
    {
      "cell_type": "code",
      "source": [
        "artigos_por_ano = contexto[\"PY\"].value_counts(sort=False)\n",
        "frequencia_artigos = artigos_por_ano.plot(kind=\"bar\")\n",
        "frequencia_artigos"
      ],
      "metadata": {
        "colab": {
          "base_uri": "https://localhost:8080/",
          "height": 404
        },
        "id": "lU_HLYI8DzX1",
        "outputId": "ab22fce6-b063-4d54-c343-b39020ff134c"
      },
      "execution_count": 8,
      "outputs": [
        {
          "output_type": "execute_result",
          "data": {
            "text/plain": [
              "<AxesSubplot:>"
            ]
          },
          "metadata": {},
          "execution_count": 8
        },
        {
          "output_type": "display_data",
          "data": {
            "text/plain": [
              "<Figure size 432x288 with 1 Axes>"
            ],
            "image/svg+xml": "<?xml version=\"1.0\" encoding=\"utf-8\" standalone=\"no\"?>\n<!DOCTYPE svg PUBLIC \"-//W3C//DTD SVG 1.1//EN\"\n  \"http://www.w3.org/Graphics/SVG/1.1/DTD/svg11.dtd\">\n<svg xmlns:xlink=\"http://www.w3.org/1999/xlink\" width=\"368.925pt\" height=\"273.830625pt\" viewBox=\"0 0 368.925 273.830625\" xmlns=\"http://www.w3.org/2000/svg\" version=\"1.1\">\n <metadata>\n  <rdf:RDF xmlns:dc=\"http://purl.org/dc/elements/1.1/\" xmlns:cc=\"http://creativecommons.org/ns#\" xmlns:rdf=\"http://www.w3.org/1999/02/22-rdf-syntax-ns#\">\n   <cc:Work>\n    <dc:type rdf:resource=\"http://purl.org/dc/dcmitype/StillImage\"/>\n    <dc:date>2023-03-02T18:27:18.957073</dc:date>\n    <dc:format>image/svg+xml</dc:format>\n    <dc:creator>\n     <cc:Agent>\n      <dc:title>Matplotlib v3.5.3, https://matplotlib.org/</dc:title>\n     </cc:Agent>\n    </dc:creator>\n   </cc:Work>\n  </rdf:RDF>\n </metadata>\n <defs>\n  <style type=\"text/css\">*{stroke-linejoin: round; stroke-linecap: butt}</style>\n </defs>\n <g id=\"figure_1\">\n  <g id=\"patch_1\">\n   <path d=\"M -0 273.830625 \nL 368.925 273.830625 \nL 368.925 0 \nL -0 0 \nL -0 273.830625 \nz\n\" style=\"fill: none\"/>\n  </g>\n  <g id=\"axes_1\">\n   <g id=\"patch_2\">\n    <path d=\"M 26.925 224.64 \nL 361.725 224.64 \nL 361.725 7.2 \nL 26.925 7.2 \nz\n\" style=\"fill: #ffffff\"/>\n   </g>\n   <g id=\"patch_3\">\n    <path d=\"M 31.11 224.64 \nL 39.48 224.64 \nL 39.48 165.472653 \nL 31.11 165.472653 \nz\n\" clip-path=\"url(#p8d6bb9a337)\" style=\"fill: #1f77b4\"/>\n   </g>\n   <g id=\"patch_4\">\n    <path d=\"M 47.85 224.64 \nL 56.22 224.64 \nL 56.22 165.472653 \nL 47.85 165.472653 \nz\n\" clip-path=\"url(#p8d6bb9a337)\" style=\"fill: #1f77b4\"/>\n   </g>\n   <g id=\"patch_5\">\n    <path d=\"M 64.59 224.64 \nL 72.96 224.64 \nL 72.96 153.639184 \nL 64.59 153.639184 \nz\n\" clip-path=\"url(#p8d6bb9a337)\" style=\"fill: #1f77b4\"/>\n   </g>\n   <g id=\"patch_6\">\n    <path d=\"M 81.33 224.64 \nL 89.7 224.64 \nL 89.7 141.805714 \nL 81.33 141.805714 \nz\n\" clip-path=\"url(#p8d6bb9a337)\" style=\"fill: #1f77b4\"/>\n   </g>\n   <g id=\"patch_7\">\n    <path d=\"M 98.07 224.64 \nL 106.44 224.64 \nL 106.44 147.722449 \nL 98.07 147.722449 \nz\n\" clip-path=\"url(#p8d6bb9a337)\" style=\"fill: #1f77b4\"/>\n   </g>\n   <g id=\"patch_8\">\n    <path d=\"M 114.81 224.64 \nL 123.18 224.64 \nL 123.18 159.555918 \nL 114.81 159.555918 \nz\n\" clip-path=\"url(#p8d6bb9a337)\" style=\"fill: #1f77b4\"/>\n   </g>\n   <g id=\"patch_9\">\n    <path d=\"M 131.55 224.64 \nL 139.92 224.64 \nL 139.92 112.222041 \nL 131.55 112.222041 \nz\n\" clip-path=\"url(#p8d6bb9a337)\" style=\"fill: #1f77b4\"/>\n   </g>\n   <g id=\"patch_10\">\n    <path d=\"M 148.29 224.64 \nL 156.66 224.64 \nL 156.66 124.05551 \nL 148.29 124.05551 \nz\n\" clip-path=\"url(#p8d6bb9a337)\" style=\"fill: #1f77b4\"/>\n   </g>\n   <g id=\"patch_11\">\n    <path d=\"M 165.03 224.64 \nL 173.4 224.64 \nL 173.4 112.222041 \nL 165.03 112.222041 \nz\n\" clip-path=\"url(#p8d6bb9a337)\" style=\"fill: #1f77b4\"/>\n   </g>\n   <g id=\"patch_12\">\n    <path d=\"M 181.77 224.64 \nL 190.14 224.64 \nL 190.14 106.305306 \nL 181.77 106.305306 \nz\n\" clip-path=\"url(#p8d6bb9a337)\" style=\"fill: #1f77b4\"/>\n   </g>\n   <g id=\"patch_13\">\n    <path d=\"M 198.51 224.64 \nL 206.88 224.64 \nL 206.88 118.138776 \nL 198.51 118.138776 \nz\n\" clip-path=\"url(#p8d6bb9a337)\" style=\"fill: #1f77b4\"/>\n   </g>\n   <g id=\"patch_14\">\n    <path d=\"M 215.25 224.64 \nL 223.62 224.64 \nL 223.62 112.222041 \nL 215.25 112.222041 \nz\n\" clip-path=\"url(#p8d6bb9a337)\" style=\"fill: #1f77b4\"/>\n   </g>\n   <g id=\"patch_15\">\n    <path d=\"M 231.99 224.64 \nL 240.36 224.64 \nL 240.36 100.388571 \nL 231.99 100.388571 \nz\n\" clip-path=\"url(#p8d6bb9a337)\" style=\"fill: #1f77b4\"/>\n   </g>\n   <g id=\"patch_16\">\n    <path d=\"M 248.73 224.64 \nL 257.1 224.64 \nL 257.1 17.554286 \nL 248.73 17.554286 \nz\n\" clip-path=\"url(#p8d6bb9a337)\" style=\"fill: #1f77b4\"/>\n   </g>\n   <g id=\"patch_17\">\n    <path d=\"M 265.47 224.64 \nL 273.84 224.64 \nL 273.84 17.554286 \nL 265.47 17.554286 \nz\n\" clip-path=\"url(#p8d6bb9a337)\" style=\"fill: #1f77b4\"/>\n   </g>\n   <g id=\"patch_18\">\n    <path d=\"M 282.21 224.64 \nL 290.58 224.64 \nL 290.58 23.47102 \nL 282.21 23.47102 \nz\n\" clip-path=\"url(#p8d6bb9a337)\" style=\"fill: #1f77b4\"/>\n   </g>\n   <g id=\"patch_19\">\n    <path d=\"M 298.95 224.64 \nL 307.32 224.64 \nL 307.32 41.221224 \nL 298.95 41.221224 \nz\n\" clip-path=\"url(#p8d6bb9a337)\" style=\"fill: #1f77b4\"/>\n   </g>\n   <g id=\"patch_20\">\n    <path d=\"M 315.69 224.64 \nL 324.06 224.64 \nL 324.06 23.47102 \nL 315.69 23.47102 \nz\n\" clip-path=\"url(#p8d6bb9a337)\" style=\"fill: #1f77b4\"/>\n   </g>\n   <g id=\"patch_21\">\n    <path d=\"M 332.43 224.64 \nL 340.8 224.64 \nL 340.8 70.804898 \nL 332.43 70.804898 \nz\n\" clip-path=\"url(#p8d6bb9a337)\" style=\"fill: #1f77b4\"/>\n   </g>\n   <g id=\"patch_22\">\n    <path d=\"M 349.17 224.64 \nL 357.54 224.64 \nL 357.54 70.804898 \nL 349.17 70.804898 \nz\n\" clip-path=\"url(#p8d6bb9a337)\" style=\"fill: #1f77b4\"/>\n   </g>\n   <g id=\"matplotlib.axis_1\">\n    <g id=\"xtick_1\">\n     <g id=\"line2d_1\">\n      <defs>\n       <path id=\"m40108881c2\" d=\"M 0 0 \nL 0 3.5 \n\" style=\"stroke: #000000; stroke-width: 0.8\"/>\n      </defs>\n      <g>\n       <use xlink:href=\"#m40108881c2\" x=\"35.295\" y=\"224.64\" style=\"stroke: #000000; stroke-width: 0.8\"/>\n      </g>\n     </g>\n     <g id=\"text_1\">\n      <!-- 2002.0 -->\n      <g transform=\"translate(38.054375 266.630625)rotate(-90)scale(0.1 -0.1)\">\n       <defs>\n        <path id=\"DejaVuSans-32\" d=\"M 1228 531 \nL 3431 531 \nL 3431 0 \nL 469 0 \nL 469 531 \nQ 828 903 1448 1529 \nQ 2069 2156 2228 2338 \nQ 2531 2678 2651 2914 \nQ 2772 3150 2772 3378 \nQ 2772 3750 2511 3984 \nQ 2250 4219 1831 4219 \nQ 1534 4219 1204 4116 \nQ 875 4013 500 3803 \nL 500 4441 \nQ 881 4594 1212 4672 \nQ 1544 4750 1819 4750 \nQ 2544 4750 2975 4387 \nQ 3406 4025 3406 3419 \nQ 3406 3131 3298 2873 \nQ 3191 2616 2906 2266 \nQ 2828 2175 2409 1742 \nQ 1991 1309 1228 531 \nz\n\" transform=\"scale(0.015625)\"/>\n        <path id=\"DejaVuSans-30\" d=\"M 2034 4250 \nQ 1547 4250 1301 3770 \nQ 1056 3291 1056 2328 \nQ 1056 1369 1301 889 \nQ 1547 409 2034 409 \nQ 2525 409 2770 889 \nQ 3016 1369 3016 2328 \nQ 3016 3291 2770 3770 \nQ 2525 4250 2034 4250 \nz\nM 2034 4750 \nQ 2819 4750 3233 4129 \nQ 3647 3509 3647 2328 \nQ 3647 1150 3233 529 \nQ 2819 -91 2034 -91 \nQ 1250 -91 836 529 \nQ 422 1150 422 2328 \nQ 422 3509 836 4129 \nQ 1250 4750 2034 4750 \nz\n\" transform=\"scale(0.015625)\"/>\n        <path id=\"DejaVuSans-2e\" d=\"M 684 794 \nL 1344 794 \nL 1344 0 \nL 684 0 \nL 684 794 \nz\n\" transform=\"scale(0.015625)\"/>\n       </defs>\n       <use xlink:href=\"#DejaVuSans-32\"/>\n       <use xlink:href=\"#DejaVuSans-30\" x=\"63.623047\"/>\n       <use xlink:href=\"#DejaVuSans-30\" x=\"127.246094\"/>\n       <use xlink:href=\"#DejaVuSans-32\" x=\"190.869141\"/>\n       <use xlink:href=\"#DejaVuSans-2e\" x=\"254.492188\"/>\n       <use xlink:href=\"#DejaVuSans-30\" x=\"286.279297\"/>\n      </g>\n     </g>\n    </g>\n    <g id=\"xtick_2\">\n     <g id=\"line2d_2\">\n      <g>\n       <use xlink:href=\"#m40108881c2\" x=\"52.035\" y=\"224.64\" style=\"stroke: #000000; stroke-width: 0.8\"/>\n      </g>\n     </g>\n     <g id=\"text_2\">\n      <!-- 2003.0 -->\n      <g transform=\"translate(54.794375 266.630625)rotate(-90)scale(0.1 -0.1)\">\n       <defs>\n        <path id=\"DejaVuSans-33\" d=\"M 2597 2516 \nQ 3050 2419 3304 2112 \nQ 3559 1806 3559 1356 \nQ 3559 666 3084 287 \nQ 2609 -91 1734 -91 \nQ 1441 -91 1130 -33 \nQ 819 25 488 141 \nL 488 750 \nQ 750 597 1062 519 \nQ 1375 441 1716 441 \nQ 2309 441 2620 675 \nQ 2931 909 2931 1356 \nQ 2931 1769 2642 2001 \nQ 2353 2234 1838 2234 \nL 1294 2234 \nL 1294 2753 \nL 1863 2753 \nQ 2328 2753 2575 2939 \nQ 2822 3125 2822 3475 \nQ 2822 3834 2567 4026 \nQ 2313 4219 1838 4219 \nQ 1578 4219 1281 4162 \nQ 984 4106 628 3988 \nL 628 4550 \nQ 988 4650 1302 4700 \nQ 1616 4750 1894 4750 \nQ 2613 4750 3031 4423 \nQ 3450 4097 3450 3541 \nQ 3450 3153 3228 2886 \nQ 3006 2619 2597 2516 \nz\n\" transform=\"scale(0.015625)\"/>\n       </defs>\n       <use xlink:href=\"#DejaVuSans-32\"/>\n       <use xlink:href=\"#DejaVuSans-30\" x=\"63.623047\"/>\n       <use xlink:href=\"#DejaVuSans-30\" x=\"127.246094\"/>\n       <use xlink:href=\"#DejaVuSans-33\" x=\"190.869141\"/>\n       <use xlink:href=\"#DejaVuSans-2e\" x=\"254.492188\"/>\n       <use xlink:href=\"#DejaVuSans-30\" x=\"286.279297\"/>\n      </g>\n     </g>\n    </g>\n    <g id=\"xtick_3\">\n     <g id=\"line2d_3\">\n      <g>\n       <use xlink:href=\"#m40108881c2\" x=\"68.775\" y=\"224.64\" style=\"stroke: #000000; stroke-width: 0.8\"/>\n      </g>\n     </g>\n     <g id=\"text_3\">\n      <!-- 2004.0 -->\n      <g transform=\"translate(71.534375 266.630625)rotate(-90)scale(0.1 -0.1)\">\n       <defs>\n        <path id=\"DejaVuSans-34\" d=\"M 2419 4116 \nL 825 1625 \nL 2419 1625 \nL 2419 4116 \nz\nM 2253 4666 \nL 3047 4666 \nL 3047 1625 \nL 3713 1625 \nL 3713 1100 \nL 3047 1100 \nL 3047 0 \nL 2419 0 \nL 2419 1100 \nL 313 1100 \nL 313 1709 \nL 2253 4666 \nz\n\" transform=\"scale(0.015625)\"/>\n       </defs>\n       <use xlink:href=\"#DejaVuSans-32\"/>\n       <use xlink:href=\"#DejaVuSans-30\" x=\"63.623047\"/>\n       <use xlink:href=\"#DejaVuSans-30\" x=\"127.246094\"/>\n       <use xlink:href=\"#DejaVuSans-34\" x=\"190.869141\"/>\n       <use xlink:href=\"#DejaVuSans-2e\" x=\"254.492188\"/>\n       <use xlink:href=\"#DejaVuSans-30\" x=\"286.279297\"/>\n      </g>\n     </g>\n    </g>\n    <g id=\"xtick_4\">\n     <g id=\"line2d_4\">\n      <g>\n       <use xlink:href=\"#m40108881c2\" x=\"85.515\" y=\"224.64\" style=\"stroke: #000000; stroke-width: 0.8\"/>\n      </g>\n     </g>\n     <g id=\"text_4\">\n      <!-- 2005.0 -->\n      <g transform=\"translate(88.274375 266.630625)rotate(-90)scale(0.1 -0.1)\">\n       <defs>\n        <path id=\"DejaVuSans-35\" d=\"M 691 4666 \nL 3169 4666 \nL 3169 4134 \nL 1269 4134 \nL 1269 2991 \nQ 1406 3038 1543 3061 \nQ 1681 3084 1819 3084 \nQ 2600 3084 3056 2656 \nQ 3513 2228 3513 1497 \nQ 3513 744 3044 326 \nQ 2575 -91 1722 -91 \nQ 1428 -91 1123 -41 \nQ 819 9 494 109 \nL 494 744 \nQ 775 591 1075 516 \nQ 1375 441 1709 441 \nQ 2250 441 2565 725 \nQ 2881 1009 2881 1497 \nQ 2881 1984 2565 2268 \nQ 2250 2553 1709 2553 \nQ 1456 2553 1204 2497 \nQ 953 2441 691 2322 \nL 691 4666 \nz\n\" transform=\"scale(0.015625)\"/>\n       </defs>\n       <use xlink:href=\"#DejaVuSans-32\"/>\n       <use xlink:href=\"#DejaVuSans-30\" x=\"63.623047\"/>\n       <use xlink:href=\"#DejaVuSans-30\" x=\"127.246094\"/>\n       <use xlink:href=\"#DejaVuSans-35\" x=\"190.869141\"/>\n       <use xlink:href=\"#DejaVuSans-2e\" x=\"254.492188\"/>\n       <use xlink:href=\"#DejaVuSans-30\" x=\"286.279297\"/>\n      </g>\n     </g>\n    </g>\n    <g id=\"xtick_5\">\n     <g id=\"line2d_5\">\n      <g>\n       <use xlink:href=\"#m40108881c2\" x=\"102.255\" y=\"224.64\" style=\"stroke: #000000; stroke-width: 0.8\"/>\n      </g>\n     </g>\n     <g id=\"text_5\">\n      <!-- 2006.0 -->\n      <g transform=\"translate(105.014375 266.630625)rotate(-90)scale(0.1 -0.1)\">\n       <defs>\n        <path id=\"DejaVuSans-36\" d=\"M 2113 2584 \nQ 1688 2584 1439 2293 \nQ 1191 2003 1191 1497 \nQ 1191 994 1439 701 \nQ 1688 409 2113 409 \nQ 2538 409 2786 701 \nQ 3034 994 3034 1497 \nQ 3034 2003 2786 2293 \nQ 2538 2584 2113 2584 \nz\nM 3366 4563 \nL 3366 3988 \nQ 3128 4100 2886 4159 \nQ 2644 4219 2406 4219 \nQ 1781 4219 1451 3797 \nQ 1122 3375 1075 2522 \nQ 1259 2794 1537 2939 \nQ 1816 3084 2150 3084 \nQ 2853 3084 3261 2657 \nQ 3669 2231 3669 1497 \nQ 3669 778 3244 343 \nQ 2819 -91 2113 -91 \nQ 1303 -91 875 529 \nQ 447 1150 447 2328 \nQ 447 3434 972 4092 \nQ 1497 4750 2381 4750 \nQ 2619 4750 2861 4703 \nQ 3103 4656 3366 4563 \nz\n\" transform=\"scale(0.015625)\"/>\n       </defs>\n       <use xlink:href=\"#DejaVuSans-32\"/>\n       <use xlink:href=\"#DejaVuSans-30\" x=\"63.623047\"/>\n       <use xlink:href=\"#DejaVuSans-30\" x=\"127.246094\"/>\n       <use xlink:href=\"#DejaVuSans-36\" x=\"190.869141\"/>\n       <use xlink:href=\"#DejaVuSans-2e\" x=\"254.492188\"/>\n       <use xlink:href=\"#DejaVuSans-30\" x=\"286.279297\"/>\n      </g>\n     </g>\n    </g>\n    <g id=\"xtick_6\">\n     <g id=\"line2d_6\">\n      <g>\n       <use xlink:href=\"#m40108881c2\" x=\"118.995\" y=\"224.64\" style=\"stroke: #000000; stroke-width: 0.8\"/>\n      </g>\n     </g>\n     <g id=\"text_6\">\n      <!-- 2007.0 -->\n      <g transform=\"translate(121.754375 266.630625)rotate(-90)scale(0.1 -0.1)\">\n       <defs>\n        <path id=\"DejaVuSans-37\" d=\"M 525 4666 \nL 3525 4666 \nL 3525 4397 \nL 1831 0 \nL 1172 0 \nL 2766 4134 \nL 525 4134 \nL 525 4666 \nz\n\" transform=\"scale(0.015625)\"/>\n       </defs>\n       <use xlink:href=\"#DejaVuSans-32\"/>\n       <use xlink:href=\"#DejaVuSans-30\" x=\"63.623047\"/>\n       <use xlink:href=\"#DejaVuSans-30\" x=\"127.246094\"/>\n       <use xlink:href=\"#DejaVuSans-37\" x=\"190.869141\"/>\n       <use xlink:href=\"#DejaVuSans-2e\" x=\"254.492188\"/>\n       <use xlink:href=\"#DejaVuSans-30\" x=\"286.279297\"/>\n      </g>\n     </g>\n    </g>\n    <g id=\"xtick_7\">\n     <g id=\"line2d_7\">\n      <g>\n       <use xlink:href=\"#m40108881c2\" x=\"135.735\" y=\"224.64\" style=\"stroke: #000000; stroke-width: 0.8\"/>\n      </g>\n     </g>\n     <g id=\"text_7\">\n      <!-- 2008.0 -->\n      <g transform=\"translate(138.494375 266.630625)rotate(-90)scale(0.1 -0.1)\">\n       <defs>\n        <path id=\"DejaVuSans-38\" d=\"M 2034 2216 \nQ 1584 2216 1326 1975 \nQ 1069 1734 1069 1313 \nQ 1069 891 1326 650 \nQ 1584 409 2034 409 \nQ 2484 409 2743 651 \nQ 3003 894 3003 1313 \nQ 3003 1734 2745 1975 \nQ 2488 2216 2034 2216 \nz\nM 1403 2484 \nQ 997 2584 770 2862 \nQ 544 3141 544 3541 \nQ 544 4100 942 4425 \nQ 1341 4750 2034 4750 \nQ 2731 4750 3128 4425 \nQ 3525 4100 3525 3541 \nQ 3525 3141 3298 2862 \nQ 3072 2584 2669 2484 \nQ 3125 2378 3379 2068 \nQ 3634 1759 3634 1313 \nQ 3634 634 3220 271 \nQ 2806 -91 2034 -91 \nQ 1263 -91 848 271 \nQ 434 634 434 1313 \nQ 434 1759 690 2068 \nQ 947 2378 1403 2484 \nz\nM 1172 3481 \nQ 1172 3119 1398 2916 \nQ 1625 2713 2034 2713 \nQ 2441 2713 2670 2916 \nQ 2900 3119 2900 3481 \nQ 2900 3844 2670 4047 \nQ 2441 4250 2034 4250 \nQ 1625 4250 1398 4047 \nQ 1172 3844 1172 3481 \nz\n\" transform=\"scale(0.015625)\"/>\n       </defs>\n       <use xlink:href=\"#DejaVuSans-32\"/>\n       <use xlink:href=\"#DejaVuSans-30\" x=\"63.623047\"/>\n       <use xlink:href=\"#DejaVuSans-30\" x=\"127.246094\"/>\n       <use xlink:href=\"#DejaVuSans-38\" x=\"190.869141\"/>\n       <use xlink:href=\"#DejaVuSans-2e\" x=\"254.492188\"/>\n       <use xlink:href=\"#DejaVuSans-30\" x=\"286.279297\"/>\n      </g>\n     </g>\n    </g>\n    <g id=\"xtick_8\">\n     <g id=\"line2d_8\">\n      <g>\n       <use xlink:href=\"#m40108881c2\" x=\"152.475\" y=\"224.64\" style=\"stroke: #000000; stroke-width: 0.8\"/>\n      </g>\n     </g>\n     <g id=\"text_8\">\n      <!-- 2009.0 -->\n      <g transform=\"translate(155.234375 266.630625)rotate(-90)scale(0.1 -0.1)\">\n       <defs>\n        <path id=\"DejaVuSans-39\" d=\"M 703 97 \nL 703 672 \nQ 941 559 1184 500 \nQ 1428 441 1663 441 \nQ 2288 441 2617 861 \nQ 2947 1281 2994 2138 \nQ 2813 1869 2534 1725 \nQ 2256 1581 1919 1581 \nQ 1219 1581 811 2004 \nQ 403 2428 403 3163 \nQ 403 3881 828 4315 \nQ 1253 4750 1959 4750 \nQ 2769 4750 3195 4129 \nQ 3622 3509 3622 2328 \nQ 3622 1225 3098 567 \nQ 2575 -91 1691 -91 \nQ 1453 -91 1209 -44 \nQ 966 3 703 97 \nz\nM 1959 2075 \nQ 2384 2075 2632 2365 \nQ 2881 2656 2881 3163 \nQ 2881 3666 2632 3958 \nQ 2384 4250 1959 4250 \nQ 1534 4250 1286 3958 \nQ 1038 3666 1038 3163 \nQ 1038 2656 1286 2365 \nQ 1534 2075 1959 2075 \nz\n\" transform=\"scale(0.015625)\"/>\n       </defs>\n       <use xlink:href=\"#DejaVuSans-32\"/>\n       <use xlink:href=\"#DejaVuSans-30\" x=\"63.623047\"/>\n       <use xlink:href=\"#DejaVuSans-30\" x=\"127.246094\"/>\n       <use xlink:href=\"#DejaVuSans-39\" x=\"190.869141\"/>\n       <use xlink:href=\"#DejaVuSans-2e\" x=\"254.492188\"/>\n       <use xlink:href=\"#DejaVuSans-30\" x=\"286.279297\"/>\n      </g>\n     </g>\n    </g>\n    <g id=\"xtick_9\">\n     <g id=\"line2d_9\">\n      <g>\n       <use xlink:href=\"#m40108881c2\" x=\"169.215\" y=\"224.64\" style=\"stroke: #000000; stroke-width: 0.8\"/>\n      </g>\n     </g>\n     <g id=\"text_9\">\n      <!-- 2010.0 -->\n      <g transform=\"translate(171.974375 266.630625)rotate(-90)scale(0.1 -0.1)\">\n       <defs>\n        <path id=\"DejaVuSans-31\" d=\"M 794 531 \nL 1825 531 \nL 1825 4091 \nL 703 3866 \nL 703 4441 \nL 1819 4666 \nL 2450 4666 \nL 2450 531 \nL 3481 531 \nL 3481 0 \nL 794 0 \nL 794 531 \nz\n\" transform=\"scale(0.015625)\"/>\n       </defs>\n       <use xlink:href=\"#DejaVuSans-32\"/>\n       <use xlink:href=\"#DejaVuSans-30\" x=\"63.623047\"/>\n       <use xlink:href=\"#DejaVuSans-31\" x=\"127.246094\"/>\n       <use xlink:href=\"#DejaVuSans-30\" x=\"190.869141\"/>\n       <use xlink:href=\"#DejaVuSans-2e\" x=\"254.492188\"/>\n       <use xlink:href=\"#DejaVuSans-30\" x=\"286.279297\"/>\n      </g>\n     </g>\n    </g>\n    <g id=\"xtick_10\">\n     <g id=\"line2d_10\">\n      <g>\n       <use xlink:href=\"#m40108881c2\" x=\"185.955\" y=\"224.64\" style=\"stroke: #000000; stroke-width: 0.8\"/>\n      </g>\n     </g>\n     <g id=\"text_10\">\n      <!-- 2011.0 -->\n      <g transform=\"translate(188.714375 266.630625)rotate(-90)scale(0.1 -0.1)\">\n       <use xlink:href=\"#DejaVuSans-32\"/>\n       <use xlink:href=\"#DejaVuSans-30\" x=\"63.623047\"/>\n       <use xlink:href=\"#DejaVuSans-31\" x=\"127.246094\"/>\n       <use xlink:href=\"#DejaVuSans-31\" x=\"190.869141\"/>\n       <use xlink:href=\"#DejaVuSans-2e\" x=\"254.492188\"/>\n       <use xlink:href=\"#DejaVuSans-30\" x=\"286.279297\"/>\n      </g>\n     </g>\n    </g>\n    <g id=\"xtick_11\">\n     <g id=\"line2d_11\">\n      <g>\n       <use xlink:href=\"#m40108881c2\" x=\"202.695\" y=\"224.64\" style=\"stroke: #000000; stroke-width: 0.8\"/>\n      </g>\n     </g>\n     <g id=\"text_11\">\n      <!-- 2012.0 -->\n      <g transform=\"translate(205.454375 266.630625)rotate(-90)scale(0.1 -0.1)\">\n       <use xlink:href=\"#DejaVuSans-32\"/>\n       <use xlink:href=\"#DejaVuSans-30\" x=\"63.623047\"/>\n       <use xlink:href=\"#DejaVuSans-31\" x=\"127.246094\"/>\n       <use xlink:href=\"#DejaVuSans-32\" x=\"190.869141\"/>\n       <use xlink:href=\"#DejaVuSans-2e\" x=\"254.492188\"/>\n       <use xlink:href=\"#DejaVuSans-30\" x=\"286.279297\"/>\n      </g>\n     </g>\n    </g>\n    <g id=\"xtick_12\">\n     <g id=\"line2d_12\">\n      <g>\n       <use xlink:href=\"#m40108881c2\" x=\"219.435\" y=\"224.64\" style=\"stroke: #000000; stroke-width: 0.8\"/>\n      </g>\n     </g>\n     <g id=\"text_12\">\n      <!-- 2013.0 -->\n      <g transform=\"translate(222.194375 266.630625)rotate(-90)scale(0.1 -0.1)\">\n       <use xlink:href=\"#DejaVuSans-32\"/>\n       <use xlink:href=\"#DejaVuSans-30\" x=\"63.623047\"/>\n       <use xlink:href=\"#DejaVuSans-31\" x=\"127.246094\"/>\n       <use xlink:href=\"#DejaVuSans-33\" x=\"190.869141\"/>\n       <use xlink:href=\"#DejaVuSans-2e\" x=\"254.492188\"/>\n       <use xlink:href=\"#DejaVuSans-30\" x=\"286.279297\"/>\n      </g>\n     </g>\n    </g>\n    <g id=\"xtick_13\">\n     <g id=\"line2d_13\">\n      <g>\n       <use xlink:href=\"#m40108881c2\" x=\"236.175\" y=\"224.64\" style=\"stroke: #000000; stroke-width: 0.8\"/>\n      </g>\n     </g>\n     <g id=\"text_13\">\n      <!-- 2014.0 -->\n      <g transform=\"translate(238.934375 266.630625)rotate(-90)scale(0.1 -0.1)\">\n       <use xlink:href=\"#DejaVuSans-32\"/>\n       <use xlink:href=\"#DejaVuSans-30\" x=\"63.623047\"/>\n       <use xlink:href=\"#DejaVuSans-31\" x=\"127.246094\"/>\n       <use xlink:href=\"#DejaVuSans-34\" x=\"190.869141\"/>\n       <use xlink:href=\"#DejaVuSans-2e\" x=\"254.492188\"/>\n       <use xlink:href=\"#DejaVuSans-30\" x=\"286.279297\"/>\n      </g>\n     </g>\n    </g>\n    <g id=\"xtick_14\">\n     <g id=\"line2d_14\">\n      <g>\n       <use xlink:href=\"#m40108881c2\" x=\"252.915\" y=\"224.64\" style=\"stroke: #000000; stroke-width: 0.8\"/>\n      </g>\n     </g>\n     <g id=\"text_14\">\n      <!-- 2015.0 -->\n      <g transform=\"translate(255.674375 266.630625)rotate(-90)scale(0.1 -0.1)\">\n       <use xlink:href=\"#DejaVuSans-32\"/>\n       <use xlink:href=\"#DejaVuSans-30\" x=\"63.623047\"/>\n       <use xlink:href=\"#DejaVuSans-31\" x=\"127.246094\"/>\n       <use xlink:href=\"#DejaVuSans-35\" x=\"190.869141\"/>\n       <use xlink:href=\"#DejaVuSans-2e\" x=\"254.492188\"/>\n       <use xlink:href=\"#DejaVuSans-30\" x=\"286.279297\"/>\n      </g>\n     </g>\n    </g>\n    <g id=\"xtick_15\">\n     <g id=\"line2d_15\">\n      <g>\n       <use xlink:href=\"#m40108881c2\" x=\"269.655\" y=\"224.64\" style=\"stroke: #000000; stroke-width: 0.8\"/>\n      </g>\n     </g>\n     <g id=\"text_15\">\n      <!-- 2016.0 -->\n      <g transform=\"translate(272.414375 266.630625)rotate(-90)scale(0.1 -0.1)\">\n       <use xlink:href=\"#DejaVuSans-32\"/>\n       <use xlink:href=\"#DejaVuSans-30\" x=\"63.623047\"/>\n       <use xlink:href=\"#DejaVuSans-31\" x=\"127.246094\"/>\n       <use xlink:href=\"#DejaVuSans-36\" x=\"190.869141\"/>\n       <use xlink:href=\"#DejaVuSans-2e\" x=\"254.492188\"/>\n       <use xlink:href=\"#DejaVuSans-30\" x=\"286.279297\"/>\n      </g>\n     </g>\n    </g>\n    <g id=\"xtick_16\">\n     <g id=\"line2d_16\">\n      <g>\n       <use xlink:href=\"#m40108881c2\" x=\"286.395\" y=\"224.64\" style=\"stroke: #000000; stroke-width: 0.8\"/>\n      </g>\n     </g>\n     <g id=\"text_16\">\n      <!-- 2017.0 -->\n      <g transform=\"translate(289.154375 266.630625)rotate(-90)scale(0.1 -0.1)\">\n       <use xlink:href=\"#DejaVuSans-32\"/>\n       <use xlink:href=\"#DejaVuSans-30\" x=\"63.623047\"/>\n       <use xlink:href=\"#DejaVuSans-31\" x=\"127.246094\"/>\n       <use xlink:href=\"#DejaVuSans-37\" x=\"190.869141\"/>\n       <use xlink:href=\"#DejaVuSans-2e\" x=\"254.492188\"/>\n       <use xlink:href=\"#DejaVuSans-30\" x=\"286.279297\"/>\n      </g>\n     </g>\n    </g>\n    <g id=\"xtick_17\">\n     <g id=\"line2d_17\">\n      <g>\n       <use xlink:href=\"#m40108881c2\" x=\"303.135\" y=\"224.64\" style=\"stroke: #000000; stroke-width: 0.8\"/>\n      </g>\n     </g>\n     <g id=\"text_17\">\n      <!-- 2018.0 -->\n      <g transform=\"translate(305.894375 266.630625)rotate(-90)scale(0.1 -0.1)\">\n       <use xlink:href=\"#DejaVuSans-32\"/>\n       <use xlink:href=\"#DejaVuSans-30\" x=\"63.623047\"/>\n       <use xlink:href=\"#DejaVuSans-31\" x=\"127.246094\"/>\n       <use xlink:href=\"#DejaVuSans-38\" x=\"190.869141\"/>\n       <use xlink:href=\"#DejaVuSans-2e\" x=\"254.492188\"/>\n       <use xlink:href=\"#DejaVuSans-30\" x=\"286.279297\"/>\n      </g>\n     </g>\n    </g>\n    <g id=\"xtick_18\">\n     <g id=\"line2d_18\">\n      <g>\n       <use xlink:href=\"#m40108881c2\" x=\"319.875\" y=\"224.64\" style=\"stroke: #000000; stroke-width: 0.8\"/>\n      </g>\n     </g>\n     <g id=\"text_18\">\n      <!-- 2019.0 -->\n      <g transform=\"translate(322.634375 266.630625)rotate(-90)scale(0.1 -0.1)\">\n       <use xlink:href=\"#DejaVuSans-32\"/>\n       <use xlink:href=\"#DejaVuSans-30\" x=\"63.623047\"/>\n       <use xlink:href=\"#DejaVuSans-31\" x=\"127.246094\"/>\n       <use xlink:href=\"#DejaVuSans-39\" x=\"190.869141\"/>\n       <use xlink:href=\"#DejaVuSans-2e\" x=\"254.492188\"/>\n       <use xlink:href=\"#DejaVuSans-30\" x=\"286.279297\"/>\n      </g>\n     </g>\n    </g>\n    <g id=\"xtick_19\">\n     <g id=\"line2d_19\">\n      <g>\n       <use xlink:href=\"#m40108881c2\" x=\"336.615\" y=\"224.64\" style=\"stroke: #000000; stroke-width: 0.8\"/>\n      </g>\n     </g>\n     <g id=\"text_19\">\n      <!-- 2020.0 -->\n      <g transform=\"translate(339.374375 266.630625)rotate(-90)scale(0.1 -0.1)\">\n       <use xlink:href=\"#DejaVuSans-32\"/>\n       <use xlink:href=\"#DejaVuSans-30\" x=\"63.623047\"/>\n       <use xlink:href=\"#DejaVuSans-32\" x=\"127.246094\"/>\n       <use xlink:href=\"#DejaVuSans-30\" x=\"190.869141\"/>\n       <use xlink:href=\"#DejaVuSans-2e\" x=\"254.492188\"/>\n       <use xlink:href=\"#DejaVuSans-30\" x=\"286.279297\"/>\n      </g>\n     </g>\n    </g>\n    <g id=\"xtick_20\">\n     <g id=\"line2d_20\">\n      <g>\n       <use xlink:href=\"#m40108881c2\" x=\"353.355\" y=\"224.64\" style=\"stroke: #000000; stroke-width: 0.8\"/>\n      </g>\n     </g>\n     <g id=\"text_20\">\n      <!-- 2021.0 -->\n      <g transform=\"translate(356.114375 266.630625)rotate(-90)scale(0.1 -0.1)\">\n       <use xlink:href=\"#DejaVuSans-32\"/>\n       <use xlink:href=\"#DejaVuSans-30\" x=\"63.623047\"/>\n       <use xlink:href=\"#DejaVuSans-32\" x=\"127.246094\"/>\n       <use xlink:href=\"#DejaVuSans-31\" x=\"190.869141\"/>\n       <use xlink:href=\"#DejaVuSans-2e\" x=\"254.492188\"/>\n       <use xlink:href=\"#DejaVuSans-30\" x=\"286.279297\"/>\n      </g>\n     </g>\n    </g>\n   </g>\n   <g id=\"matplotlib.axis_2\">\n    <g id=\"ytick_1\">\n     <g id=\"line2d_21\">\n      <defs>\n       <path id=\"m7b0a415f52\" d=\"M 0 0 \nL -3.5 0 \n\" style=\"stroke: #000000; stroke-width: 0.8\"/>\n      </defs>\n      <g>\n       <use xlink:href=\"#m7b0a415f52\" x=\"26.925\" y=\"224.64\" style=\"stroke: #000000; stroke-width: 0.8\"/>\n      </g>\n     </g>\n     <g id=\"text_21\">\n      <!-- 0 -->\n      <g transform=\"translate(13.5625 228.439219)scale(0.1 -0.1)\">\n       <use xlink:href=\"#DejaVuSans-30\"/>\n      </g>\n     </g>\n    </g>\n    <g id=\"ytick_2\">\n     <g id=\"line2d_22\">\n      <g>\n       <use xlink:href=\"#m7b0a415f52\" x=\"26.925\" y=\"195.056327\" style=\"stroke: #000000; stroke-width: 0.8\"/>\n      </g>\n     </g>\n     <g id=\"text_22\">\n      <!-- 5 -->\n      <g transform=\"translate(13.5625 198.855545)scale(0.1 -0.1)\">\n       <use xlink:href=\"#DejaVuSans-35\"/>\n      </g>\n     </g>\n    </g>\n    <g id=\"ytick_3\">\n     <g id=\"line2d_23\">\n      <g>\n       <use xlink:href=\"#m7b0a415f52\" x=\"26.925\" y=\"165.472653\" style=\"stroke: #000000; stroke-width: 0.8\"/>\n      </g>\n     </g>\n     <g id=\"text_23\">\n      <!-- 10 -->\n      <g transform=\"translate(7.2 169.271872)scale(0.1 -0.1)\">\n       <use xlink:href=\"#DejaVuSans-31\"/>\n       <use xlink:href=\"#DejaVuSans-30\" x=\"63.623047\"/>\n      </g>\n     </g>\n    </g>\n    <g id=\"ytick_4\">\n     <g id=\"line2d_24\">\n      <g>\n       <use xlink:href=\"#m7b0a415f52\" x=\"26.925\" y=\"135.88898\" style=\"stroke: #000000; stroke-width: 0.8\"/>\n      </g>\n     </g>\n     <g id=\"text_24\">\n      <!-- 15 -->\n      <g transform=\"translate(7.2 139.688198)scale(0.1 -0.1)\">\n       <use xlink:href=\"#DejaVuSans-31\"/>\n       <use xlink:href=\"#DejaVuSans-35\" x=\"63.623047\"/>\n      </g>\n     </g>\n    </g>\n    <g id=\"ytick_5\">\n     <g id=\"line2d_25\">\n      <g>\n       <use xlink:href=\"#m7b0a415f52\" x=\"26.925\" y=\"106.305306\" style=\"stroke: #000000; stroke-width: 0.8\"/>\n      </g>\n     </g>\n     <g id=\"text_25\">\n      <!-- 20 -->\n      <g transform=\"translate(7.2 110.104525)scale(0.1 -0.1)\">\n       <use xlink:href=\"#DejaVuSans-32\"/>\n       <use xlink:href=\"#DejaVuSans-30\" x=\"63.623047\"/>\n      </g>\n     </g>\n    </g>\n    <g id=\"ytick_6\">\n     <g id=\"line2d_26\">\n      <g>\n       <use xlink:href=\"#m7b0a415f52\" x=\"26.925\" y=\"76.721633\" style=\"stroke: #000000; stroke-width: 0.8\"/>\n      </g>\n     </g>\n     <g id=\"text_26\">\n      <!-- 25 -->\n      <g transform=\"translate(7.2 80.520851)scale(0.1 -0.1)\">\n       <use xlink:href=\"#DejaVuSans-32\"/>\n       <use xlink:href=\"#DejaVuSans-35\" x=\"63.623047\"/>\n      </g>\n     </g>\n    </g>\n    <g id=\"ytick_7\">\n     <g id=\"line2d_27\">\n      <g>\n       <use xlink:href=\"#m7b0a415f52\" x=\"26.925\" y=\"47.137959\" style=\"stroke: #000000; stroke-width: 0.8\"/>\n      </g>\n     </g>\n     <g id=\"text_27\">\n      <!-- 30 -->\n      <g transform=\"translate(7.2 50.937178)scale(0.1 -0.1)\">\n       <use xlink:href=\"#DejaVuSans-33\"/>\n       <use xlink:href=\"#DejaVuSans-30\" x=\"63.623047\"/>\n      </g>\n     </g>\n    </g>\n    <g id=\"ytick_8\">\n     <g id=\"line2d_28\">\n      <g>\n       <use xlink:href=\"#m7b0a415f52\" x=\"26.925\" y=\"17.554286\" style=\"stroke: #000000; stroke-width: 0.8\"/>\n      </g>\n     </g>\n     <g id=\"text_28\">\n      <!-- 35 -->\n      <g transform=\"translate(7.2 21.353504)scale(0.1 -0.1)\">\n       <use xlink:href=\"#DejaVuSans-33\"/>\n       <use xlink:href=\"#DejaVuSans-35\" x=\"63.623047\"/>\n      </g>\n     </g>\n    </g>\n   </g>\n   <g id=\"patch_23\">\n    <path d=\"M 26.925 224.64 \nL 26.925 7.2 \n\" style=\"fill: none; stroke: #000000; stroke-width: 0.8; stroke-linejoin: miter; stroke-linecap: square\"/>\n   </g>\n   <g id=\"patch_24\">\n    <path d=\"M 361.725 224.64 \nL 361.725 7.2 \n\" style=\"fill: none; stroke: #000000; stroke-width: 0.8; stroke-linejoin: miter; stroke-linecap: square\"/>\n   </g>\n   <g id=\"patch_25\">\n    <path d=\"M 26.925 224.64 \nL 361.725 224.64 \n\" style=\"fill: none; stroke: #000000; stroke-width: 0.8; stroke-linejoin: miter; stroke-linecap: square\"/>\n   </g>\n   <g id=\"patch_26\">\n    <path d=\"M 26.925 7.2 \nL 361.725 7.2 \n\" style=\"fill: none; stroke: #000000; stroke-width: 0.8; stroke-linejoin: miter; stroke-linecap: square\"/>\n   </g>\n  </g>\n </g>\n <defs>\n  <clipPath id=\"p8d6bb9a337\">\n   <rect x=\"26.925\" y=\"7.2\" width=\"334.8\" height=\"217.44\"/>\n  </clipPath>\n </defs>\n</svg>\n"
          },
          "metadata": {
            "needs_background": "light"
          }
        }
      ]
    },
    {
      "cell_type": "code",
      "source": [
        "#graficos gerados pelo plotly\n",
        "import plotly.graph_objects as go \n",
        "import plotly.express as px"
      ],
      "metadata": {
        "id": "7Y8nD3dSGdIW"
      },
      "execution_count": 9,
      "outputs": []
    },
    {
      "cell_type": "code",
      "source": [
        "frequencia_artigos = artigos_por_ano.plot(kind=\"line\")\n",
        "frequencia_artigos"
      ],
      "metadata": {
        "colab": {
          "base_uri": "https://localhost:8080/",
          "height": 370
        },
        "id": "VQCTqCSNHs8M",
        "outputId": "c498a5e0-6763-49e4-b1ee-61fc96e6d398"
      },
      "execution_count": 10,
      "outputs": [
        {
          "output_type": "execute_result",
          "data": {
            "text/plain": [
              "<AxesSubplot:>"
            ]
          },
          "metadata": {},
          "execution_count": 10
        },
        {
          "output_type": "display_data",
          "data": {
            "text/plain": [
              "<Figure size 432x288 with 1 Axes>"
            ],
            "image/svg+xml": "<?xml version=\"1.0\" encoding=\"utf-8\" standalone=\"no\"?>\n<!DOCTYPE svg PUBLIC \"-//W3C//DTD SVG 1.1//EN\"\n  \"http://www.w3.org/Graphics/SVG/1.1/DTD/svg11.dtd\">\n<svg xmlns:xlink=\"http://www.w3.org/1999/xlink\" width=\"368.925pt\" height=\"248.518125pt\" viewBox=\"0 0 368.925 248.518125\" xmlns=\"http://www.w3.org/2000/svg\" version=\"1.1\">\n <metadata>\n  <rdf:RDF xmlns:dc=\"http://purl.org/dc/elements/1.1/\" xmlns:cc=\"http://creativecommons.org/ns#\" xmlns:rdf=\"http://www.w3.org/1999/02/22-rdf-syntax-ns#\">\n   <cc:Work>\n    <dc:type rdf:resource=\"http://purl.org/dc/dcmitype/StillImage\"/>\n    <dc:date>2023-03-02T18:27:22.133402</dc:date>\n    <dc:format>image/svg+xml</dc:format>\n    <dc:creator>\n     <cc:Agent>\n      <dc:title>Matplotlib v3.5.3, https://matplotlib.org/</dc:title>\n     </cc:Agent>\n    </dc:creator>\n   </cc:Work>\n  </rdf:RDF>\n </metadata>\n <defs>\n  <style type=\"text/css\">*{stroke-linejoin: round; stroke-linecap: butt}</style>\n </defs>\n <g id=\"figure_1\">\n  <g id=\"patch_1\">\n   <path d=\"M -0 248.518125 \nL 368.925 248.518125 \nL 368.925 0 \nL -0 0 \nL -0 248.518125 \nz\n\" style=\"fill: none\"/>\n  </g>\n  <g id=\"axes_1\">\n   <g id=\"patch_2\">\n    <path d=\"M 26.925 224.64 \nL 361.725 224.64 \nL 361.725 7.2 \nL 26.925 7.2 \nz\n\" style=\"fill: #ffffff\"/>\n   </g>\n   <g id=\"matplotlib.axis_1\">\n    <g id=\"xtick_1\">\n     <g id=\"line2d_1\">\n      <defs>\n       <path id=\"m35ead591bb\" d=\"M 0 0 \nL 0 3.5 \n\" style=\"stroke: #000000; stroke-width: 0.8\"/>\n      </defs>\n      <g>\n       <use xlink:href=\"#m35ead591bb\" x=\"50.152751\" y=\"224.64\" style=\"stroke: #000000; stroke-width: 0.8\"/>\n      </g>\n     </g>\n     <g id=\"text_1\">\n      <!-- 2002.5 -->\n      <g transform=\"translate(32.657439 239.238437)scale(0.1 -0.1)\">\n       <defs>\n        <path id=\"DejaVuSans-32\" d=\"M 1228 531 \nL 3431 531 \nL 3431 0 \nL 469 0 \nL 469 531 \nQ 828 903 1448 1529 \nQ 2069 2156 2228 2338 \nQ 2531 2678 2651 2914 \nQ 2772 3150 2772 3378 \nQ 2772 3750 2511 3984 \nQ 2250 4219 1831 4219 \nQ 1534 4219 1204 4116 \nQ 875 4013 500 3803 \nL 500 4441 \nQ 881 4594 1212 4672 \nQ 1544 4750 1819 4750 \nQ 2544 4750 2975 4387 \nQ 3406 4025 3406 3419 \nQ 3406 3131 3298 2873 \nQ 3191 2616 2906 2266 \nQ 2828 2175 2409 1742 \nQ 1991 1309 1228 531 \nz\n\" transform=\"scale(0.015625)\"/>\n        <path id=\"DejaVuSans-30\" d=\"M 2034 4250 \nQ 1547 4250 1301 3770 \nQ 1056 3291 1056 2328 \nQ 1056 1369 1301 889 \nQ 1547 409 2034 409 \nQ 2525 409 2770 889 \nQ 3016 1369 3016 2328 \nQ 3016 3291 2770 3770 \nQ 2525 4250 2034 4250 \nz\nM 2034 4750 \nQ 2819 4750 3233 4129 \nQ 3647 3509 3647 2328 \nQ 3647 1150 3233 529 \nQ 2819 -91 2034 -91 \nQ 1250 -91 836 529 \nQ 422 1150 422 2328 \nQ 422 3509 836 4129 \nQ 1250 4750 2034 4750 \nz\n\" transform=\"scale(0.015625)\"/>\n        <path id=\"DejaVuSans-2e\" d=\"M 684 794 \nL 1344 794 \nL 1344 0 \nL 684 0 \nL 684 794 \nz\n\" transform=\"scale(0.015625)\"/>\n        <path id=\"DejaVuSans-35\" d=\"M 691 4666 \nL 3169 4666 \nL 3169 4134 \nL 1269 4134 \nL 1269 2991 \nQ 1406 3038 1543 3061 \nQ 1681 3084 1819 3084 \nQ 2600 3084 3056 2656 \nQ 3513 2228 3513 1497 \nQ 3513 744 3044 326 \nQ 2575 -91 1722 -91 \nQ 1428 -91 1123 -41 \nQ 819 9 494 109 \nL 494 744 \nQ 775 591 1075 516 \nQ 1375 441 1709 441 \nQ 2250 441 2565 725 \nQ 2881 1009 2881 1497 \nQ 2881 1984 2565 2268 \nQ 2250 2553 1709 2553 \nQ 1456 2553 1204 2497 \nQ 953 2441 691 2322 \nL 691 4666 \nz\n\" transform=\"scale(0.015625)\"/>\n       </defs>\n       <use xlink:href=\"#DejaVuSans-32\"/>\n       <use xlink:href=\"#DejaVuSans-30\" x=\"63.623047\"/>\n       <use xlink:href=\"#DejaVuSans-30\" x=\"127.246094\"/>\n       <use xlink:href=\"#DejaVuSans-32\" x=\"190.869141\"/>\n       <use xlink:href=\"#DejaVuSans-2e\" x=\"254.492188\"/>\n       <use xlink:href=\"#DejaVuSans-35\" x=\"286.279297\"/>\n      </g>\n     </g>\n    </g>\n    <g id=\"xtick_2\">\n     <g id=\"line2d_2\">\n      <g>\n       <use xlink:href=\"#m35ead591bb\" x=\"90.200598\" y=\"224.64\" style=\"stroke: #000000; stroke-width: 0.8\"/>\n      </g>\n     </g>\n     <g id=\"text_2\">\n      <!-- 2005.0 -->\n      <g transform=\"translate(72.705286 239.238437)scale(0.1 -0.1)\">\n       <use xlink:href=\"#DejaVuSans-32\"/>\n       <use xlink:href=\"#DejaVuSans-30\" x=\"63.623047\"/>\n       <use xlink:href=\"#DejaVuSans-30\" x=\"127.246094\"/>\n       <use xlink:href=\"#DejaVuSans-35\" x=\"190.869141\"/>\n       <use xlink:href=\"#DejaVuSans-2e\" x=\"254.492188\"/>\n       <use xlink:href=\"#DejaVuSans-30\" x=\"286.279297\"/>\n      </g>\n     </g>\n    </g>\n    <g id=\"xtick_3\">\n     <g id=\"line2d_3\">\n      <g>\n       <use xlink:href=\"#m35ead591bb\" x=\"130.248445\" y=\"224.64\" style=\"stroke: #000000; stroke-width: 0.8\"/>\n      </g>\n     </g>\n     <g id=\"text_3\">\n      <!-- 2007.5 -->\n      <g transform=\"translate(112.753132 239.238437)scale(0.1 -0.1)\">\n       <defs>\n        <path id=\"DejaVuSans-37\" d=\"M 525 4666 \nL 3525 4666 \nL 3525 4397 \nL 1831 0 \nL 1172 0 \nL 2766 4134 \nL 525 4134 \nL 525 4666 \nz\n\" transform=\"scale(0.015625)\"/>\n       </defs>\n       <use xlink:href=\"#DejaVuSans-32\"/>\n       <use xlink:href=\"#DejaVuSans-30\" x=\"63.623047\"/>\n       <use xlink:href=\"#DejaVuSans-30\" x=\"127.246094\"/>\n       <use xlink:href=\"#DejaVuSans-37\" x=\"190.869141\"/>\n       <use xlink:href=\"#DejaVuSans-2e\" x=\"254.492188\"/>\n       <use xlink:href=\"#DejaVuSans-35\" x=\"286.279297\"/>\n      </g>\n     </g>\n    </g>\n    <g id=\"xtick_4\">\n     <g id=\"line2d_4\">\n      <g>\n       <use xlink:href=\"#m35ead591bb\" x=\"170.296292\" y=\"224.64\" style=\"stroke: #000000; stroke-width: 0.8\"/>\n      </g>\n     </g>\n     <g id=\"text_4\">\n      <!-- 2010.0 -->\n      <g transform=\"translate(152.800979 239.238437)scale(0.1 -0.1)\">\n       <defs>\n        <path id=\"DejaVuSans-31\" d=\"M 794 531 \nL 1825 531 \nL 1825 4091 \nL 703 3866 \nL 703 4441 \nL 1819 4666 \nL 2450 4666 \nL 2450 531 \nL 3481 531 \nL 3481 0 \nL 794 0 \nL 794 531 \nz\n\" transform=\"scale(0.015625)\"/>\n       </defs>\n       <use xlink:href=\"#DejaVuSans-32\"/>\n       <use xlink:href=\"#DejaVuSans-30\" x=\"63.623047\"/>\n       <use xlink:href=\"#DejaVuSans-31\" x=\"127.246094\"/>\n       <use xlink:href=\"#DejaVuSans-30\" x=\"190.869141\"/>\n       <use xlink:href=\"#DejaVuSans-2e\" x=\"254.492188\"/>\n       <use xlink:href=\"#DejaVuSans-30\" x=\"286.279297\"/>\n      </g>\n     </g>\n    </g>\n    <g id=\"xtick_5\">\n     <g id=\"line2d_5\">\n      <g>\n       <use xlink:href=\"#m35ead591bb\" x=\"210.344139\" y=\"224.64\" style=\"stroke: #000000; stroke-width: 0.8\"/>\n      </g>\n     </g>\n     <g id=\"text_5\">\n      <!-- 2012.5 -->\n      <g transform=\"translate(192.848826 239.238437)scale(0.1 -0.1)\">\n       <use xlink:href=\"#DejaVuSans-32\"/>\n       <use xlink:href=\"#DejaVuSans-30\" x=\"63.623047\"/>\n       <use xlink:href=\"#DejaVuSans-31\" x=\"127.246094\"/>\n       <use xlink:href=\"#DejaVuSans-32\" x=\"190.869141\"/>\n       <use xlink:href=\"#DejaVuSans-2e\" x=\"254.492188\"/>\n       <use xlink:href=\"#DejaVuSans-35\" x=\"286.279297\"/>\n      </g>\n     </g>\n    </g>\n    <g id=\"xtick_6\">\n     <g id=\"line2d_6\">\n      <g>\n       <use xlink:href=\"#m35ead591bb\" x=\"250.391986\" y=\"224.64\" style=\"stroke: #000000; stroke-width: 0.8\"/>\n      </g>\n     </g>\n     <g id=\"text_6\">\n      <!-- 2015.0 -->\n      <g transform=\"translate(232.896673 239.238437)scale(0.1 -0.1)\">\n       <use xlink:href=\"#DejaVuSans-32\"/>\n       <use xlink:href=\"#DejaVuSans-30\" x=\"63.623047\"/>\n       <use xlink:href=\"#DejaVuSans-31\" x=\"127.246094\"/>\n       <use xlink:href=\"#DejaVuSans-35\" x=\"190.869141\"/>\n       <use xlink:href=\"#DejaVuSans-2e\" x=\"254.492188\"/>\n       <use xlink:href=\"#DejaVuSans-30\" x=\"286.279297\"/>\n      </g>\n     </g>\n    </g>\n    <g id=\"xtick_7\">\n     <g id=\"line2d_7\">\n      <g>\n       <use xlink:href=\"#m35ead591bb\" x=\"290.439833\" y=\"224.64\" style=\"stroke: #000000; stroke-width: 0.8\"/>\n      </g>\n     </g>\n     <g id=\"text_7\">\n      <!-- 2017.5 -->\n      <g transform=\"translate(272.94452 239.238437)scale(0.1 -0.1)\">\n       <use xlink:href=\"#DejaVuSans-32\"/>\n       <use xlink:href=\"#DejaVuSans-30\" x=\"63.623047\"/>\n       <use xlink:href=\"#DejaVuSans-31\" x=\"127.246094\"/>\n       <use xlink:href=\"#DejaVuSans-37\" x=\"190.869141\"/>\n       <use xlink:href=\"#DejaVuSans-2e\" x=\"254.492188\"/>\n       <use xlink:href=\"#DejaVuSans-35\" x=\"286.279297\"/>\n      </g>\n     </g>\n    </g>\n    <g id=\"xtick_8\">\n     <g id=\"line2d_8\">\n      <g>\n       <use xlink:href=\"#m35ead591bb\" x=\"330.487679\" y=\"224.64\" style=\"stroke: #000000; stroke-width: 0.8\"/>\n      </g>\n     </g>\n     <g id=\"text_8\">\n      <!-- 2020.0 -->\n      <g transform=\"translate(312.992367 239.238437)scale(0.1 -0.1)\">\n       <use xlink:href=\"#DejaVuSans-32\"/>\n       <use xlink:href=\"#DejaVuSans-30\" x=\"63.623047\"/>\n       <use xlink:href=\"#DejaVuSans-32\" x=\"127.246094\"/>\n       <use xlink:href=\"#DejaVuSans-30\" x=\"190.869141\"/>\n       <use xlink:href=\"#DejaVuSans-2e\" x=\"254.492188\"/>\n       <use xlink:href=\"#DejaVuSans-30\" x=\"286.279297\"/>\n      </g>\n     </g>\n    </g>\n   </g>\n   <g id=\"matplotlib.axis_2\">\n    <g id=\"ytick_1\">\n     <g id=\"line2d_9\">\n      <defs>\n       <path id=\"m0f4ab4bf88\" d=\"M 0 0 \nL -3.5 0 \n\" style=\"stroke: #000000; stroke-width: 0.8\"/>\n      </defs>\n      <g>\n       <use xlink:href=\"#m0f4ab4bf88\" x=\"26.925\" y=\"214.756364\" style=\"stroke: #000000; stroke-width: 0.8\"/>\n      </g>\n     </g>\n     <g id=\"text_9\">\n      <!-- 10 -->\n      <g transform=\"translate(7.2 218.555582)scale(0.1 -0.1)\">\n       <use xlink:href=\"#DejaVuSans-31\"/>\n       <use xlink:href=\"#DejaVuSans-30\" x=\"63.623047\"/>\n      </g>\n     </g>\n    </g>\n    <g id=\"ytick_2\">\n     <g id=\"line2d_10\">\n      <g>\n       <use xlink:href=\"#m0f4ab4bf88\" x=\"26.925\" y=\"175.221818\" style=\"stroke: #000000; stroke-width: 0.8\"/>\n      </g>\n     </g>\n     <g id=\"text_10\">\n      <!-- 15 -->\n      <g transform=\"translate(7.2 179.021037)scale(0.1 -0.1)\">\n       <use xlink:href=\"#DejaVuSans-31\"/>\n       <use xlink:href=\"#DejaVuSans-35\" x=\"63.623047\"/>\n      </g>\n     </g>\n    </g>\n    <g id=\"ytick_3\">\n     <g id=\"line2d_11\">\n      <g>\n       <use xlink:href=\"#m0f4ab4bf88\" x=\"26.925\" y=\"135.687273\" style=\"stroke: #000000; stroke-width: 0.8\"/>\n      </g>\n     </g>\n     <g id=\"text_11\">\n      <!-- 20 -->\n      <g transform=\"translate(7.2 139.486491)scale(0.1 -0.1)\">\n       <use xlink:href=\"#DejaVuSans-32\"/>\n       <use xlink:href=\"#DejaVuSans-30\" x=\"63.623047\"/>\n      </g>\n     </g>\n    </g>\n    <g id=\"ytick_4\">\n     <g id=\"line2d_12\">\n      <g>\n       <use xlink:href=\"#m0f4ab4bf88\" x=\"26.925\" y=\"96.152727\" style=\"stroke: #000000; stroke-width: 0.8\"/>\n      </g>\n     </g>\n     <g id=\"text_12\">\n      <!-- 25 -->\n      <g transform=\"translate(7.2 99.951946)scale(0.1 -0.1)\">\n       <use xlink:href=\"#DejaVuSans-32\"/>\n       <use xlink:href=\"#DejaVuSans-35\" x=\"63.623047\"/>\n      </g>\n     </g>\n    </g>\n    <g id=\"ytick_5\">\n     <g id=\"line2d_13\">\n      <g>\n       <use xlink:href=\"#m0f4ab4bf88\" x=\"26.925\" y=\"56.618182\" style=\"stroke: #000000; stroke-width: 0.8\"/>\n      </g>\n     </g>\n     <g id=\"text_13\">\n      <!-- 30 -->\n      <g transform=\"translate(7.2 60.417401)scale(0.1 -0.1)\">\n       <defs>\n        <path id=\"DejaVuSans-33\" d=\"M 2597 2516 \nQ 3050 2419 3304 2112 \nQ 3559 1806 3559 1356 \nQ 3559 666 3084 287 \nQ 2609 -91 1734 -91 \nQ 1441 -91 1130 -33 \nQ 819 25 488 141 \nL 488 750 \nQ 750 597 1062 519 \nQ 1375 441 1716 441 \nQ 2309 441 2620 675 \nQ 2931 909 2931 1356 \nQ 2931 1769 2642 2001 \nQ 2353 2234 1838 2234 \nL 1294 2234 \nL 1294 2753 \nL 1863 2753 \nQ 2328 2753 2575 2939 \nQ 2822 3125 2822 3475 \nQ 2822 3834 2567 4026 \nQ 2313 4219 1838 4219 \nQ 1578 4219 1281 4162 \nQ 984 4106 628 3988 \nL 628 4550 \nQ 988 4650 1302 4700 \nQ 1616 4750 1894 4750 \nQ 2613 4750 3031 4423 \nQ 3450 4097 3450 3541 \nQ 3450 3153 3228 2886 \nQ 3006 2619 2597 2516 \nz\n\" transform=\"scale(0.015625)\"/>\n       </defs>\n       <use xlink:href=\"#DejaVuSans-33\"/>\n       <use xlink:href=\"#DejaVuSans-30\" x=\"63.623047\"/>\n      </g>\n     </g>\n    </g>\n    <g id=\"ytick_6\">\n     <g id=\"line2d_14\">\n      <g>\n       <use xlink:href=\"#m0f4ab4bf88\" x=\"26.925\" y=\"17.083636\" style=\"stroke: #000000; stroke-width: 0.8\"/>\n      </g>\n     </g>\n     <g id=\"text_14\">\n      <!-- 35 -->\n      <g transform=\"translate(7.2 20.882855)scale(0.1 -0.1)\">\n       <use xlink:href=\"#DejaVuSans-33\"/>\n       <use xlink:href=\"#DejaVuSans-35\" x=\"63.623047\"/>\n      </g>\n     </g>\n    </g>\n   </g>\n   <g id=\"line2d_15\">\n    <path d=\"M 42.143182 214.756364 \nL 58.162321 214.756364 \nL 74.181459 198.942545 \nL 90.200598 183.128727 \nL 106.219737 191.035636 \nL 122.238876 206.849455 \nL 138.258014 143.594182 \nL 154.277153 159.408 \nL 170.296292 143.594182 \nL 186.315431 135.687273 \nL 202.334569 151.501091 \nL 218.353708 143.594182 \nL 234.372847 127.780364 \nL 250.391986 17.083636 \nL 266.411124 17.083636 \nL 282.430263 24.990545 \nL 298.449402 48.711273 \nL 314.468541 24.990545 \nL 330.487679 88.245818 \nL 346.506818 88.245818 \n\" clip-path=\"url(#pcc49d3e566)\" style=\"fill: none; stroke: #1f77b4; stroke-width: 1.5; stroke-linecap: square\"/>\n   </g>\n   <g id=\"patch_3\">\n    <path d=\"M 26.925 224.64 \nL 26.925 7.2 \n\" style=\"fill: none; stroke: #000000; stroke-width: 0.8; stroke-linejoin: miter; stroke-linecap: square\"/>\n   </g>\n   <g id=\"patch_4\">\n    <path d=\"M 361.725 224.64 \nL 361.725 7.2 \n\" style=\"fill: none; stroke: #000000; stroke-width: 0.8; stroke-linejoin: miter; stroke-linecap: square\"/>\n   </g>\n   <g id=\"patch_5\">\n    <path d=\"M 26.925 224.64 \nL 361.725 224.64 \n\" style=\"fill: none; stroke: #000000; stroke-width: 0.8; stroke-linejoin: miter; stroke-linecap: square\"/>\n   </g>\n   <g id=\"patch_6\">\n    <path d=\"M 26.925 7.2 \nL 361.725 7.2 \n\" style=\"fill: none; stroke: #000000; stroke-width: 0.8; stroke-linejoin: miter; stroke-linecap: square\"/>\n   </g>\n  </g>\n </g>\n <defs>\n  <clipPath id=\"pcc49d3e566\">\n   <rect x=\"26.925\" y=\"7.2\" width=\"334.8\" height=\"217.44\"/>\n  </clipPath>\n </defs>\n</svg>\n"
          },
          "metadata": {
            "needs_background": "light"
          }
        }
      ]
    },
    {
      "cell_type": "code",
      "source": [
        "frequencia_artigos = artigos_por_ano.plot(kind=\"pie\", autopct=\"%0.2f%%\")\n",
        "frequencia_artigos"
      ],
      "metadata": {
        "colab": {
          "base_uri": "https://localhost:8080/",
          "height": 348
        },
        "id": "3YSF7m2ZJHQi",
        "outputId": "c5921f21-6c28-4482-9dfe-bea3906942ed"
      },
      "execution_count": 11,
      "outputs": [
        {
          "output_type": "execute_result",
          "data": {
            "text/plain": [
              "<AxesSubplot:ylabel='PY'>"
            ]
          },
          "metadata": {},
          "execution_count": 11
        },
        {
          "output_type": "display_data",
          "data": {
            "text/plain": [
              "<Figure size 432x288 with 1 Axes>"
            ],
            "image/svg+xml": "<?xml version=\"1.0\" encoding=\"utf-8\" standalone=\"no\"?>\n<!DOCTYPE svg PUBLIC \"-//W3C//DTD SVG 1.1//EN\"\n  \"http://www.w3.org/Graphics/SVG/1.1/DTD/svg11.dtd\">\n<svg xmlns:xlink=\"http://www.w3.org/1999/xlink\" width=\"274.707976pt\" height=\"231.84pt\" viewBox=\"0 0 274.707976 231.84\" xmlns=\"http://www.w3.org/2000/svg\" version=\"1.1\">\n <metadata>\n  <rdf:RDF xmlns:dc=\"http://purl.org/dc/elements/1.1/\" xmlns:cc=\"http://creativecommons.org/ns#\" xmlns:rdf=\"http://www.w3.org/1999/02/22-rdf-syntax-ns#\">\n   <cc:Work>\n    <dc:type rdf:resource=\"http://purl.org/dc/dcmitype/StillImage\"/>\n    <dc:date>2023-03-02T18:27:23.536508</dc:date>\n    <dc:format>image/svg+xml</dc:format>\n    <dc:creator>\n     <cc:Agent>\n      <dc:title>Matplotlib v3.5.3, https://matplotlib.org/</dc:title>\n     </cc:Agent>\n    </dc:creator>\n   </cc:Work>\n  </rdf:RDF>\n </metadata>\n <defs>\n  <style type=\"text/css\">*{stroke-linejoin: round; stroke-linecap: butt}</style>\n </defs>\n <g id=\"figure_1\">\n  <g id=\"patch_1\">\n   <path d=\"M 0 231.84 \nL 274.707976 231.84 \nL 274.707976 0 \nL 0 0 \nL 0 231.84 \nz\n\" style=\"fill: none\"/>\n  </g>\n  <g id=\"axes_1\">\n   <g id=\"patch_2\">\n    <path d=\"M 224.082252 115.92 \nC 224.082252 113.771616 224.002652 111.62397 223.843615 109.481481 \nC 223.684577 107.338991 223.446213 105.20313 223.129011 103.078292 \nL 137.106252 115.92 \nL 224.082252 115.92 \nz\n\" style=\"fill: #1f77b4\"/>\n   </g>\n   <g id=\"patch_3\">\n    <path d=\"M 223.129011 103.078292 \nC 222.81181 100.953454 222.415989 98.841099 221.942364 96.745572 \nC 221.468739 94.650045 220.917634 92.572786 220.290184 90.51807 \nL 137.106252 115.92 \nL 223.129011 103.078292 \nz\n\" style=\"fill: #ff7f0e\"/>\n   </g>\n   <g id=\"patch_4\">\n    <path d=\"M 220.290184 90.51807 \nC 219.537206 88.052286 218.674962 85.621202 217.706007 83.23202 \nC 216.737052 80.842838 215.662344 78.49792 214.485067 76.204215 \nL 137.106252 115.92 \nL 220.290184 90.51807 \nz\n\" style=\"fill: #2ca02c\"/>\n   </g>\n   <g id=\"patch_5\">\n    <path d=\"M 214.485067 76.204215 \nC 213.111495 73.528066 211.600016 70.924976 209.956724 68.405441 \nC 208.313432 65.885905 206.540538 63.453315 204.645191 61.117479 \nL 137.106252 115.92 \nL 214.485067 76.204215 \nz\n\" style=\"fill: #d62728\"/>\n   </g>\n   <g id=\"patch_6\">\n    <path d=\"M 204.645191 61.117479 \nC 202.885281 58.948555 201.021913 56.865666 199.061567 54.876053 \nC 197.101222 52.88644 195.046173 50.992412 192.903566 49.200555 \nL 137.106252 115.92 \nL 204.645191 61.117479 \nz\n\" style=\"fill: #9467bd\"/>\n   </g>\n   <g id=\"patch_7\">\n    <path d=\"M 192.903566 49.200555 \nC 191.090691 47.684452 189.216776 46.242866 187.286487 44.879388 \nC 185.356198 43.515909 183.37114 42.231671 181.336254 41.02987 \nL 137.106252 115.92 \nL 192.903566 49.200555 \nz\n\" style=\"fill: #8c564b\"/>\n   </g>\n   <g id=\"patch_8\">\n    <path d=\"M 181.336254 41.02987 \nC 177.820486 38.953463 174.162861 37.127206 170.390525 35.564653 \nC 166.61819 34.002101 162.740499 32.707128 158.786235 31.689347 \nL 137.106252 115.92 \nL 181.336254 41.02987 \nz\n\" style=\"fill: #e377c2\"/>\n   </g>\n   <g id=\"patch_9\">\n    <path d=\"M 158.786235 31.689347 \nC 155.2485 30.778775 151.656909 30.091988 148.032809 29.633066 \nC 144.408709 29.174145 140.759293 28.944 137.106252 28.944 \nL 137.106252 115.92 \nL 158.786235 31.689347 \nz\n\" style=\"fill: #7f7f7f\"/>\n   </g>\n   <g id=\"patch_10\">\n    <path d=\"M 137.106252 28.944 \nC 133.023105 28.944 128.945022 29.231529 124.90227 29.804453 \nC 120.859518 30.377377 116.862124 31.234276 112.939756 32.368788 \nL 137.106252 115.92 \nL 137.106252 28.944 \nz\n\" style=\"fill: #bcbd22\"/>\n   </g>\n   <g id=\"patch_11\">\n    <path d=\"M 112.939756 32.368788 \nC 108.810764 33.563065 104.775975 35.061775 100.868567 36.852594 \nC 96.961158 38.643413 93.191869 40.72142 89.591694 43.069528 \nL 137.106252 115.92 \nL 112.939756 32.368788 \nz\n\" style=\"fill: #17becf\"/>\n   </g>\n   <g id=\"patch_12\">\n    <path d=\"M 89.591694 43.069528 \nC 86.351817 45.182641 83.25651 47.509533 80.326396 50.034702 \nC 77.396281 52.559871 74.637879 55.277696 72.069569 58.17007 \nL 137.106252 115.92 \nL 89.591694 43.069528 \nz\n\" style=\"fill: #1f77b4\"/>\n   </g>\n   <g id=\"patch_13\">\n    <path d=\"M 72.069569 58.17007 \nC 69.358459 61.223261 66.865713 64.463578 64.609832 67.866971 \nC 62.35395 71.270364 60.340528 74.828392 58.584508 78.514648 \nL 137.106252 115.92 \nL 72.069569 58.17007 \nz\n\" style=\"fill: #ff7f0e\"/>\n   </g>\n   <g id=\"patch_14\">\n    <path d=\"M 58.584508 78.514648 \nC 56.643467 82.589304 55.022531 86.808872 53.736392 91.135106 \nC 52.450253 95.461339 51.502808 99.881129 50.902646 104.354412 \nL 137.106252 115.92 \nL 58.584508 78.514648 \nz\n\" style=\"fill: #2ca02c\"/>\n   </g>\n   <g id=\"patch_15\">\n    <path d=\"M 50.902646 104.354412 \nC 49.901481 111.816552 49.87347 119.377203 50.819318 126.846557 \nC 51.765166 134.31591 53.67689 141.630932 56.506497 148.60798 \nL 137.106252 115.92 \nL 50.902646 104.354412 \nz\n\" style=\"fill: #d62728\"/>\n   </g>\n   <g id=\"patch_16\">\n    <path d=\"M 56.506497 148.60798 \nC 59.336104 155.585028 63.059714 162.165223 67.583847 168.183369 \nC 72.10798 174.201516 77.394458 179.606828 83.310562 184.263605 \nL 137.106252 115.92 \nL 56.506497 148.60798 \nz\n\" style=\"fill: #9467bd\"/>\n   </g>\n   <g id=\"patch_17\">\n    <path d=\"M 83.310562 184.263605 \nC 89.057184 188.786976 95.351444 192.567538 102.04419 195.515706 \nC 108.736936 198.463873 115.77488 200.556172 122.991245 201.743022 \nL 137.106252 115.92 \nL 83.310562 184.263605 \nz\n\" style=\"fill: #8c564b\"/>\n   </g>\n   <g id=\"patch_18\">\n    <path d=\"M 122.991245 201.743022 \nC 129.569411 202.82491 136.250207 203.146914 142.901929 202.702687 \nC 149.553651 202.258459 156.1323 201.050939 162.508184 199.103931 \nL 137.106252 115.92 \nL 122.991245 201.743022 \nz\n\" style=\"fill: #e377c2\"/>\n   </g>\n   <g id=\"patch_19\">\n    <path d=\"M 162.508184 199.103931 \nC 169.502643 196.968029 176.199864 193.958443 182.441144 190.146493 \nC 188.682423 186.334542 194.418069 181.750576 199.512164 176.503222 \nL 137.106252 115.92 \nL 162.508184 199.103931 \nz\n\" style=\"fill: #7f7f7f\"/>\n   </g>\n   <g id=\"patch_20\">\n    <path d=\"M 199.512164 176.503222 \nC 203.405518 172.492733 206.903223 168.116261 209.956725 163.434557 \nC 213.010227 158.752854 215.60533 153.787686 217.706008 148.607978 \nL 137.106252 115.92 \nL 199.512164 176.503222 \nz\n\" style=\"fill: #bcbd22\"/>\n   </g>\n   <g id=\"patch_21\">\n    <path d=\"M 217.706008 148.607978 \nC 219.806686 143.428271 221.403174 138.058105 222.47331 132.572029 \nC 223.543445 127.085953 224.082252 121.509472 224.082252 115.919998 \nL 137.106252 115.92 \nL 217.706008 148.607978 \nz\n\" style=\"fill: #17becf\"/>\n   </g>\n   <g id=\"matplotlib.axis_1\"/>\n   <g id=\"matplotlib.axis_2\">\n    <g id=\"text_1\">\n     <!-- PY -->\n     <g transform=\"translate(18.806565 121.87625)rotate(-90)scale(0.1 -0.1)\">\n      <defs>\n       <path id=\"DejaVuSans-50\" d=\"M 1259 4147 \nL 1259 2394 \nL 2053 2394 \nQ 2494 2394 2734 2622 \nQ 2975 2850 2975 3272 \nQ 2975 3691 2734 3919 \nQ 2494 4147 2053 4147 \nL 1259 4147 \nz\nM 628 4666 \nL 2053 4666 \nQ 2838 4666 3239 4311 \nQ 3641 3956 3641 3272 \nQ 3641 2581 3239 2228 \nQ 2838 1875 2053 1875 \nL 1259 1875 \nL 1259 0 \nL 628 0 \nL 628 4666 \nz\n\" transform=\"scale(0.015625)\"/>\n       <path id=\"DejaVuSans-59\" d=\"M -13 4666 \nL 666 4666 \nL 1959 2747 \nL 3244 4666 \nL 3922 4666 \nL 2272 2222 \nL 2272 0 \nL 1638 0 \nL 1638 2222 \nL -13 4666 \nz\n\" transform=\"scale(0.015625)\"/>\n      </defs>\n      <use xlink:href=\"#DejaVuSans-50\"/>\n      <use xlink:href=\"#DejaVuSans-59\" x=\"58.052734\"/>\n     </g>\n    </g>\n   </g>\n   <g id=\"text_2\">\n    <!-- 2002.0 -->\n    <g transform=\"translate(232.517351 111.597004)scale(0.1 -0.1)\">\n     <defs>\n      <path id=\"DejaVuSans-32\" d=\"M 1228 531 \nL 3431 531 \nL 3431 0 \nL 469 0 \nL 469 531 \nQ 828 903 1448 1529 \nQ 2069 2156 2228 2338 \nQ 2531 2678 2651 2914 \nQ 2772 3150 2772 3378 \nQ 2772 3750 2511 3984 \nQ 2250 4219 1831 4219 \nQ 1534 4219 1204 4116 \nQ 875 4013 500 3803 \nL 500 4441 \nQ 881 4594 1212 4672 \nQ 1544 4750 1819 4750 \nQ 2544 4750 2975 4387 \nQ 3406 4025 3406 3419 \nQ 3406 3131 3298 2873 \nQ 3191 2616 2906 2266 \nQ 2828 2175 2409 1742 \nQ 1991 1309 1228 531 \nz\n\" transform=\"scale(0.015625)\"/>\n      <path id=\"DejaVuSans-30\" d=\"M 2034 4250 \nQ 1547 4250 1301 3770 \nQ 1056 3291 1056 2328 \nQ 1056 1369 1301 889 \nQ 1547 409 2034 409 \nQ 2525 409 2770 889 \nQ 3016 1369 3016 2328 \nQ 3016 3291 2770 3770 \nQ 2525 4250 2034 4250 \nz\nM 2034 4750 \nQ 2819 4750 3233 4129 \nQ 3647 3509 3647 2328 \nQ 3647 1150 3233 529 \nQ 2819 -91 2034 -91 \nQ 1250 -91 836 529 \nQ 422 1150 422 2328 \nQ 422 3509 836 4129 \nQ 1250 4750 2034 4750 \nz\n\" transform=\"scale(0.015625)\"/>\n      <path id=\"DejaVuSans-2e\" d=\"M 684 794 \nL 1344 794 \nL 1344 0 \nL 684 0 \nL 684 794 \nz\n\" transform=\"scale(0.015625)\"/>\n     </defs>\n     <use xlink:href=\"#DejaVuSans-32\"/>\n     <use xlink:href=\"#DejaVuSans-30\" x=\"63.623047\"/>\n     <use xlink:href=\"#DejaVuSans-30\" x=\"127.246094\"/>\n     <use xlink:href=\"#DejaVuSans-32\" x=\"190.869141\"/>\n     <use xlink:href=\"#DejaVuSans-2e\" x=\"254.492188\"/>\n     <use xlink:href=\"#DejaVuSans-30\" x=\"286.279297\"/>\n    </g>\n   </g>\n   <g id=\"text_3\">\n    <!-- 2.36% -->\n    <g transform=\"translate(173.265076 114.816263)scale(0.1 -0.1)\">\n     <defs>\n      <path id=\"DejaVuSans-33\" d=\"M 2597 2516 \nQ 3050 2419 3304 2112 \nQ 3559 1806 3559 1356 \nQ 3559 666 3084 287 \nQ 2609 -91 1734 -91 \nQ 1441 -91 1130 -33 \nQ 819 25 488 141 \nL 488 750 \nQ 750 597 1062 519 \nQ 1375 441 1716 441 \nQ 2309 441 2620 675 \nQ 2931 909 2931 1356 \nQ 2931 1769 2642 2001 \nQ 2353 2234 1838 2234 \nL 1294 2234 \nL 1294 2753 \nL 1863 2753 \nQ 2328 2753 2575 2939 \nQ 2822 3125 2822 3475 \nQ 2822 3834 2567 4026 \nQ 2313 4219 1838 4219 \nQ 1578 4219 1281 4162 \nQ 984 4106 628 3988 \nL 628 4550 \nQ 988 4650 1302 4700 \nQ 1616 4750 1894 4750 \nQ 2613 4750 3031 4423 \nQ 3450 4097 3450 3541 \nQ 3450 3153 3228 2886 \nQ 3006 2619 2597 2516 \nz\n\" transform=\"scale(0.015625)\"/>\n      <path id=\"DejaVuSans-36\" d=\"M 2113 2584 \nQ 1688 2584 1439 2293 \nQ 1191 2003 1191 1497 \nQ 1191 994 1439 701 \nQ 1688 409 2113 409 \nQ 2538 409 2786 701 \nQ 3034 994 3034 1497 \nQ 3034 2003 2786 2293 \nQ 2538 2584 2113 2584 \nz\nM 3366 4563 \nL 3366 3988 \nQ 3128 4100 2886 4159 \nQ 2644 4219 2406 4219 \nQ 1781 4219 1451 3797 \nQ 1122 3375 1075 2522 \nQ 1259 2794 1537 2939 \nQ 1816 3084 2150 3084 \nQ 2853 3084 3261 2657 \nQ 3669 2231 3669 1497 \nQ 3669 778 3244 343 \nQ 2819 -91 2113 -91 \nQ 1303 -91 875 529 \nQ 447 1150 447 2328 \nQ 447 3434 972 4092 \nQ 1497 4750 2381 4750 \nQ 2619 4750 2861 4703 \nQ 3103 4656 3366 4563 \nz\n\" transform=\"scale(0.015625)\"/>\n      <path id=\"DejaVuSans-25\" d=\"M 4653 2053 \nQ 4381 2053 4226 1822 \nQ 4072 1591 4072 1178 \nQ 4072 772 4226 539 \nQ 4381 306 4653 306 \nQ 4919 306 5073 539 \nQ 5228 772 5228 1178 \nQ 5228 1588 5073 1820 \nQ 4919 2053 4653 2053 \nz\nM 4653 2450 \nQ 5147 2450 5437 2106 \nQ 5728 1763 5728 1178 \nQ 5728 594 5436 251 \nQ 5144 -91 4653 -91 \nQ 4153 -91 3862 251 \nQ 3572 594 3572 1178 \nQ 3572 1766 3864 2108 \nQ 4156 2450 4653 2450 \nz\nM 1428 4353 \nQ 1159 4353 1004 4120 \nQ 850 3888 850 3481 \nQ 850 3069 1003 2837 \nQ 1156 2606 1428 2606 \nQ 1700 2606 1854 2837 \nQ 2009 3069 2009 3481 \nQ 2009 3884 1853 4118 \nQ 1697 4353 1428 4353 \nz\nM 4250 4750 \nL 4750 4750 \nL 1831 -91 \nL 1331 -91 \nL 4250 4750 \nz\nM 1428 4750 \nQ 1922 4750 2215 4408 \nQ 2509 4066 2509 3481 \nQ 2509 2891 2217 2550 \nQ 1925 2209 1428 2209 \nQ 931 2209 642 2551 \nQ 353 2894 353 3481 \nQ 353 4063 643 4406 \nQ 934 4750 1428 4750 \nz\n\" transform=\"scale(0.015625)\"/>\n     </defs>\n     <use xlink:href=\"#DejaVuSans-32\"/>\n     <use xlink:href=\"#DejaVuSans-2e\" x=\"63.623047\"/>\n     <use xlink:href=\"#DejaVuSans-33\" x=\"95.410156\"/>\n     <use xlink:href=\"#DejaVuSans-36\" x=\"159.033203\"/>\n     <use xlink:href=\"#DejaVuSans-25\" x=\"222.65625\"/>\n    </g>\n   </g>\n   <g id=\"text_4\">\n    <!-- 2003.0 -->\n    <g transform=\"translate(230.425975 97.587504)scale(0.1 -0.1)\">\n     <use xlink:href=\"#DejaVuSans-32\"/>\n     <use xlink:href=\"#DejaVuSans-30\" x=\"63.623047\"/>\n     <use xlink:href=\"#DejaVuSans-30\" x=\"127.246094\"/>\n     <use xlink:href=\"#DejaVuSans-33\" x=\"190.869141\"/>\n     <use xlink:href=\"#DejaVuSans-2e\" x=\"254.492188\"/>\n     <use xlink:href=\"#DejaVuSans-30\" x=\"286.279297\"/>\n    </g>\n   </g>\n   <g id=\"text_5\">\n    <!-- 2.36% -->\n    <g transform=\"translate(172.124325 107.174718)scale(0.1 -0.1)\">\n     <use xlink:href=\"#DejaVuSans-32\"/>\n     <use xlink:href=\"#DejaVuSans-2e\" x=\"63.623047\"/>\n     <use xlink:href=\"#DejaVuSans-33\" x=\"95.410156\"/>\n     <use xlink:href=\"#DejaVuSans-36\" x=\"159.033203\"/>\n     <use xlink:href=\"#DejaVuSans-25\" x=\"222.65625\"/>\n    </g>\n   </g>\n   <g id=\"text_6\">\n    <!-- 2004.0 -->\n    <g transform=\"translate(225.765983 82.722597)scale(0.1 -0.1)\">\n     <defs>\n      <path id=\"DejaVuSans-34\" d=\"M 2419 4116 \nL 825 1625 \nL 2419 1625 \nL 2419 4116 \nz\nM 2253 4666 \nL 3047 4666 \nL 3047 1625 \nL 3713 1625 \nL 3713 1100 \nL 3047 1100 \nL 3047 0 \nL 2419 0 \nL 2419 1100 \nL 313 1100 \nL 313 1709 \nL 2253 4666 \nz\n\" transform=\"scale(0.015625)\"/>\n     </defs>\n     <use xlink:href=\"#DejaVuSans-32\"/>\n     <use xlink:href=\"#DejaVuSans-30\" x=\"63.623047\"/>\n     <use xlink:href=\"#DejaVuSans-30\" x=\"127.246094\"/>\n     <use xlink:href=\"#DejaVuSans-34\" x=\"190.869141\"/>\n     <use xlink:href=\"#DejaVuSans-2e\" x=\"254.492188\"/>\n     <use xlink:href=\"#DejaVuSans-30\" x=\"286.279297\"/>\n    </g>\n   </g>\n   <g id=\"text_7\">\n    <!-- 2.83% -->\n    <g transform=\"translate(169.582511 99.066587)scale(0.1 -0.1)\">\n     <defs>\n      <path id=\"DejaVuSans-38\" d=\"M 2034 2216 \nQ 1584 2216 1326 1975 \nQ 1069 1734 1069 1313 \nQ 1069 891 1326 650 \nQ 1584 409 2034 409 \nQ 2484 409 2743 651 \nQ 3003 894 3003 1313 \nQ 3003 1734 2745 1975 \nQ 2488 2216 2034 2216 \nz\nM 1403 2484 \nQ 997 2584 770 2862 \nQ 544 3141 544 3541 \nQ 544 4100 942 4425 \nQ 1341 4750 2034 4750 \nQ 2731 4750 3128 4425 \nQ 3525 4100 3525 3541 \nQ 3525 3141 3298 2862 \nQ 3072 2584 2669 2484 \nQ 3125 2378 3379 2068 \nQ 3634 1759 3634 1313 \nQ 3634 634 3220 271 \nQ 2806 -91 2034 -91 \nQ 1263 -91 848 271 \nQ 434 634 434 1313 \nQ 434 1759 690 2068 \nQ 947 2378 1403 2484 \nz\nM 1172 3481 \nQ 1172 3119 1398 2916 \nQ 1625 2713 2034 2713 \nQ 2441 2713 2670 2916 \nQ 2900 3119 2900 3481 \nQ 2900 3844 2670 4047 \nQ 2441 4250 2034 4250 \nQ 1625 4250 1398 4047 \nQ 1172 3844 1172 3481 \nz\n\" transform=\"scale(0.015625)\"/>\n     </defs>\n     <use xlink:href=\"#DejaVuSans-32\"/>\n     <use xlink:href=\"#DejaVuSans-2e\" x=\"63.623047\"/>\n     <use xlink:href=\"#DejaVuSans-38\" x=\"95.410156\"/>\n     <use xlink:href=\"#DejaVuSans-33\" x=\"159.033203\"/>\n     <use xlink:href=\"#DejaVuSans-25\" x=\"222.65625\"/>\n    </g>\n   </g>\n   <g id=\"text_8\">\n    <!-- 2005.0 -->\n    <g transform=\"translate(217.241771 66.41336)scale(0.1 -0.1)\">\n     <defs>\n      <path id=\"DejaVuSans-35\" d=\"M 691 4666 \nL 3169 4666 \nL 3169 4134 \nL 1269 4134 \nL 1269 2991 \nQ 1406 3038 1543 3061 \nQ 1681 3084 1819 3084 \nQ 2600 3084 3056 2656 \nQ 3513 2228 3513 1497 \nQ 3513 744 3044 326 \nQ 2575 -91 1722 -91 \nQ 1428 -91 1123 -41 \nQ 819 9 494 109 \nL 494 744 \nQ 775 591 1075 516 \nQ 1375 441 1709 441 \nQ 2250 441 2565 725 \nQ 2881 1009 2881 1497 \nQ 2881 1984 2565 2268 \nQ 2250 2553 1709 2553 \nQ 1456 2553 1204 2497 \nQ 953 2441 691 2322 \nL 691 4666 \nz\n\" transform=\"scale(0.015625)\"/>\n     </defs>\n     <use xlink:href=\"#DejaVuSans-32\"/>\n     <use xlink:href=\"#DejaVuSans-30\" x=\"63.623047\"/>\n     <use xlink:href=\"#DejaVuSans-30\" x=\"127.246094\"/>\n     <use xlink:href=\"#DejaVuSans-35\" x=\"190.869141\"/>\n     <use xlink:href=\"#DejaVuSans-2e\" x=\"254.492188\"/>\n     <use xlink:href=\"#DejaVuSans-30\" x=\"286.279297\"/>\n    </g>\n   </g>\n   <g id=\"text_9\">\n    <!-- 3.30% -->\n    <g transform=\"translate(164.932941 90.170639)scale(0.1 -0.1)\">\n     <use xlink:href=\"#DejaVuSans-33\"/>\n     <use xlink:href=\"#DejaVuSans-2e\" x=\"63.623047\"/>\n     <use xlink:href=\"#DejaVuSans-33\" x=\"95.410156\"/>\n     <use xlink:href=\"#DejaVuSans-30\" x=\"159.033203\"/>\n     <use xlink:href=\"#DejaVuSans-25\" x=\"222.65625\"/>\n    </g>\n   </g>\n   <g id=\"text_10\">\n    <!-- 2006.0 -->\n    <g transform=\"translate(205.257099 51.531033)scale(0.1 -0.1)\">\n     <use xlink:href=\"#DejaVuSans-32\"/>\n     <use xlink:href=\"#DejaVuSans-30\" x=\"63.623047\"/>\n     <use xlink:href=\"#DejaVuSans-30\" x=\"127.246094\"/>\n     <use xlink:href=\"#DejaVuSans-36\" x=\"190.869141\"/>\n     <use xlink:href=\"#DejaVuSans-2e\" x=\"254.492188\"/>\n     <use xlink:href=\"#DejaVuSans-30\" x=\"286.279297\"/>\n    </g>\n   </g>\n   <g id=\"text_11\">\n    <!-- 3.07% -->\n    <g transform=\"translate(158.395847 82.053007)scale(0.1 -0.1)\">\n     <defs>\n      <path id=\"DejaVuSans-37\" d=\"M 525 4666 \nL 3525 4666 \nL 3525 4397 \nL 1831 0 \nL 1172 0 \nL 2766 4134 \nL 525 4134 \nL 525 4666 \nz\n\" transform=\"scale(0.015625)\"/>\n     </defs>\n     <use xlink:href=\"#DejaVuSans-33\"/>\n     <use xlink:href=\"#DejaVuSans-2e\" x=\"63.623047\"/>\n     <use xlink:href=\"#DejaVuSans-30\" x=\"95.410156\"/>\n     <use xlink:href=\"#DejaVuSans-37\" x=\"159.033203\"/>\n     <use xlink:href=\"#DejaVuSans-25\" x=\"222.65625\"/>\n    </g>\n   </g>\n   <g id=\"text_12\">\n    <!-- 2007.0 -->\n    <g transform=\"translate(192.30451 40.534701)scale(0.1 -0.1)\">\n     <use xlink:href=\"#DejaVuSans-32\"/>\n     <use xlink:href=\"#DejaVuSans-30\" x=\"63.623047\"/>\n     <use xlink:href=\"#DejaVuSans-30\" x=\"127.246094\"/>\n     <use xlink:href=\"#DejaVuSans-37\" x=\"190.869141\"/>\n     <use xlink:href=\"#DejaVuSans-2e\" x=\"254.492188\"/>\n     <use xlink:href=\"#DejaVuSans-30\" x=\"286.279297\"/>\n    </g>\n   </g>\n   <g id=\"text_13\">\n    <!-- 2.59% -->\n    <g transform=\"translate(151.330799 76.055008)scale(0.1 -0.1)\">\n     <defs>\n      <path id=\"DejaVuSans-39\" d=\"M 703 97 \nL 703 672 \nQ 941 559 1184 500 \nQ 1428 441 1663 441 \nQ 2288 441 2617 861 \nQ 2947 1281 2994 2138 \nQ 2813 1869 2534 1725 \nQ 2256 1581 1919 1581 \nQ 1219 1581 811 2004 \nQ 403 2428 403 3163 \nQ 403 3881 828 4315 \nQ 1253 4750 1959 4750 \nQ 2769 4750 3195 4129 \nQ 3622 3509 3622 2328 \nQ 3622 1225 3098 567 \nQ 2575 -91 1691 -91 \nQ 1453 -91 1209 -44 \nQ 966 3 703 97 \nz\nM 1959 2075 \nQ 2384 2075 2632 2365 \nQ 2881 2656 2881 3163 \nQ 2881 3666 2632 3958 \nQ 2384 4250 1959 4250 \nQ 1534 4250 1286 3958 \nQ 1038 3666 1038 3163 \nQ 1038 2656 1286 2365 \nQ 1534 2075 1959 2075 \nz\n\" transform=\"scale(0.015625)\"/>\n     </defs>\n     <use xlink:href=\"#DejaVuSans-32\"/>\n     <use xlink:href=\"#DejaVuSans-2e\" x=\"63.623047\"/>\n     <use xlink:href=\"#DejaVuSans-35\" x=\"95.410156\"/>\n     <use xlink:href=\"#DejaVuSans-39\" x=\"159.033203\"/>\n     <use xlink:href=\"#DejaVuSans-25\" x=\"222.65625\"/>\n    </g>\n   </g>\n   <g id=\"text_14\">\n    <!-- 2008.0 -->\n    <g transform=\"translate(173.718953 30.288494)scale(0.1 -0.1)\">\n     <use xlink:href=\"#DejaVuSans-32\"/>\n     <use xlink:href=\"#DejaVuSans-30\" x=\"63.623047\"/>\n     <use xlink:href=\"#DejaVuSans-30\" x=\"127.246094\"/>\n     <use xlink:href=\"#DejaVuSans-38\" x=\"190.869141\"/>\n     <use xlink:href=\"#DejaVuSans-2e\" x=\"254.492188\"/>\n     <use xlink:href=\"#DejaVuSans-30\" x=\"286.279297\"/>\n    </g>\n   </g>\n   <g id=\"text_15\">\n    <!-- 4.48% -->\n    <g transform=\"translate(141.193222 70.466167)scale(0.1 -0.1)\">\n     <use xlink:href=\"#DejaVuSans-34\"/>\n     <use xlink:href=\"#DejaVuSans-2e\" x=\"63.623047\"/>\n     <use xlink:href=\"#DejaVuSans-34\" x=\"95.410156\"/>\n     <use xlink:href=\"#DejaVuSans-38\" x=\"159.033203\"/>\n     <use xlink:href=\"#DejaVuSans-25\" x=\"222.65625\"/>\n    </g>\n   </g>\n   <g id=\"text_16\">\n    <!-- 2009.0 -->\n    <g transform=\"translate(149.125465 23.763748)scale(0.1 -0.1)\">\n     <use xlink:href=\"#DejaVuSans-32\"/>\n     <use xlink:href=\"#DejaVuSans-30\" x=\"63.623047\"/>\n     <use xlink:href=\"#DejaVuSans-30\" x=\"127.246094\"/>\n     <use xlink:href=\"#DejaVuSans-39\" x=\"190.869141\"/>\n     <use xlink:href=\"#DejaVuSans-2e\" x=\"254.492188\"/>\n     <use xlink:href=\"#DejaVuSans-30\" x=\"286.279297\"/>\n    </g>\n   </g>\n   <g id=\"text_17\">\n    <!-- 4.01% -->\n    <g transform=\"translate(127.778592 66.907215)scale(0.1 -0.1)\">\n     <defs>\n      <path id=\"DejaVuSans-31\" d=\"M 794 531 \nL 1825 531 \nL 1825 4091 \nL 703 3866 \nL 703 4441 \nL 1819 4666 \nL 2450 4666 \nL 2450 531 \nL 3481 531 \nL 3481 0 \nL 794 0 \nL 794 531 \nz\n\" transform=\"scale(0.015625)\"/>\n     </defs>\n     <use xlink:href=\"#DejaVuSans-34\"/>\n     <use xlink:href=\"#DejaVuSans-2e\" x=\"63.623047\"/>\n     <use xlink:href=\"#DejaVuSans-30\" x=\"95.410156\"/>\n     <use xlink:href=\"#DejaVuSans-31\" x=\"159.033203\"/>\n     <use xlink:href=\"#DejaVuSans-25\" x=\"222.65625\"/>\n    </g>\n   </g>\n   <g id=\"text_18\">\n    <!-- 2010.0 -->\n    <g transform=\"translate(88.691247 23.952274)scale(0.1 -0.1)\">\n     <use xlink:href=\"#DejaVuSans-32\"/>\n     <use xlink:href=\"#DejaVuSans-30\" x=\"63.623047\"/>\n     <use xlink:href=\"#DejaVuSans-31\" x=\"127.246094\"/>\n     <use xlink:href=\"#DejaVuSans-30\" x=\"190.869141\"/>\n     <use xlink:href=\"#DejaVuSans-2e\" x=\"254.492188\"/>\n     <use xlink:href=\"#DejaVuSans-30\" x=\"286.279297\"/>\n    </g>\n   </g>\n   <g id=\"text_19\">\n    <!-- 4.48% -->\n    <g transform=\"translate(113.900269 67.010047)scale(0.1 -0.1)\">\n     <use xlink:href=\"#DejaVuSans-34\"/>\n     <use xlink:href=\"#DejaVuSans-2e\" x=\"63.623047\"/>\n     <use xlink:href=\"#DejaVuSans-34\" x=\"95.410156\"/>\n     <use xlink:href=\"#DejaVuSans-38\" x=\"159.033203\"/>\n     <use xlink:href=\"#DejaVuSans-25\" x=\"222.65625\"/>\n    </g>\n   </g>\n   <g id=\"text_20\">\n    <!-- 2011.0 -->\n    <g transform=\"translate(62.254173 31.705228)scale(0.1 -0.1)\">\n     <use xlink:href=\"#DejaVuSans-32\"/>\n     <use xlink:href=\"#DejaVuSans-30\" x=\"63.623047\"/>\n     <use xlink:href=\"#DejaVuSans-31\" x=\"127.246094\"/>\n     <use xlink:href=\"#DejaVuSans-31\" x=\"190.869141\"/>\n     <use xlink:href=\"#DejaVuSans-2e\" x=\"254.492188\"/>\n     <use xlink:href=\"#DejaVuSans-30\" x=\"286.279297\"/>\n    </g>\n   </g>\n   <g id=\"text_21\">\n    <!-- 4.72% -->\n    <g transform=\"translate(99.480047 71.238931)scale(0.1 -0.1)\">\n     <use xlink:href=\"#DejaVuSans-34\"/>\n     <use xlink:href=\"#DejaVuSans-2e\" x=\"63.623047\"/>\n     <use xlink:href=\"#DejaVuSans-37\" x=\"95.410156\"/>\n     <use xlink:href=\"#DejaVuSans-32\" x=\"159.033203\"/>\n     <use xlink:href=\"#DejaVuSans-25\" x=\"222.65625\"/>\n    </g>\n   </g>\n   <g id=\"text_22\">\n    <!-- 2012.0 -->\n    <g transform=\"translate(39.657785 46.205547)scale(0.1 -0.1)\">\n     <use xlink:href=\"#DejaVuSans-32\"/>\n     <use xlink:href=\"#DejaVuSans-30\" x=\"63.623047\"/>\n     <use xlink:href=\"#DejaVuSans-31\" x=\"127.246094\"/>\n     <use xlink:href=\"#DejaVuSans-32\" x=\"190.869141\"/>\n     <use xlink:href=\"#DejaVuSans-2e\" x=\"254.492188\"/>\n     <use xlink:href=\"#DejaVuSans-30\" x=\"286.279297\"/>\n    </g>\n   </g>\n   <g id=\"text_23\">\n    <!-- 4.25% -->\n    <g transform=\"translate(87.154744 79.148196)scale(0.1 -0.1)\">\n     <use xlink:href=\"#DejaVuSans-34\"/>\n     <use xlink:href=\"#DejaVuSans-2e\" x=\"63.623047\"/>\n     <use xlink:href=\"#DejaVuSans-32\" x=\"95.410156\"/>\n     <use xlink:href=\"#DejaVuSans-35\" x=\"159.033203\"/>\n     <use xlink:href=\"#DejaVuSans-25\" x=\"222.65625\"/>\n    </g>\n   </g>\n   <g id=\"text_24\">\n    <!-- 2013.0 -->\n    <g transform=\"translate(22.369565 65.821043)scale(0.1 -0.1)\">\n     <use xlink:href=\"#DejaVuSans-32\"/>\n     <use xlink:href=\"#DejaVuSans-30\" x=\"63.623047\"/>\n     <use xlink:href=\"#DejaVuSans-31\" x=\"127.246094\"/>\n     <use xlink:href=\"#DejaVuSans-33\" x=\"190.869141\"/>\n     <use xlink:href=\"#DejaVuSans-2e\" x=\"254.492188\"/>\n     <use xlink:href=\"#DejaVuSans-30\" x=\"286.279297\"/>\n    </g>\n   </g>\n   <g id=\"text_25\">\n    <!-- 4.48% -->\n    <g transform=\"translate(77.724806 89.847558)scale(0.1 -0.1)\">\n     <use xlink:href=\"#DejaVuSans-34\"/>\n     <use xlink:href=\"#DejaVuSans-2e\" x=\"63.623047\"/>\n     <use xlink:href=\"#DejaVuSans-34\" x=\"95.410156\"/>\n     <use xlink:href=\"#DejaVuSans-38\" x=\"159.033203\"/>\n     <use xlink:href=\"#DejaVuSans-25\" x=\"222.65625\"/>\n    </g>\n   </g>\n   <g id=\"text_26\">\n    <!-- 2014.0 -->\n    <g transform=\"translate(10.408781 91.415991)scale(0.1 -0.1)\">\n     <use xlink:href=\"#DejaVuSans-32\"/>\n     <use xlink:href=\"#DejaVuSans-30\" x=\"63.623047\"/>\n     <use xlink:href=\"#DejaVuSans-31\" x=\"127.246094\"/>\n     <use xlink:href=\"#DejaVuSans-34\" x=\"190.869141\"/>\n     <use xlink:href=\"#DejaVuSans-2e\" x=\"254.492188\"/>\n     <use xlink:href=\"#DejaVuSans-30\" x=\"286.279297\"/>\n    </g>\n   </g>\n   <g id=\"text_27\">\n    <!-- 4.95% -->\n    <g transform=\"translate(71.200742 103.808438)scale(0.1 -0.1)\">\n     <use xlink:href=\"#DejaVuSans-34\"/>\n     <use xlink:href=\"#DejaVuSans-2e\" x=\"63.623047\"/>\n     <use xlink:href=\"#DejaVuSans-39\" x=\"95.410156\"/>\n     <use xlink:href=\"#DejaVuSans-35\" x=\"159.033203\"/>\n     <use xlink:href=\"#DejaVuSans-25\" x=\"222.65625\"/>\n    </g>\n   </g>\n   <g id=\"text_28\">\n    <!-- 2015.0 -->\n    <g transform=\"translate(7.2 130.698588)scale(0.1 -0.1)\">\n     <use xlink:href=\"#DejaVuSans-32\"/>\n     <use xlink:href=\"#DejaVuSans-30\" x=\"63.623047\"/>\n     <use xlink:href=\"#DejaVuSans-31\" x=\"127.246094\"/>\n     <use xlink:href=\"#DejaVuSans-35\" x=\"190.869141\"/>\n     <use xlink:href=\"#DejaVuSans-2e\" x=\"254.492188\"/>\n     <use xlink:href=\"#DejaVuSans-30\" x=\"286.279297\"/>\n    </g>\n   </g>\n   <g id=\"text_29\">\n    <!-- 8.25% -->\n    <g transform=\"translate(69.450498 125.235309)scale(0.1 -0.1)\">\n     <use xlink:href=\"#DejaVuSans-38\"/>\n     <use xlink:href=\"#DejaVuSans-2e\" x=\"63.623047\"/>\n     <use xlink:href=\"#DejaVuSans-32\" x=\"95.410156\"/>\n     <use xlink:href=\"#DejaVuSans-35\" x=\"159.033203\"/>\n     <use xlink:href=\"#DejaVuSans-25\" x=\"222.65625\"/>\n    </g>\n   </g>\n   <g id=\"text_30\">\n    <!-- 2016.0 -->\n    <g transform=\"translate(25.640982 176.169081)scale(0.1 -0.1)\">\n     <use xlink:href=\"#DejaVuSans-32\"/>\n     <use xlink:href=\"#DejaVuSans-30\" x=\"63.623047\"/>\n     <use xlink:href=\"#DejaVuSans-31\" x=\"127.246094\"/>\n     <use xlink:href=\"#DejaVuSans-36\" x=\"190.869141\"/>\n     <use xlink:href=\"#DejaVuSans-2e\" x=\"254.492188\"/>\n     <use xlink:href=\"#DejaVuSans-30\" x=\"286.279297\"/>\n    </g>\n   </g>\n   <g id=\"text_31\">\n    <!-- 8.25% -->\n    <g transform=\"translate(79.509215 150.037397)scale(0.1 -0.1)\">\n     <use xlink:href=\"#DejaVuSans-38\"/>\n     <use xlink:href=\"#DejaVuSans-2e\" x=\"63.623047\"/>\n     <use xlink:href=\"#DejaVuSans-32\" x=\"95.410156\"/>\n     <use xlink:href=\"#DejaVuSans-35\" x=\"159.033203\"/>\n     <use xlink:href=\"#DejaVuSans-25\" x=\"222.65625\"/>\n    </g>\n   </g>\n   <g id=\"text_32\">\n    <!-- 2017.0 -->\n    <g transform=\"translate(63.547359 206.234651)scale(0.1 -0.1)\">\n     <use xlink:href=\"#DejaVuSans-32\"/>\n     <use xlink:href=\"#DejaVuSans-30\" x=\"63.623047\"/>\n     <use xlink:href=\"#DejaVuSans-31\" x=\"127.246094\"/>\n     <use xlink:href=\"#DejaVuSans-37\" x=\"190.869141\"/>\n     <use xlink:href=\"#DejaVuSans-2e\" x=\"254.492188\"/>\n     <use xlink:href=\"#DejaVuSans-30\" x=\"286.279297\"/>\n    </g>\n   </g>\n   <g id=\"text_33\">\n    <!-- 8.02% -->\n    <g transform=\"translate(100.185421 166.436798)scale(0.1 -0.1)\">\n     <use xlink:href=\"#DejaVuSans-38\"/>\n     <use xlink:href=\"#DejaVuSans-2e\" x=\"63.623047\"/>\n     <use xlink:href=\"#DejaVuSans-30\" x=\"95.410156\"/>\n     <use xlink:href=\"#DejaVuSans-32\" x=\"159.033203\"/>\n     <use xlink:href=\"#DejaVuSans-25\" x=\"222.65625\"/>\n    </g>\n   </g>\n   <g id=\"text_34\">\n    <!-- 2018.0 -->\n    <g transform=\"translate(143.481497 214.14033)scale(0.1 -0.1)\">\n     <use xlink:href=\"#DejaVuSans-32\"/>\n     <use xlink:href=\"#DejaVuSans-30\" x=\"63.623047\"/>\n     <use xlink:href=\"#DejaVuSans-31\" x=\"127.246094\"/>\n     <use xlink:href=\"#DejaVuSans-38\" x=\"190.869141\"/>\n     <use xlink:href=\"#DejaVuSans-2e\" x=\"254.492188\"/>\n     <use xlink:href=\"#DejaVuSans-30\" x=\"286.279297\"/>\n    </g>\n   </g>\n   <g id=\"text_35\">\n    <!-- 7.31% -->\n    <g transform=\"translate(124.700064 170.748987)scale(0.1 -0.1)\">\n     <use xlink:href=\"#DejaVuSans-37\"/>\n     <use xlink:href=\"#DejaVuSans-2e\" x=\"63.623047\"/>\n     <use xlink:href=\"#DejaVuSans-33\" x=\"95.410156\"/>\n     <use xlink:href=\"#DejaVuSans-31\" x=\"159.033203\"/>\n     <use xlink:href=\"#DejaVuSans-25\" x=\"222.65625\"/>\n    </g>\n   </g>\n   <g id=\"text_36\">\n    <!-- 2019.0 -->\n    <g transform=\"translate(186.974633 200.328517)scale(0.1 -0.1)\">\n     <use xlink:href=\"#DejaVuSans-32\"/>\n     <use xlink:href=\"#DejaVuSans-30\" x=\"63.623047\"/>\n     <use xlink:href=\"#DejaVuSans-31\" x=\"127.246094\"/>\n     <use xlink:href=\"#DejaVuSans-39\" x=\"190.869141\"/>\n     <use xlink:href=\"#DejaVuSans-2e\" x=\"254.492188\"/>\n     <use xlink:href=\"#DejaVuSans-30\" x=\"286.279297\"/>\n    </g>\n   </g>\n   <g id=\"text_37\">\n    <!-- 8.02% -->\n    <g transform=\"translate(148.423593 163.215271)scale(0.1 -0.1)\">\n     <use xlink:href=\"#DejaVuSans-38\"/>\n     <use xlink:href=\"#DejaVuSans-2e\" x=\"63.623047\"/>\n     <use xlink:href=\"#DejaVuSans-30\" x=\"95.410156\"/>\n     <use xlink:href=\"#DejaVuSans-32\" x=\"159.033203\"/>\n     <use xlink:href=\"#DejaVuSans-25\" x=\"222.65625\"/>\n    </g>\n   </g>\n   <g id=\"text_38\">\n    <!-- 2020.0 -->\n    <g transform=\"translate(217.241772 170.945388)scale(0.1 -0.1)\">\n     <use xlink:href=\"#DejaVuSans-32\"/>\n     <use xlink:href=\"#DejaVuSans-30\" x=\"63.623047\"/>\n     <use xlink:href=\"#DejaVuSans-32\" x=\"127.246094\"/>\n     <use xlink:href=\"#DejaVuSans-30\" x=\"190.869141\"/>\n     <use xlink:href=\"#DejaVuSans-2e\" x=\"254.492188\"/>\n     <use xlink:href=\"#DejaVuSans-30\" x=\"286.279297\"/>\n    </g>\n   </g>\n   <g id=\"text_39\">\n    <!-- 6.13% -->\n    <g transform=\"translate(164.932942 147.188109)scale(0.1 -0.1)\">\n     <use xlink:href=\"#DejaVuSans-36\"/>\n     <use xlink:href=\"#DejaVuSans-2e\" x=\"63.623047\"/>\n     <use xlink:href=\"#DejaVuSans-31\" x=\"95.410156\"/>\n     <use xlink:href=\"#DejaVuSans-33\" x=\"159.033203\"/>\n     <use xlink:href=\"#DejaVuSans-25\" x=\"222.65625\"/>\n    </g>\n   </g>\n   <g id=\"text_40\">\n    <!-- 2021.0 -->\n    <g transform=\"translate(231.010015 136.996607)scale(0.1 -0.1)\">\n     <use xlink:href=\"#DejaVuSans-32\"/>\n     <use xlink:href=\"#DejaVuSans-30\" x=\"63.623047\"/>\n     <use xlink:href=\"#DejaVuSans-32\" x=\"127.246094\"/>\n     <use xlink:href=\"#DejaVuSans-31\" x=\"190.869141\"/>\n     <use xlink:href=\"#DejaVuSans-2e\" x=\"254.492188\"/>\n     <use xlink:href=\"#DejaVuSans-30\" x=\"286.279297\"/>\n    </g>\n   </g>\n   <g id=\"text_41\">\n    <!-- 6.13% -->\n    <g transform=\"translate(172.442893 128.670592)scale(0.1 -0.1)\">\n     <use xlink:href=\"#DejaVuSans-36\"/>\n     <use xlink:href=\"#DejaVuSans-2e\" x=\"63.623047\"/>\n     <use xlink:href=\"#DejaVuSans-31\" x=\"95.410156\"/>\n     <use xlink:href=\"#DejaVuSans-33\" x=\"159.033203\"/>\n     <use xlink:href=\"#DejaVuSans-25\" x=\"222.65625\"/>\n    </g>\n   </g>\n  </g>\n </g>\n</svg>\n"
          },
          "metadata": {}
        }
      ]
    },
    {
      "cell_type": "code",
      "source": [
        "frequencia_artigos = artigos_por_ano.plot(kind=\"barh\")\n",
        "frequencia_artigos"
      ],
      "metadata": {
        "colab": {
          "base_uri": "https://localhost:8080/",
          "height": 370
        },
        "id": "13_7mhziJxdT",
        "outputId": "b7075d4d-c557-4507-b58e-644d85c02afe"
      },
      "execution_count": 12,
      "outputs": [
        {
          "output_type": "execute_result",
          "data": {
            "text/plain": [
              "<AxesSubplot:>"
            ]
          },
          "metadata": {},
          "execution_count": 12
        },
        {
          "output_type": "display_data",
          "data": {
            "text/plain": [
              "<Figure size 432x288 with 1 Axes>"
            ],
            "image/svg+xml": "<?xml version=\"1.0\" encoding=\"utf-8\" standalone=\"no\"?>\n<!DOCTYPE svg PUBLIC \"-//W3C//DTD SVG 1.1//EN\"\n  \"http://www.w3.org/Graphics/SVG/1.1/DTD/svg11.dtd\">\n<svg xmlns:xlink=\"http://www.w3.org/1999/xlink\" width=\"391.190625pt\" height=\"248.518125pt\" viewBox=\"0 0 391.190625 248.518125\" xmlns=\"http://www.w3.org/2000/svg\" version=\"1.1\">\n <metadata>\n  <rdf:RDF xmlns:dc=\"http://purl.org/dc/elements/1.1/\" xmlns:cc=\"http://creativecommons.org/ns#\" xmlns:rdf=\"http://www.w3.org/1999/02/22-rdf-syntax-ns#\">\n   <cc:Work>\n    <dc:type rdf:resource=\"http://purl.org/dc/dcmitype/StillImage\"/>\n    <dc:date>2023-03-02T18:27:24.320216</dc:date>\n    <dc:format>image/svg+xml</dc:format>\n    <dc:creator>\n     <cc:Agent>\n      <dc:title>Matplotlib v3.5.3, https://matplotlib.org/</dc:title>\n     </cc:Agent>\n    </dc:creator>\n   </cc:Work>\n  </rdf:RDF>\n </metadata>\n <defs>\n  <style type=\"text/css\">*{stroke-linejoin: round; stroke-linecap: butt}</style>\n </defs>\n <g id=\"figure_1\">\n  <g id=\"patch_1\">\n   <path d=\"M 0 248.518125 \nL 391.190625 248.518125 \nL 391.190625 0 \nL 0 0 \nL 0 248.518125 \nz\n\" style=\"fill: none\"/>\n  </g>\n  <g id=\"axes_1\">\n   <g id=\"patch_2\">\n    <path d=\"M 49.190625 224.64 \nL 383.990625 224.64 \nL 383.990625 7.2 \nL 49.190625 7.2 \nz\n\" style=\"fill: #ffffff\"/>\n   </g>\n   <g id=\"patch_3\">\n    <path d=\"M 49.190625 221.922 \nL 140.292666 221.922 \nL 140.292666 216.486 \nL 49.190625 216.486 \nz\n\" clip-path=\"url(#p5c3bf3f67f)\" style=\"fill: #1f77b4\"/>\n   </g>\n   <g id=\"patch_4\">\n    <path d=\"M 49.190625 211.05 \nL 140.292666 211.05 \nL 140.292666 205.614 \nL 49.190625 205.614 \nz\n\" clip-path=\"url(#p5c3bf3f67f)\" style=\"fill: #1f77b4\"/>\n   </g>\n   <g id=\"patch_5\">\n    <path d=\"M 49.190625 200.178 \nL 158.513074 200.178 \nL 158.513074 194.742 \nL 49.190625 194.742 \nz\n\" clip-path=\"url(#p5c3bf3f67f)\" style=\"fill: #1f77b4\"/>\n   </g>\n   <g id=\"patch_6\">\n    <path d=\"M 49.190625 189.306 \nL 176.733482 189.306 \nL 176.733482 183.87 \nL 49.190625 183.87 \nz\n\" clip-path=\"url(#p5c3bf3f67f)\" style=\"fill: #1f77b4\"/>\n   </g>\n   <g id=\"patch_7\">\n    <path d=\"M 49.190625 178.434 \nL 167.623278 178.434 \nL 167.623278 172.998 \nL 49.190625 172.998 \nz\n\" clip-path=\"url(#p5c3bf3f67f)\" style=\"fill: #1f77b4\"/>\n   </g>\n   <g id=\"patch_8\">\n    <path d=\"M 49.190625 167.562 \nL 149.40287 167.562 \nL 149.40287 162.126 \nL 49.190625 162.126 \nz\n\" clip-path=\"url(#p5c3bf3f67f)\" style=\"fill: #1f77b4\"/>\n   </g>\n   <g id=\"patch_9\">\n    <path d=\"M 49.190625 156.69 \nL 222.284503 156.69 \nL 222.284503 151.254 \nL 49.190625 151.254 \nz\n\" clip-path=\"url(#p5c3bf3f67f)\" style=\"fill: #1f77b4\"/>\n   </g>\n   <g id=\"patch_10\">\n    <path d=\"M 49.190625 145.818 \nL 204.064094 145.818 \nL 204.064094 140.382 \nL 49.190625 140.382 \nz\n\" clip-path=\"url(#p5c3bf3f67f)\" style=\"fill: #1f77b4\"/>\n   </g>\n   <g id=\"patch_11\">\n    <path d=\"M 49.190625 134.946 \nL 222.284503 134.946 \nL 222.284503 129.51 \nL 49.190625 129.51 \nz\n\" clip-path=\"url(#p5c3bf3f67f)\" style=\"fill: #1f77b4\"/>\n   </g>\n   <g id=\"patch_12\">\n    <path d=\"M 49.190625 124.074 \nL 231.394707 124.074 \nL 231.394707 118.638 \nL 49.190625 118.638 \nz\n\" clip-path=\"url(#p5c3bf3f67f)\" style=\"fill: #1f77b4\"/>\n   </g>\n   <g id=\"patch_13\">\n    <path d=\"M 49.190625 113.202 \nL 213.174298 113.202 \nL 213.174298 107.766 \nL 49.190625 107.766 \nz\n\" clip-path=\"url(#p5c3bf3f67f)\" style=\"fill: #1f77b4\"/>\n   </g>\n   <g id=\"patch_14\">\n    <path d=\"M 49.190625 102.33 \nL 222.284503 102.33 \nL 222.284503 96.894 \nL 49.190625 96.894 \nz\n\" clip-path=\"url(#p5c3bf3f67f)\" style=\"fill: #1f77b4\"/>\n   </g>\n   <g id=\"patch_15\">\n    <path d=\"M 49.190625 91.458 \nL 240.504911 91.458 \nL 240.504911 86.022 \nL 49.190625 86.022 \nz\n\" clip-path=\"url(#p5c3bf3f67f)\" style=\"fill: #1f77b4\"/>\n   </g>\n   <g id=\"patch_16\">\n    <path d=\"M 49.190625 80.586 \nL 368.047768 80.586 \nL 368.047768 75.15 \nL 49.190625 75.15 \nz\n\" clip-path=\"url(#p5c3bf3f67f)\" style=\"fill: #1f77b4\"/>\n   </g>\n   <g id=\"patch_17\">\n    <path d=\"M 49.190625 69.714 \nL 368.047768 69.714 \nL 368.047768 64.278 \nL 49.190625 64.278 \nz\n\" clip-path=\"url(#p5c3bf3f67f)\" style=\"fill: #1f77b4\"/>\n   </g>\n   <g id=\"patch_18\">\n    <path d=\"M 49.190625 58.842 \nL 358.937564 58.842 \nL 358.937564 53.406 \nL 49.190625 53.406 \nz\n\" clip-path=\"url(#p5c3bf3f67f)\" style=\"fill: #1f77b4\"/>\n   </g>\n   <g id=\"patch_19\">\n    <path d=\"M 49.190625 47.97 \nL 331.606952 47.97 \nL 331.606952 42.534 \nL 49.190625 42.534 \nz\n\" clip-path=\"url(#p5c3bf3f67f)\" style=\"fill: #1f77b4\"/>\n   </g>\n   <g id=\"patch_20\">\n    <path d=\"M 49.190625 37.098 \nL 358.937564 37.098 \nL 358.937564 31.662 \nL 49.190625 31.662 \nz\n\" clip-path=\"url(#p5c3bf3f67f)\" style=\"fill: #1f77b4\"/>\n   </g>\n   <g id=\"patch_21\">\n    <path d=\"M 49.190625 26.226 \nL 286.055931 26.226 \nL 286.055931 20.79 \nL 49.190625 20.79 \nz\n\" clip-path=\"url(#p5c3bf3f67f)\" style=\"fill: #1f77b4\"/>\n   </g>\n   <g id=\"patch_22\">\n    <path d=\"M 49.190625 15.354 \nL 286.055931 15.354 \nL 286.055931 9.918 \nL 49.190625 9.918 \nz\n\" clip-path=\"url(#p5c3bf3f67f)\" style=\"fill: #1f77b4\"/>\n   </g>\n   <g id=\"matplotlib.axis_1\">\n    <g id=\"xtick_1\">\n     <g id=\"line2d_1\">\n      <defs>\n       <path id=\"m7ec45cfe7c\" d=\"M 0 0 \nL 0 3.5 \n\" style=\"stroke: #000000; stroke-width: 0.8\"/>\n      </defs>\n      <g>\n       <use xlink:href=\"#m7ec45cfe7c\" x=\"49.190625\" y=\"224.64\" style=\"stroke: #000000; stroke-width: 0.8\"/>\n      </g>\n     </g>\n     <g id=\"text_1\">\n      <!-- 0 -->\n      <g transform=\"translate(46.009375 239.238437)scale(0.1 -0.1)\">\n       <defs>\n        <path id=\"DejaVuSans-30\" d=\"M 2034 4250 \nQ 1547 4250 1301 3770 \nQ 1056 3291 1056 2328 \nQ 1056 1369 1301 889 \nQ 1547 409 2034 409 \nQ 2525 409 2770 889 \nQ 3016 1369 3016 2328 \nQ 3016 3291 2770 3770 \nQ 2525 4250 2034 4250 \nz\nM 2034 4750 \nQ 2819 4750 3233 4129 \nQ 3647 3509 3647 2328 \nQ 3647 1150 3233 529 \nQ 2819 -91 2034 -91 \nQ 1250 -91 836 529 \nQ 422 1150 422 2328 \nQ 422 3509 836 4129 \nQ 1250 4750 2034 4750 \nz\n\" transform=\"scale(0.015625)\"/>\n       </defs>\n       <use xlink:href=\"#DejaVuSans-30\"/>\n      </g>\n     </g>\n    </g>\n    <g id=\"xtick_2\">\n     <g id=\"line2d_2\">\n      <g>\n       <use xlink:href=\"#m7ec45cfe7c\" x=\"94.741645\" y=\"224.64\" style=\"stroke: #000000; stroke-width: 0.8\"/>\n      </g>\n     </g>\n     <g id=\"text_2\">\n      <!-- 5 -->\n      <g transform=\"translate(91.560395 239.238437)scale(0.1 -0.1)\">\n       <defs>\n        <path id=\"DejaVuSans-35\" d=\"M 691 4666 \nL 3169 4666 \nL 3169 4134 \nL 1269 4134 \nL 1269 2991 \nQ 1406 3038 1543 3061 \nQ 1681 3084 1819 3084 \nQ 2600 3084 3056 2656 \nQ 3513 2228 3513 1497 \nQ 3513 744 3044 326 \nQ 2575 -91 1722 -91 \nQ 1428 -91 1123 -41 \nQ 819 9 494 109 \nL 494 744 \nQ 775 591 1075 516 \nQ 1375 441 1709 441 \nQ 2250 441 2565 725 \nQ 2881 1009 2881 1497 \nQ 2881 1984 2565 2268 \nQ 2250 2553 1709 2553 \nQ 1456 2553 1204 2497 \nQ 953 2441 691 2322 \nL 691 4666 \nz\n\" transform=\"scale(0.015625)\"/>\n       </defs>\n       <use xlink:href=\"#DejaVuSans-35\"/>\n      </g>\n     </g>\n    </g>\n    <g id=\"xtick_3\">\n     <g id=\"line2d_3\">\n      <g>\n       <use xlink:href=\"#m7ec45cfe7c\" x=\"140.292666\" y=\"224.64\" style=\"stroke: #000000; stroke-width: 0.8\"/>\n      </g>\n     </g>\n     <g id=\"text_3\">\n      <!-- 10 -->\n      <g transform=\"translate(133.930166 239.238437)scale(0.1 -0.1)\">\n       <defs>\n        <path id=\"DejaVuSans-31\" d=\"M 794 531 \nL 1825 531 \nL 1825 4091 \nL 703 3866 \nL 703 4441 \nL 1819 4666 \nL 2450 4666 \nL 2450 531 \nL 3481 531 \nL 3481 0 \nL 794 0 \nL 794 531 \nz\n\" transform=\"scale(0.015625)\"/>\n       </defs>\n       <use xlink:href=\"#DejaVuSans-31\"/>\n       <use xlink:href=\"#DejaVuSans-30\" x=\"63.623047\"/>\n      </g>\n     </g>\n    </g>\n    <g id=\"xtick_4\">\n     <g id=\"line2d_4\">\n      <g>\n       <use xlink:href=\"#m7ec45cfe7c\" x=\"185.843686\" y=\"224.64\" style=\"stroke: #000000; stroke-width: 0.8\"/>\n      </g>\n     </g>\n     <g id=\"text_4\">\n      <!-- 15 -->\n      <g transform=\"translate(179.481186 239.238437)scale(0.1 -0.1)\">\n       <use xlink:href=\"#DejaVuSans-31\"/>\n       <use xlink:href=\"#DejaVuSans-35\" x=\"63.623047\"/>\n      </g>\n     </g>\n    </g>\n    <g id=\"xtick_5\">\n     <g id=\"line2d_5\">\n      <g>\n       <use xlink:href=\"#m7ec45cfe7c\" x=\"231.394707\" y=\"224.64\" style=\"stroke: #000000; stroke-width: 0.8\"/>\n      </g>\n     </g>\n     <g id=\"text_5\">\n      <!-- 20 -->\n      <g transform=\"translate(225.032207 239.238437)scale(0.1 -0.1)\">\n       <defs>\n        <path id=\"DejaVuSans-32\" d=\"M 1228 531 \nL 3431 531 \nL 3431 0 \nL 469 0 \nL 469 531 \nQ 828 903 1448 1529 \nQ 2069 2156 2228 2338 \nQ 2531 2678 2651 2914 \nQ 2772 3150 2772 3378 \nQ 2772 3750 2511 3984 \nQ 2250 4219 1831 4219 \nQ 1534 4219 1204 4116 \nQ 875 4013 500 3803 \nL 500 4441 \nQ 881 4594 1212 4672 \nQ 1544 4750 1819 4750 \nQ 2544 4750 2975 4387 \nQ 3406 4025 3406 3419 \nQ 3406 3131 3298 2873 \nQ 3191 2616 2906 2266 \nQ 2828 2175 2409 1742 \nQ 1991 1309 1228 531 \nz\n\" transform=\"scale(0.015625)\"/>\n       </defs>\n       <use xlink:href=\"#DejaVuSans-32\"/>\n       <use xlink:href=\"#DejaVuSans-30\" x=\"63.623047\"/>\n      </g>\n     </g>\n    </g>\n    <g id=\"xtick_6\">\n     <g id=\"line2d_6\">\n      <g>\n       <use xlink:href=\"#m7ec45cfe7c\" x=\"276.945727\" y=\"224.64\" style=\"stroke: #000000; stroke-width: 0.8\"/>\n      </g>\n     </g>\n     <g id=\"text_6\">\n      <!-- 25 -->\n      <g transform=\"translate(270.583227 239.238437)scale(0.1 -0.1)\">\n       <use xlink:href=\"#DejaVuSans-32\"/>\n       <use xlink:href=\"#DejaVuSans-35\" x=\"63.623047\"/>\n      </g>\n     </g>\n    </g>\n    <g id=\"xtick_7\">\n     <g id=\"line2d_7\">\n      <g>\n       <use xlink:href=\"#m7ec45cfe7c\" x=\"322.496747\" y=\"224.64\" style=\"stroke: #000000; stroke-width: 0.8\"/>\n      </g>\n     </g>\n     <g id=\"text_7\">\n      <!-- 30 -->\n      <g transform=\"translate(316.134247 239.238437)scale(0.1 -0.1)\">\n       <defs>\n        <path id=\"DejaVuSans-33\" d=\"M 2597 2516 \nQ 3050 2419 3304 2112 \nQ 3559 1806 3559 1356 \nQ 3559 666 3084 287 \nQ 2609 -91 1734 -91 \nQ 1441 -91 1130 -33 \nQ 819 25 488 141 \nL 488 750 \nQ 750 597 1062 519 \nQ 1375 441 1716 441 \nQ 2309 441 2620 675 \nQ 2931 909 2931 1356 \nQ 2931 1769 2642 2001 \nQ 2353 2234 1838 2234 \nL 1294 2234 \nL 1294 2753 \nL 1863 2753 \nQ 2328 2753 2575 2939 \nQ 2822 3125 2822 3475 \nQ 2822 3834 2567 4026 \nQ 2313 4219 1838 4219 \nQ 1578 4219 1281 4162 \nQ 984 4106 628 3988 \nL 628 4550 \nQ 988 4650 1302 4700 \nQ 1616 4750 1894 4750 \nQ 2613 4750 3031 4423 \nQ 3450 4097 3450 3541 \nQ 3450 3153 3228 2886 \nQ 3006 2619 2597 2516 \nz\n\" transform=\"scale(0.015625)\"/>\n       </defs>\n       <use xlink:href=\"#DejaVuSans-33\"/>\n       <use xlink:href=\"#DejaVuSans-30\" x=\"63.623047\"/>\n      </g>\n     </g>\n    </g>\n    <g id=\"xtick_8\">\n     <g id=\"line2d_8\">\n      <g>\n       <use xlink:href=\"#m7ec45cfe7c\" x=\"368.047768\" y=\"224.64\" style=\"stroke: #000000; stroke-width: 0.8\"/>\n      </g>\n     </g>\n     <g id=\"text_8\">\n      <!-- 35 -->\n      <g transform=\"translate(361.685268 239.238437)scale(0.1 -0.1)\">\n       <use xlink:href=\"#DejaVuSans-33\"/>\n       <use xlink:href=\"#DejaVuSans-35\" x=\"63.623047\"/>\n      </g>\n     </g>\n    </g>\n   </g>\n   <g id=\"matplotlib.axis_2\">\n    <g id=\"ytick_1\">\n     <g id=\"line2d_9\">\n      <defs>\n       <path id=\"m62d491e29e\" d=\"M 0 0 \nL -3.5 0 \n\" style=\"stroke: #000000; stroke-width: 0.8\"/>\n      </defs>\n      <g>\n       <use xlink:href=\"#m62d491e29e\" x=\"49.190625\" y=\"219.204\" style=\"stroke: #000000; stroke-width: 0.8\"/>\n      </g>\n     </g>\n     <g id=\"text_9\">\n      <!-- 2002.0 -->\n      <g transform=\"translate(7.2 223.003219)scale(0.1 -0.1)\">\n       <defs>\n        <path id=\"DejaVuSans-2e\" d=\"M 684 794 \nL 1344 794 \nL 1344 0 \nL 684 0 \nL 684 794 \nz\n\" transform=\"scale(0.015625)\"/>\n       </defs>\n       <use xlink:href=\"#DejaVuSans-32\"/>\n       <use xlink:href=\"#DejaVuSans-30\" x=\"63.623047\"/>\n       <use xlink:href=\"#DejaVuSans-30\" x=\"127.246094\"/>\n       <use xlink:href=\"#DejaVuSans-32\" x=\"190.869141\"/>\n       <use xlink:href=\"#DejaVuSans-2e\" x=\"254.492188\"/>\n       <use xlink:href=\"#DejaVuSans-30\" x=\"286.279297\"/>\n      </g>\n     </g>\n    </g>\n    <g id=\"ytick_2\">\n     <g id=\"line2d_10\">\n      <g>\n       <use xlink:href=\"#m62d491e29e\" x=\"49.190625\" y=\"208.332\" style=\"stroke: #000000; stroke-width: 0.8\"/>\n      </g>\n     </g>\n     <g id=\"text_10\">\n      <!-- 2003.0 -->\n      <g transform=\"translate(7.2 212.131219)scale(0.1 -0.1)\">\n       <use xlink:href=\"#DejaVuSans-32\"/>\n       <use xlink:href=\"#DejaVuSans-30\" x=\"63.623047\"/>\n       <use xlink:href=\"#DejaVuSans-30\" x=\"127.246094\"/>\n       <use xlink:href=\"#DejaVuSans-33\" x=\"190.869141\"/>\n       <use xlink:href=\"#DejaVuSans-2e\" x=\"254.492188\"/>\n       <use xlink:href=\"#DejaVuSans-30\" x=\"286.279297\"/>\n      </g>\n     </g>\n    </g>\n    <g id=\"ytick_3\">\n     <g id=\"line2d_11\">\n      <g>\n       <use xlink:href=\"#m62d491e29e\" x=\"49.190625\" y=\"197.46\" style=\"stroke: #000000; stroke-width: 0.8\"/>\n      </g>\n     </g>\n     <g id=\"text_11\">\n      <!-- 2004.0 -->\n      <g transform=\"translate(7.2 201.259219)scale(0.1 -0.1)\">\n       <defs>\n        <path id=\"DejaVuSans-34\" d=\"M 2419 4116 \nL 825 1625 \nL 2419 1625 \nL 2419 4116 \nz\nM 2253 4666 \nL 3047 4666 \nL 3047 1625 \nL 3713 1625 \nL 3713 1100 \nL 3047 1100 \nL 3047 0 \nL 2419 0 \nL 2419 1100 \nL 313 1100 \nL 313 1709 \nL 2253 4666 \nz\n\" transform=\"scale(0.015625)\"/>\n       </defs>\n       <use xlink:href=\"#DejaVuSans-32\"/>\n       <use xlink:href=\"#DejaVuSans-30\" x=\"63.623047\"/>\n       <use xlink:href=\"#DejaVuSans-30\" x=\"127.246094\"/>\n       <use xlink:href=\"#DejaVuSans-34\" x=\"190.869141\"/>\n       <use xlink:href=\"#DejaVuSans-2e\" x=\"254.492188\"/>\n       <use xlink:href=\"#DejaVuSans-30\" x=\"286.279297\"/>\n      </g>\n     </g>\n    </g>\n    <g id=\"ytick_4\">\n     <g id=\"line2d_12\">\n      <g>\n       <use xlink:href=\"#m62d491e29e\" x=\"49.190625\" y=\"186.588\" style=\"stroke: #000000; stroke-width: 0.8\"/>\n      </g>\n     </g>\n     <g id=\"text_12\">\n      <!-- 2005.0 -->\n      <g transform=\"translate(7.2 190.387219)scale(0.1 -0.1)\">\n       <use xlink:href=\"#DejaVuSans-32\"/>\n       <use xlink:href=\"#DejaVuSans-30\" x=\"63.623047\"/>\n       <use xlink:href=\"#DejaVuSans-30\" x=\"127.246094\"/>\n       <use xlink:href=\"#DejaVuSans-35\" x=\"190.869141\"/>\n       <use xlink:href=\"#DejaVuSans-2e\" x=\"254.492188\"/>\n       <use xlink:href=\"#DejaVuSans-30\" x=\"286.279297\"/>\n      </g>\n     </g>\n    </g>\n    <g id=\"ytick_5\">\n     <g id=\"line2d_13\">\n      <g>\n       <use xlink:href=\"#m62d491e29e\" x=\"49.190625\" y=\"175.716\" style=\"stroke: #000000; stroke-width: 0.8\"/>\n      </g>\n     </g>\n     <g id=\"text_13\">\n      <!-- 2006.0 -->\n      <g transform=\"translate(7.2 179.515219)scale(0.1 -0.1)\">\n       <defs>\n        <path id=\"DejaVuSans-36\" d=\"M 2113 2584 \nQ 1688 2584 1439 2293 \nQ 1191 2003 1191 1497 \nQ 1191 994 1439 701 \nQ 1688 409 2113 409 \nQ 2538 409 2786 701 \nQ 3034 994 3034 1497 \nQ 3034 2003 2786 2293 \nQ 2538 2584 2113 2584 \nz\nM 3366 4563 \nL 3366 3988 \nQ 3128 4100 2886 4159 \nQ 2644 4219 2406 4219 \nQ 1781 4219 1451 3797 \nQ 1122 3375 1075 2522 \nQ 1259 2794 1537 2939 \nQ 1816 3084 2150 3084 \nQ 2853 3084 3261 2657 \nQ 3669 2231 3669 1497 \nQ 3669 778 3244 343 \nQ 2819 -91 2113 -91 \nQ 1303 -91 875 529 \nQ 447 1150 447 2328 \nQ 447 3434 972 4092 \nQ 1497 4750 2381 4750 \nQ 2619 4750 2861 4703 \nQ 3103 4656 3366 4563 \nz\n\" transform=\"scale(0.015625)\"/>\n       </defs>\n       <use xlink:href=\"#DejaVuSans-32\"/>\n       <use xlink:href=\"#DejaVuSans-30\" x=\"63.623047\"/>\n       <use xlink:href=\"#DejaVuSans-30\" x=\"127.246094\"/>\n       <use xlink:href=\"#DejaVuSans-36\" x=\"190.869141\"/>\n       <use xlink:href=\"#DejaVuSans-2e\" x=\"254.492188\"/>\n       <use xlink:href=\"#DejaVuSans-30\" x=\"286.279297\"/>\n      </g>\n     </g>\n    </g>\n    <g id=\"ytick_6\">\n     <g id=\"line2d_14\">\n      <g>\n       <use xlink:href=\"#m62d491e29e\" x=\"49.190625\" y=\"164.844\" style=\"stroke: #000000; stroke-width: 0.8\"/>\n      </g>\n     </g>\n     <g id=\"text_14\">\n      <!-- 2007.0 -->\n      <g transform=\"translate(7.2 168.643219)scale(0.1 -0.1)\">\n       <defs>\n        <path id=\"DejaVuSans-37\" d=\"M 525 4666 \nL 3525 4666 \nL 3525 4397 \nL 1831 0 \nL 1172 0 \nL 2766 4134 \nL 525 4134 \nL 525 4666 \nz\n\" transform=\"scale(0.015625)\"/>\n       </defs>\n       <use xlink:href=\"#DejaVuSans-32\"/>\n       <use xlink:href=\"#DejaVuSans-30\" x=\"63.623047\"/>\n       <use xlink:href=\"#DejaVuSans-30\" x=\"127.246094\"/>\n       <use xlink:href=\"#DejaVuSans-37\" x=\"190.869141\"/>\n       <use xlink:href=\"#DejaVuSans-2e\" x=\"254.492188\"/>\n       <use xlink:href=\"#DejaVuSans-30\" x=\"286.279297\"/>\n      </g>\n     </g>\n    </g>\n    <g id=\"ytick_7\">\n     <g id=\"line2d_15\">\n      <g>\n       <use xlink:href=\"#m62d491e29e\" x=\"49.190625\" y=\"153.972\" style=\"stroke: #000000; stroke-width: 0.8\"/>\n      </g>\n     </g>\n     <g id=\"text_15\">\n      <!-- 2008.0 -->\n      <g transform=\"translate(7.2 157.771219)scale(0.1 -0.1)\">\n       <defs>\n        <path id=\"DejaVuSans-38\" d=\"M 2034 2216 \nQ 1584 2216 1326 1975 \nQ 1069 1734 1069 1313 \nQ 1069 891 1326 650 \nQ 1584 409 2034 409 \nQ 2484 409 2743 651 \nQ 3003 894 3003 1313 \nQ 3003 1734 2745 1975 \nQ 2488 2216 2034 2216 \nz\nM 1403 2484 \nQ 997 2584 770 2862 \nQ 544 3141 544 3541 \nQ 544 4100 942 4425 \nQ 1341 4750 2034 4750 \nQ 2731 4750 3128 4425 \nQ 3525 4100 3525 3541 \nQ 3525 3141 3298 2862 \nQ 3072 2584 2669 2484 \nQ 3125 2378 3379 2068 \nQ 3634 1759 3634 1313 \nQ 3634 634 3220 271 \nQ 2806 -91 2034 -91 \nQ 1263 -91 848 271 \nQ 434 634 434 1313 \nQ 434 1759 690 2068 \nQ 947 2378 1403 2484 \nz\nM 1172 3481 \nQ 1172 3119 1398 2916 \nQ 1625 2713 2034 2713 \nQ 2441 2713 2670 2916 \nQ 2900 3119 2900 3481 \nQ 2900 3844 2670 4047 \nQ 2441 4250 2034 4250 \nQ 1625 4250 1398 4047 \nQ 1172 3844 1172 3481 \nz\n\" transform=\"scale(0.015625)\"/>\n       </defs>\n       <use xlink:href=\"#DejaVuSans-32\"/>\n       <use xlink:href=\"#DejaVuSans-30\" x=\"63.623047\"/>\n       <use xlink:href=\"#DejaVuSans-30\" x=\"127.246094\"/>\n       <use xlink:href=\"#DejaVuSans-38\" x=\"190.869141\"/>\n       <use xlink:href=\"#DejaVuSans-2e\" x=\"254.492188\"/>\n       <use xlink:href=\"#DejaVuSans-30\" x=\"286.279297\"/>\n      </g>\n     </g>\n    </g>\n    <g id=\"ytick_8\">\n     <g id=\"line2d_16\">\n      <g>\n       <use xlink:href=\"#m62d491e29e\" x=\"49.190625\" y=\"143.1\" style=\"stroke: #000000; stroke-width: 0.8\"/>\n      </g>\n     </g>\n     <g id=\"text_16\">\n      <!-- 2009.0 -->\n      <g transform=\"translate(7.2 146.899219)scale(0.1 -0.1)\">\n       <defs>\n        <path id=\"DejaVuSans-39\" d=\"M 703 97 \nL 703 672 \nQ 941 559 1184 500 \nQ 1428 441 1663 441 \nQ 2288 441 2617 861 \nQ 2947 1281 2994 2138 \nQ 2813 1869 2534 1725 \nQ 2256 1581 1919 1581 \nQ 1219 1581 811 2004 \nQ 403 2428 403 3163 \nQ 403 3881 828 4315 \nQ 1253 4750 1959 4750 \nQ 2769 4750 3195 4129 \nQ 3622 3509 3622 2328 \nQ 3622 1225 3098 567 \nQ 2575 -91 1691 -91 \nQ 1453 -91 1209 -44 \nQ 966 3 703 97 \nz\nM 1959 2075 \nQ 2384 2075 2632 2365 \nQ 2881 2656 2881 3163 \nQ 2881 3666 2632 3958 \nQ 2384 4250 1959 4250 \nQ 1534 4250 1286 3958 \nQ 1038 3666 1038 3163 \nQ 1038 2656 1286 2365 \nQ 1534 2075 1959 2075 \nz\n\" transform=\"scale(0.015625)\"/>\n       </defs>\n       <use xlink:href=\"#DejaVuSans-32\"/>\n       <use xlink:href=\"#DejaVuSans-30\" x=\"63.623047\"/>\n       <use xlink:href=\"#DejaVuSans-30\" x=\"127.246094\"/>\n       <use xlink:href=\"#DejaVuSans-39\" x=\"190.869141\"/>\n       <use xlink:href=\"#DejaVuSans-2e\" x=\"254.492188\"/>\n       <use xlink:href=\"#DejaVuSans-30\" x=\"286.279297\"/>\n      </g>\n     </g>\n    </g>\n    <g id=\"ytick_9\">\n     <g id=\"line2d_17\">\n      <g>\n       <use xlink:href=\"#m62d491e29e\" x=\"49.190625\" y=\"132.228\" style=\"stroke: #000000; stroke-width: 0.8\"/>\n      </g>\n     </g>\n     <g id=\"text_17\">\n      <!-- 2010.0 -->\n      <g transform=\"translate(7.2 136.027219)scale(0.1 -0.1)\">\n       <use xlink:href=\"#DejaVuSans-32\"/>\n       <use xlink:href=\"#DejaVuSans-30\" x=\"63.623047\"/>\n       <use xlink:href=\"#DejaVuSans-31\" x=\"127.246094\"/>\n       <use xlink:href=\"#DejaVuSans-30\" x=\"190.869141\"/>\n       <use xlink:href=\"#DejaVuSans-2e\" x=\"254.492188\"/>\n       <use xlink:href=\"#DejaVuSans-30\" x=\"286.279297\"/>\n      </g>\n     </g>\n    </g>\n    <g id=\"ytick_10\">\n     <g id=\"line2d_18\">\n      <g>\n       <use xlink:href=\"#m62d491e29e\" x=\"49.190625\" y=\"121.356\" style=\"stroke: #000000; stroke-width: 0.8\"/>\n      </g>\n     </g>\n     <g id=\"text_18\">\n      <!-- 2011.0 -->\n      <g transform=\"translate(7.2 125.155219)scale(0.1 -0.1)\">\n       <use xlink:href=\"#DejaVuSans-32\"/>\n       <use xlink:href=\"#DejaVuSans-30\" x=\"63.623047\"/>\n       <use xlink:href=\"#DejaVuSans-31\" x=\"127.246094\"/>\n       <use xlink:href=\"#DejaVuSans-31\" x=\"190.869141\"/>\n       <use xlink:href=\"#DejaVuSans-2e\" x=\"254.492188\"/>\n       <use xlink:href=\"#DejaVuSans-30\" x=\"286.279297\"/>\n      </g>\n     </g>\n    </g>\n    <g id=\"ytick_11\">\n     <g id=\"line2d_19\">\n      <g>\n       <use xlink:href=\"#m62d491e29e\" x=\"49.190625\" y=\"110.484\" style=\"stroke: #000000; stroke-width: 0.8\"/>\n      </g>\n     </g>\n     <g id=\"text_19\">\n      <!-- 2012.0 -->\n      <g transform=\"translate(7.2 114.283219)scale(0.1 -0.1)\">\n       <use xlink:href=\"#DejaVuSans-32\"/>\n       <use xlink:href=\"#DejaVuSans-30\" x=\"63.623047\"/>\n       <use xlink:href=\"#DejaVuSans-31\" x=\"127.246094\"/>\n       <use xlink:href=\"#DejaVuSans-32\" x=\"190.869141\"/>\n       <use xlink:href=\"#DejaVuSans-2e\" x=\"254.492188\"/>\n       <use xlink:href=\"#DejaVuSans-30\" x=\"286.279297\"/>\n      </g>\n     </g>\n    </g>\n    <g id=\"ytick_12\">\n     <g id=\"line2d_20\">\n      <g>\n       <use xlink:href=\"#m62d491e29e\" x=\"49.190625\" y=\"99.612\" style=\"stroke: #000000; stroke-width: 0.8\"/>\n      </g>\n     </g>\n     <g id=\"text_20\">\n      <!-- 2013.0 -->\n      <g transform=\"translate(7.2 103.411219)scale(0.1 -0.1)\">\n       <use xlink:href=\"#DejaVuSans-32\"/>\n       <use xlink:href=\"#DejaVuSans-30\" x=\"63.623047\"/>\n       <use xlink:href=\"#DejaVuSans-31\" x=\"127.246094\"/>\n       <use xlink:href=\"#DejaVuSans-33\" x=\"190.869141\"/>\n       <use xlink:href=\"#DejaVuSans-2e\" x=\"254.492188\"/>\n       <use xlink:href=\"#DejaVuSans-30\" x=\"286.279297\"/>\n      </g>\n     </g>\n    </g>\n    <g id=\"ytick_13\">\n     <g id=\"line2d_21\">\n      <g>\n       <use xlink:href=\"#m62d491e29e\" x=\"49.190625\" y=\"88.74\" style=\"stroke: #000000; stroke-width: 0.8\"/>\n      </g>\n     </g>\n     <g id=\"text_21\">\n      <!-- 2014.0 -->\n      <g transform=\"translate(7.2 92.539219)scale(0.1 -0.1)\">\n       <use xlink:href=\"#DejaVuSans-32\"/>\n       <use xlink:href=\"#DejaVuSans-30\" x=\"63.623047\"/>\n       <use xlink:href=\"#DejaVuSans-31\" x=\"127.246094\"/>\n       <use xlink:href=\"#DejaVuSans-34\" x=\"190.869141\"/>\n       <use xlink:href=\"#DejaVuSans-2e\" x=\"254.492188\"/>\n       <use xlink:href=\"#DejaVuSans-30\" x=\"286.279297\"/>\n      </g>\n     </g>\n    </g>\n    <g id=\"ytick_14\">\n     <g id=\"line2d_22\">\n      <g>\n       <use xlink:href=\"#m62d491e29e\" x=\"49.190625\" y=\"77.868\" style=\"stroke: #000000; stroke-width: 0.8\"/>\n      </g>\n     </g>\n     <g id=\"text_22\">\n      <!-- 2015.0 -->\n      <g transform=\"translate(7.2 81.667219)scale(0.1 -0.1)\">\n       <use xlink:href=\"#DejaVuSans-32\"/>\n       <use xlink:href=\"#DejaVuSans-30\" x=\"63.623047\"/>\n       <use xlink:href=\"#DejaVuSans-31\" x=\"127.246094\"/>\n       <use xlink:href=\"#DejaVuSans-35\" x=\"190.869141\"/>\n       <use xlink:href=\"#DejaVuSans-2e\" x=\"254.492188\"/>\n       <use xlink:href=\"#DejaVuSans-30\" x=\"286.279297\"/>\n      </g>\n     </g>\n    </g>\n    <g id=\"ytick_15\">\n     <g id=\"line2d_23\">\n      <g>\n       <use xlink:href=\"#m62d491e29e\" x=\"49.190625\" y=\"66.996\" style=\"stroke: #000000; stroke-width: 0.8\"/>\n      </g>\n     </g>\n     <g id=\"text_23\">\n      <!-- 2016.0 -->\n      <g transform=\"translate(7.2 70.795219)scale(0.1 -0.1)\">\n       <use xlink:href=\"#DejaVuSans-32\"/>\n       <use xlink:href=\"#DejaVuSans-30\" x=\"63.623047\"/>\n       <use xlink:href=\"#DejaVuSans-31\" x=\"127.246094\"/>\n       <use xlink:href=\"#DejaVuSans-36\" x=\"190.869141\"/>\n       <use xlink:href=\"#DejaVuSans-2e\" x=\"254.492188\"/>\n       <use xlink:href=\"#DejaVuSans-30\" x=\"286.279297\"/>\n      </g>\n     </g>\n    </g>\n    <g id=\"ytick_16\">\n     <g id=\"line2d_24\">\n      <g>\n       <use xlink:href=\"#m62d491e29e\" x=\"49.190625\" y=\"56.124\" style=\"stroke: #000000; stroke-width: 0.8\"/>\n      </g>\n     </g>\n     <g id=\"text_24\">\n      <!-- 2017.0 -->\n      <g transform=\"translate(7.2 59.923219)scale(0.1 -0.1)\">\n       <use xlink:href=\"#DejaVuSans-32\"/>\n       <use xlink:href=\"#DejaVuSans-30\" x=\"63.623047\"/>\n       <use xlink:href=\"#DejaVuSans-31\" x=\"127.246094\"/>\n       <use xlink:href=\"#DejaVuSans-37\" x=\"190.869141\"/>\n       <use xlink:href=\"#DejaVuSans-2e\" x=\"254.492188\"/>\n       <use xlink:href=\"#DejaVuSans-30\" x=\"286.279297\"/>\n      </g>\n     </g>\n    </g>\n    <g id=\"ytick_17\">\n     <g id=\"line2d_25\">\n      <g>\n       <use xlink:href=\"#m62d491e29e\" x=\"49.190625\" y=\"45.252\" style=\"stroke: #000000; stroke-width: 0.8\"/>\n      </g>\n     </g>\n     <g id=\"text_25\">\n      <!-- 2018.0 -->\n      <g transform=\"translate(7.2 49.051219)scale(0.1 -0.1)\">\n       <use xlink:href=\"#DejaVuSans-32\"/>\n       <use xlink:href=\"#DejaVuSans-30\" x=\"63.623047\"/>\n       <use xlink:href=\"#DejaVuSans-31\" x=\"127.246094\"/>\n       <use xlink:href=\"#DejaVuSans-38\" x=\"190.869141\"/>\n       <use xlink:href=\"#DejaVuSans-2e\" x=\"254.492188\"/>\n       <use xlink:href=\"#DejaVuSans-30\" x=\"286.279297\"/>\n      </g>\n     </g>\n    </g>\n    <g id=\"ytick_18\">\n     <g id=\"line2d_26\">\n      <g>\n       <use xlink:href=\"#m62d491e29e\" x=\"49.190625\" y=\"34.38\" style=\"stroke: #000000; stroke-width: 0.8\"/>\n      </g>\n     </g>\n     <g id=\"text_26\">\n      <!-- 2019.0 -->\n      <g transform=\"translate(7.2 38.179219)scale(0.1 -0.1)\">\n       <use xlink:href=\"#DejaVuSans-32\"/>\n       <use xlink:href=\"#DejaVuSans-30\" x=\"63.623047\"/>\n       <use xlink:href=\"#DejaVuSans-31\" x=\"127.246094\"/>\n       <use xlink:href=\"#DejaVuSans-39\" x=\"190.869141\"/>\n       <use xlink:href=\"#DejaVuSans-2e\" x=\"254.492188\"/>\n       <use xlink:href=\"#DejaVuSans-30\" x=\"286.279297\"/>\n      </g>\n     </g>\n    </g>\n    <g id=\"ytick_19\">\n     <g id=\"line2d_27\">\n      <g>\n       <use xlink:href=\"#m62d491e29e\" x=\"49.190625\" y=\"23.508\" style=\"stroke: #000000; stroke-width: 0.8\"/>\n      </g>\n     </g>\n     <g id=\"text_27\">\n      <!-- 2020.0 -->\n      <g transform=\"translate(7.2 27.307219)scale(0.1 -0.1)\">\n       <use xlink:href=\"#DejaVuSans-32\"/>\n       <use xlink:href=\"#DejaVuSans-30\" x=\"63.623047\"/>\n       <use xlink:href=\"#DejaVuSans-32\" x=\"127.246094\"/>\n       <use xlink:href=\"#DejaVuSans-30\" x=\"190.869141\"/>\n       <use xlink:href=\"#DejaVuSans-2e\" x=\"254.492188\"/>\n       <use xlink:href=\"#DejaVuSans-30\" x=\"286.279297\"/>\n      </g>\n     </g>\n    </g>\n    <g id=\"ytick_20\">\n     <g id=\"line2d_28\">\n      <g>\n       <use xlink:href=\"#m62d491e29e\" x=\"49.190625\" y=\"12.636\" style=\"stroke: #000000; stroke-width: 0.8\"/>\n      </g>\n     </g>\n     <g id=\"text_28\">\n      <!-- 2021.0 -->\n      <g transform=\"translate(7.2 16.435219)scale(0.1 -0.1)\">\n       <use xlink:href=\"#DejaVuSans-32\"/>\n       <use xlink:href=\"#DejaVuSans-30\" x=\"63.623047\"/>\n       <use xlink:href=\"#DejaVuSans-32\" x=\"127.246094\"/>\n       <use xlink:href=\"#DejaVuSans-31\" x=\"190.869141\"/>\n       <use xlink:href=\"#DejaVuSans-2e\" x=\"254.492188\"/>\n       <use xlink:href=\"#DejaVuSans-30\" x=\"286.279297\"/>\n      </g>\n     </g>\n    </g>\n   </g>\n   <g id=\"patch_23\">\n    <path d=\"M 49.190625 224.64 \nL 49.190625 7.2 \n\" style=\"fill: none; stroke: #000000; stroke-width: 0.8; stroke-linejoin: miter; stroke-linecap: square\"/>\n   </g>\n   <g id=\"patch_24\">\n    <path d=\"M 383.990625 224.64 \nL 383.990625 7.2 \n\" style=\"fill: none; stroke: #000000; stroke-width: 0.8; stroke-linejoin: miter; stroke-linecap: square\"/>\n   </g>\n   <g id=\"patch_25\">\n    <path d=\"M 49.190625 224.64 \nL 383.990625 224.64 \n\" style=\"fill: none; stroke: #000000; stroke-width: 0.8; stroke-linejoin: miter; stroke-linecap: square\"/>\n   </g>\n   <g id=\"patch_26\">\n    <path d=\"M 49.190625 7.2 \nL 383.990625 7.2 \n\" style=\"fill: none; stroke: #000000; stroke-width: 0.8; stroke-linejoin: miter; stroke-linecap: square\"/>\n   </g>\n  </g>\n </g>\n <defs>\n  <clipPath id=\"p5c3bf3f67f\">\n   <rect x=\"49.190625\" y=\"7.2\" width=\"334.8\" height=\"217.44\"/>\n  </clipPath>\n </defs>\n</svg>\n"
          },
          "metadata": {
            "needs_background": "light"
          }
        }
      ]
    },
    {
      "cell_type": "code",
      "source": [
        "frequencia_artigos = px.bar(artigos_por_ano)\n",
        "frequencia_artigos"
      ],
      "metadata": {
        "colab": {
          "base_uri": "https://localhost:8080/",
          "height": 542
        },
        "id": "8OWbv4gaHDQL",
        "outputId": "51bc35fe-f16e-4763-bfcc-46b54d3f8e54"
      },
      "execution_count": 13,
      "outputs": [
        {
          "output_type": "display_data",
          "data": {
            "text/html": [
              "<html>\n",
              "<head><meta charset=\"utf-8\" /></head>\n",
              "<body>\n",
              "    <div>            <script src=\"https://cdnjs.cloudflare.com/ajax/libs/mathjax/2.7.5/MathJax.js?config=TeX-AMS-MML_SVG\"></script><script type=\"text/javascript\">if (window.MathJax) {MathJax.Hub.Config({SVG: {font: \"STIX-Web\"}});}</script>                <script type=\"text/javascript\">window.PlotlyConfig = {MathJaxConfig: 'local'};</script>\n",
              "        <script src=\"https://cdn.plot.ly/plotly-2.8.3.min.js\"></script>                <div id=\"dc253410-12c0-4929-a1c1-bc600e7a20bd\" class=\"plotly-graph-div\" style=\"height:525px; width:100%;\"></div>            <script type=\"text/javascript\">                                    window.PLOTLYENV=window.PLOTLYENV || {};                                    if (document.getElementById(\"dc253410-12c0-4929-a1c1-bc600e7a20bd\")) {                    Plotly.newPlot(                        \"dc253410-12c0-4929-a1c1-bc600e7a20bd\",                        [{\"alignmentgroup\":\"True\",\"hovertemplate\":\"variable=PY<br>index=%{x}<br>value=%{y}<extra></extra>\",\"legendgroup\":\"PY\",\"marker\":{\"color\":\"#636efa\",\"pattern\":{\"shape\":\"\"}},\"name\":\"PY\",\"offsetgroup\":\"PY\",\"orientation\":\"v\",\"showlegend\":true,\"textposition\":\"auto\",\"x\":[2002.0,2003.0,2004.0,2005.0,2006.0,2007.0,2008.0,2009.0,2010.0,2011.0,2012.0,2013.0,2014.0,2015.0,2016.0,2017.0,2018.0,2019.0,2020.0,2021.0],\"xaxis\":\"x\",\"y\":[10,10,12,14,13,11,19,17,19,20,18,19,21,35,35,34,31,34,26,26],\"yaxis\":\"y\",\"type\":\"bar\"}],                        {\"template\":{\"data\":{\"bar\":[{\"error_x\":{\"color\":\"#2a3f5f\"},\"error_y\":{\"color\":\"#2a3f5f\"},\"marker\":{\"line\":{\"color\":\"#E5ECF6\",\"width\":0.5},\"pattern\":{\"fillmode\":\"overlay\",\"size\":10,\"solidity\":0.2}},\"type\":\"bar\"}],\"barpolar\":[{\"marker\":{\"line\":{\"color\":\"#E5ECF6\",\"width\":0.5},\"pattern\":{\"fillmode\":\"overlay\",\"size\":10,\"solidity\":0.2}},\"type\":\"barpolar\"}],\"carpet\":[{\"aaxis\":{\"endlinecolor\":\"#2a3f5f\",\"gridcolor\":\"white\",\"linecolor\":\"white\",\"minorgridcolor\":\"white\",\"startlinecolor\":\"#2a3f5f\"},\"baxis\":{\"endlinecolor\":\"#2a3f5f\",\"gridcolor\":\"white\",\"linecolor\":\"white\",\"minorgridcolor\":\"white\",\"startlinecolor\":\"#2a3f5f\"},\"type\":\"carpet\"}],\"choropleth\":[{\"colorbar\":{\"outlinewidth\":0,\"ticks\":\"\"},\"type\":\"choropleth\"}],\"contour\":[{\"colorbar\":{\"outlinewidth\":0,\"ticks\":\"\"},\"colorscale\":[[0.0,\"#0d0887\"],[0.1111111111111111,\"#46039f\"],[0.2222222222222222,\"#7201a8\"],[0.3333333333333333,\"#9c179e\"],[0.4444444444444444,\"#bd3786\"],[0.5555555555555556,\"#d8576b\"],[0.6666666666666666,\"#ed7953\"],[0.7777777777777778,\"#fb9f3a\"],[0.8888888888888888,\"#fdca26\"],[1.0,\"#f0f921\"]],\"type\":\"contour\"}],\"contourcarpet\":[{\"colorbar\":{\"outlinewidth\":0,\"ticks\":\"\"},\"type\":\"contourcarpet\"}],\"heatmap\":[{\"colorbar\":{\"outlinewidth\":0,\"ticks\":\"\"},\"colorscale\":[[0.0,\"#0d0887\"],[0.1111111111111111,\"#46039f\"],[0.2222222222222222,\"#7201a8\"],[0.3333333333333333,\"#9c179e\"],[0.4444444444444444,\"#bd3786\"],[0.5555555555555556,\"#d8576b\"],[0.6666666666666666,\"#ed7953\"],[0.7777777777777778,\"#fb9f3a\"],[0.8888888888888888,\"#fdca26\"],[1.0,\"#f0f921\"]],\"type\":\"heatmap\"}],\"heatmapgl\":[{\"colorbar\":{\"outlinewidth\":0,\"ticks\":\"\"},\"colorscale\":[[0.0,\"#0d0887\"],[0.1111111111111111,\"#46039f\"],[0.2222222222222222,\"#7201a8\"],[0.3333333333333333,\"#9c179e\"],[0.4444444444444444,\"#bd3786\"],[0.5555555555555556,\"#d8576b\"],[0.6666666666666666,\"#ed7953\"],[0.7777777777777778,\"#fb9f3a\"],[0.8888888888888888,\"#fdca26\"],[1.0,\"#f0f921\"]],\"type\":\"heatmapgl\"}],\"histogram\":[{\"marker\":{\"pattern\":{\"fillmode\":\"overlay\",\"size\":10,\"solidity\":0.2}},\"type\":\"histogram\"}],\"histogram2d\":[{\"colorbar\":{\"outlinewidth\":0,\"ticks\":\"\"},\"colorscale\":[[0.0,\"#0d0887\"],[0.1111111111111111,\"#46039f\"],[0.2222222222222222,\"#7201a8\"],[0.3333333333333333,\"#9c179e\"],[0.4444444444444444,\"#bd3786\"],[0.5555555555555556,\"#d8576b\"],[0.6666666666666666,\"#ed7953\"],[0.7777777777777778,\"#fb9f3a\"],[0.8888888888888888,\"#fdca26\"],[1.0,\"#f0f921\"]],\"type\":\"histogram2d\"}],\"histogram2dcontour\":[{\"colorbar\":{\"outlinewidth\":0,\"ticks\":\"\"},\"colorscale\":[[0.0,\"#0d0887\"],[0.1111111111111111,\"#46039f\"],[0.2222222222222222,\"#7201a8\"],[0.3333333333333333,\"#9c179e\"],[0.4444444444444444,\"#bd3786\"],[0.5555555555555556,\"#d8576b\"],[0.6666666666666666,\"#ed7953\"],[0.7777777777777778,\"#fb9f3a\"],[0.8888888888888888,\"#fdca26\"],[1.0,\"#f0f921\"]],\"type\":\"histogram2dcontour\"}],\"mesh3d\":[{\"colorbar\":{\"outlinewidth\":0,\"ticks\":\"\"},\"type\":\"mesh3d\"}],\"parcoords\":[{\"line\":{\"colorbar\":{\"outlinewidth\":0,\"ticks\":\"\"}},\"type\":\"parcoords\"}],\"pie\":[{\"automargin\":true,\"type\":\"pie\"}],\"scatter\":[{\"marker\":{\"colorbar\":{\"outlinewidth\":0,\"ticks\":\"\"}},\"type\":\"scatter\"}],\"scatter3d\":[{\"line\":{\"colorbar\":{\"outlinewidth\":0,\"ticks\":\"\"}},\"marker\":{\"colorbar\":{\"outlinewidth\":0,\"ticks\":\"\"}},\"type\":\"scatter3d\"}],\"scattercarpet\":[{\"marker\":{\"colorbar\":{\"outlinewidth\":0,\"ticks\":\"\"}},\"type\":\"scattercarpet\"}],\"scattergeo\":[{\"marker\":{\"colorbar\":{\"outlinewidth\":0,\"ticks\":\"\"}},\"type\":\"scattergeo\"}],\"scattergl\":[{\"marker\":{\"colorbar\":{\"outlinewidth\":0,\"ticks\":\"\"}},\"type\":\"scattergl\"}],\"scattermapbox\":[{\"marker\":{\"colorbar\":{\"outlinewidth\":0,\"ticks\":\"\"}},\"type\":\"scattermapbox\"}],\"scatterpolar\":[{\"marker\":{\"colorbar\":{\"outlinewidth\":0,\"ticks\":\"\"}},\"type\":\"scatterpolar\"}],\"scatterpolargl\":[{\"marker\":{\"colorbar\":{\"outlinewidth\":0,\"ticks\":\"\"}},\"type\":\"scatterpolargl\"}],\"scatterternary\":[{\"marker\":{\"colorbar\":{\"outlinewidth\":0,\"ticks\":\"\"}},\"type\":\"scatterternary\"}],\"surface\":[{\"colorbar\":{\"outlinewidth\":0,\"ticks\":\"\"},\"colorscale\":[[0.0,\"#0d0887\"],[0.1111111111111111,\"#46039f\"],[0.2222222222222222,\"#7201a8\"],[0.3333333333333333,\"#9c179e\"],[0.4444444444444444,\"#bd3786\"],[0.5555555555555556,\"#d8576b\"],[0.6666666666666666,\"#ed7953\"],[0.7777777777777778,\"#fb9f3a\"],[0.8888888888888888,\"#fdca26\"],[1.0,\"#f0f921\"]],\"type\":\"surface\"}],\"table\":[{\"cells\":{\"fill\":{\"color\":\"#EBF0F8\"},\"line\":{\"color\":\"white\"}},\"header\":{\"fill\":{\"color\":\"#C8D4E3\"},\"line\":{\"color\":\"white\"}},\"type\":\"table\"}]},\"layout\":{\"annotationdefaults\":{\"arrowcolor\":\"#2a3f5f\",\"arrowhead\":0,\"arrowwidth\":1},\"autotypenumbers\":\"strict\",\"coloraxis\":{\"colorbar\":{\"outlinewidth\":0,\"ticks\":\"\"}},\"colorscale\":{\"diverging\":[[0,\"#8e0152\"],[0.1,\"#c51b7d\"],[0.2,\"#de77ae\"],[0.3,\"#f1b6da\"],[0.4,\"#fde0ef\"],[0.5,\"#f7f7f7\"],[0.6,\"#e6f5d0\"],[0.7,\"#b8e186\"],[0.8,\"#7fbc41\"],[0.9,\"#4d9221\"],[1,\"#276419\"]],\"sequential\":[[0.0,\"#0d0887\"],[0.1111111111111111,\"#46039f\"],[0.2222222222222222,\"#7201a8\"],[0.3333333333333333,\"#9c179e\"],[0.4444444444444444,\"#bd3786\"],[0.5555555555555556,\"#d8576b\"],[0.6666666666666666,\"#ed7953\"],[0.7777777777777778,\"#fb9f3a\"],[0.8888888888888888,\"#fdca26\"],[1.0,\"#f0f921\"]],\"sequentialminus\":[[0.0,\"#0d0887\"],[0.1111111111111111,\"#46039f\"],[0.2222222222222222,\"#7201a8\"],[0.3333333333333333,\"#9c179e\"],[0.4444444444444444,\"#bd3786\"],[0.5555555555555556,\"#d8576b\"],[0.6666666666666666,\"#ed7953\"],[0.7777777777777778,\"#fb9f3a\"],[0.8888888888888888,\"#fdca26\"],[1.0,\"#f0f921\"]]},\"colorway\":[\"#636efa\",\"#EF553B\",\"#00cc96\",\"#ab63fa\",\"#FFA15A\",\"#19d3f3\",\"#FF6692\",\"#B6E880\",\"#FF97FF\",\"#FECB52\"],\"font\":{\"color\":\"#2a3f5f\"},\"geo\":{\"bgcolor\":\"white\",\"lakecolor\":\"white\",\"landcolor\":\"#E5ECF6\",\"showlakes\":true,\"showland\":true,\"subunitcolor\":\"white\"},\"hoverlabel\":{\"align\":\"left\"},\"hovermode\":\"closest\",\"mapbox\":{\"style\":\"light\"},\"paper_bgcolor\":\"white\",\"plot_bgcolor\":\"#E5ECF6\",\"polar\":{\"angularaxis\":{\"gridcolor\":\"white\",\"linecolor\":\"white\",\"ticks\":\"\"},\"bgcolor\":\"#E5ECF6\",\"radialaxis\":{\"gridcolor\":\"white\",\"linecolor\":\"white\",\"ticks\":\"\"}},\"scene\":{\"xaxis\":{\"backgroundcolor\":\"#E5ECF6\",\"gridcolor\":\"white\",\"gridwidth\":2,\"linecolor\":\"white\",\"showbackground\":true,\"ticks\":\"\",\"zerolinecolor\":\"white\"},\"yaxis\":{\"backgroundcolor\":\"#E5ECF6\",\"gridcolor\":\"white\",\"gridwidth\":2,\"linecolor\":\"white\",\"showbackground\":true,\"ticks\":\"\",\"zerolinecolor\":\"white\"},\"zaxis\":{\"backgroundcolor\":\"#E5ECF6\",\"gridcolor\":\"white\",\"gridwidth\":2,\"linecolor\":\"white\",\"showbackground\":true,\"ticks\":\"\",\"zerolinecolor\":\"white\"}},\"shapedefaults\":{\"line\":{\"color\":\"#2a3f5f\"}},\"ternary\":{\"aaxis\":{\"gridcolor\":\"white\",\"linecolor\":\"white\",\"ticks\":\"\"},\"baxis\":{\"gridcolor\":\"white\",\"linecolor\":\"white\",\"ticks\":\"\"},\"bgcolor\":\"#E5ECF6\",\"caxis\":{\"gridcolor\":\"white\",\"linecolor\":\"white\",\"ticks\":\"\"}},\"title\":{\"x\":0.05},\"xaxis\":{\"automargin\":true,\"gridcolor\":\"white\",\"linecolor\":\"white\",\"ticks\":\"\",\"title\":{\"standoff\":15},\"zerolinecolor\":\"white\",\"zerolinewidth\":2},\"yaxis\":{\"automargin\":true,\"gridcolor\":\"white\",\"linecolor\":\"white\",\"ticks\":\"\",\"title\":{\"standoff\":15},\"zerolinecolor\":\"white\",\"zerolinewidth\":2}}},\"xaxis\":{\"anchor\":\"y\",\"domain\":[0.0,1.0],\"title\":{\"text\":\"index\"}},\"yaxis\":{\"anchor\":\"x\",\"domain\":[0.0,1.0],\"title\":{\"text\":\"value\"}},\"legend\":{\"title\":{\"text\":\"variable\"},\"tracegroupgap\":0},\"margin\":{\"t\":60},\"barmode\":\"relative\"},                        {\"responsive\": true}                    ).then(function(){\n",
              "                            \n",
              "var gd = document.getElementById('dc253410-12c0-4929-a1c1-bc600e7a20bd');\n",
              "var x = new MutationObserver(function (mutations, observer) {{\n",
              "        var display = window.getComputedStyle(gd).display;\n",
              "        if (!display || display === 'none') {{\n",
              "            console.log([gd, 'removed!']);\n",
              "            Plotly.purge(gd);\n",
              "            observer.disconnect();\n",
              "        }}\n",
              "}});\n",
              "\n",
              "// Listen for the removal of the full notebook cells\n",
              "var notebookContainer = gd.closest('#notebook-container');\n",
              "if (notebookContainer) {{\n",
              "    x.observe(notebookContainer, {childList: true});\n",
              "}}\n",
              "\n",
              "// Listen for the clearing of the current output cell\n",
              "var outputEl = gd.closest('.output');\n",
              "if (outputEl) {{\n",
              "    x.observe(outputEl, {childList: true});\n",
              "}}\n",
              "\n",
              "                        })                };                            </script>        </div>\n",
              "</body>\n",
              "</html>"
            ]
          },
          "metadata": {}
        }
      ]
    },
    {
      "cell_type": "code",
      "source": [
        "# 38 primeiras instituições de Ensino Superior (IES) em nº de publicações na Contexto Internacional\n",
        "artigos_por_IES = contexto[\"OG\"].value_counts().head(38)\n",
        "artigos_por_IES"
      ],
      "metadata": {
        "colab": {
          "base_uri": "https://localhost:8080/"
        },
        "id": "4sSv6xo5IVAT",
        "outputId": "cf905908-2104-42f8-8fe0-13a3c4fe2f70"
      },
      "execution_count": 20,
      "outputs": [
        {
          "output_type": "execute_result",
          "data": {
            "text/plain": [
              "Pontifícia Universidade Católica do Rio de Janeiro                                                       28\n",
              "Universidade de São Paulo                                                                                 9\n",
              "Universidade do Estado do Rio de Janeiro                                                                  8\n",
              "Universidade Federal do Rio de Janeiro                                                                    6\n",
              "Pontifícia Universidade Católica de São Paulo (PUC-SP)                                                    6\n",
              "Universidade de Brasília                                                                                  6\n",
              "Pontifícia Universidade Católica do Rio de Janeiro;Pontifícia Universidade Católica do Rio de Janeiro     5\n",
              "Universidade Federal do Rio Grande do Sul                                                                 5\n",
              "Federal University of Pernambuco (UFPE)                                                                   4\n",
              "Pontifícia Universidade Católica do Rio de Janeiro (PUC-Rio)                                              4\n",
              "Pontifícia Universidade Católica de Minas Gerais                                                          4\n",
              "Universidade Federal de Santa Catarina                                                                    3\n",
              "Pontifical Catholic University of Rio de Janeiro (PUC-Rio)                                                3\n",
              "University of São Paulo (USP)                                                                             2\n",
              "Federal Rural University of Rio de Janeiro;Federal Rural University of Rio de Janeiro                     2\n",
              "Universidade Federal de São Carlos                                                                        2\n",
              "Harvard University                                                                                        2\n",
              "Universidade Federal da Bahia                                                                             2\n",
              "Centro Universitário do Distrito Federal                                                                  2\n",
              "Instituto de Pesquisa Econômica Aplicada;Instituto de Pesquisa Econômica Aplicada                         2\n",
              "Universidade Federal da Paraíba                                                                           2\n",
              "Federal University of Minas Gerais (UFMG)                                                                 2\n",
              "Universidade Federal do Rio Grande do Sul;Universidade Federal do Rio Grande do Sul                       2\n",
              "University of St Andrews                                                                                  2\n",
              "Universidade Federal do Rio de Janeiro;Universidade Federal do Rio de Janeiro                             2\n",
              "Universidade de Coimbra                                                                                   2\n",
              "Federal University of Rio Grande do Sul (UFRGS)                                                           2\n",
              "Universidade Federal de Uberlândia                                                                        2\n",
              "University of Brasília (UnB)                                                                              2\n",
              "Centro Universitário de Brasília                                                                          2\n",
              "Federal University of Rio Grande do Sul (UFRGS);Federal University of Rio Grande do Sul (UFRGS)           2\n",
              "University of São Paulo                                                                                   2\n",
              "Universidade Federal Fluminense                                                                           2\n",
              "Carleton University                                                                                       2\n",
              "Universidade de Brasília;Universidade de Brasília                                                         2\n",
              "Copenhagen Business School                                                                                2\n",
              "Pontifícia Universidade Católica de São Paulo                                                             2\n",
              "Universidade Estadual Paulista                                                                            2\n",
              "Name: OG, dtype: int64"
            ]
          },
          "metadata": {},
          "execution_count": 20
        }
      ]
    },
    {
      "cell_type": "code",
      "source": [
        "# Gráfico de barra das 38 principais IES de origem dos artigos na revista Contexto Internacional\n",
        "frequencia_artigos = px.bar(artigos_por_IES)\n",
        "frequencia_artigos"
      ],
      "metadata": {
        "colab": {
          "base_uri": "https://localhost:8080/",
          "height": 542
        },
        "id": "cMTe_9mpKUyN",
        "outputId": "c131f293-5671-407a-b246-6bcb822fa5ff"
      },
      "execution_count": 22,
      "outputs": [
        {
          "output_type": "display_data",
          "data": {
            "text/html": [
              "<html>\n",
              "<head><meta charset=\"utf-8\" /></head>\n",
              "<body>\n",
              "    <div>            <script src=\"https://cdnjs.cloudflare.com/ajax/libs/mathjax/2.7.5/MathJax.js?config=TeX-AMS-MML_SVG\"></script><script type=\"text/javascript\">if (window.MathJax) {MathJax.Hub.Config({SVG: {font: \"STIX-Web\"}});}</script>                <script type=\"text/javascript\">window.PlotlyConfig = {MathJaxConfig: 'local'};</script>\n",
              "        <script src=\"https://cdn.plot.ly/plotly-2.8.3.min.js\"></script>                <div id=\"5e971fd2-655f-4ad1-b03e-2aed9e29ae36\" class=\"plotly-graph-div\" style=\"height:525px; width:100%;\"></div>            <script type=\"text/javascript\">                                    window.PLOTLYENV=window.PLOTLYENV || {};                                    if (document.getElementById(\"5e971fd2-655f-4ad1-b03e-2aed9e29ae36\")) {                    Plotly.newPlot(                        \"5e971fd2-655f-4ad1-b03e-2aed9e29ae36\",                        [{\"alignmentgroup\":\"True\",\"hovertemplate\":\"variable=OG<br>index=%{x}<br>value=%{y}<extra></extra>\",\"legendgroup\":\"OG\",\"marker\":{\"color\":\"#636efa\",\"pattern\":{\"shape\":\"\"}},\"name\":\"OG\",\"offsetgroup\":\"OG\",\"orientation\":\"v\",\"showlegend\":true,\"textposition\":\"auto\",\"x\":[\"Pontif\\u00edcia Universidade Cat\\u00f3lica do Rio de Janeiro\",\"Universidade de S\\u00e3o Paulo\",\"Universidade do Estado do Rio de Janeiro\",\"Universidade Federal do Rio de Janeiro\",\"Pontif\\u00edcia Universidade Cat\\u00f3lica de S\\u00e3o Paulo (PUC-SP)\",\"Universidade de Bras\\u00edlia\",\"Pontif\\u00edcia Universidade Cat\\u00f3lica do Rio de Janeiro;Pontif\\u00edcia Universidade Cat\\u00f3lica do Rio de Janeiro\",\"Universidade Federal do Rio Grande do Sul\",\"Federal University of Pernambuco (UFPE)\",\"Pontif\\u00edcia Universidade Cat\\u00f3lica do Rio de Janeiro (PUC-Rio)\",\"Pontif\\u00edcia Universidade Cat\\u00f3lica de Minas Gerais\",\"Universidade Federal de Santa Catarina\",\"Pontifical Catholic University of Rio de Janeiro (PUC-Rio)\",\"University of S\\u00e3o Paulo (USP)\",\"Federal Rural University of Rio de Janeiro;Federal Rural University of Rio de Janeiro\",\"Universidade Federal de S\\u00e3o Carlos\",\"Harvard University\",\"Universidade Federal da Bahia\",\"Centro Universit\\u00e1rio do Distrito Federal\",\"Instituto de Pesquisa Econ\\u00f4mica Aplicada;Instituto de Pesquisa Econ\\u00f4mica Aplicada\",\"Universidade Federal da Para\\u00edba\",\"Federal University of Minas Gerais (UFMG)\",\"Universidade Federal do Rio Grande do Sul;Universidade Federal do Rio Grande do Sul\",\"University of St Andrews\",\"Universidade Federal do Rio de Janeiro;Universidade Federal do Rio de Janeiro\",\"Universidade de Coimbra\",\"Federal University of Rio Grande do Sul (UFRGS)\",\"Universidade Federal de Uberl\\u00e2ndia\",\"University of Bras\\u00edlia (UnB)\",\"Centro Universit\\u00e1rio de Bras\\u00edlia\",\"Federal University of Rio Grande do Sul (UFRGS);Federal University of Rio Grande do Sul (UFRGS)\",\"University of S\\u00e3o Paulo\",\"Universidade Federal Fluminense\",\"Carleton University\",\"Universidade de Bras\\u00edlia;Universidade de Bras\\u00edlia\",\"Copenhagen Business School\",\"Pontif\\u00edcia Universidade Cat\\u00f3lica de S\\u00e3o Paulo\",\"Universidade Estadual Paulista\"],\"xaxis\":\"x\",\"y\":[28,9,8,6,6,6,5,5,4,4,4,3,3,2,2,2,2,2,2,2,2,2,2,2,2,2,2,2,2,2,2,2,2,2,2,2,2,2],\"yaxis\":\"y\",\"type\":\"bar\"}],                        {\"template\":{\"data\":{\"bar\":[{\"error_x\":{\"color\":\"#2a3f5f\"},\"error_y\":{\"color\":\"#2a3f5f\"},\"marker\":{\"line\":{\"color\":\"#E5ECF6\",\"width\":0.5},\"pattern\":{\"fillmode\":\"overlay\",\"size\":10,\"solidity\":0.2}},\"type\":\"bar\"}],\"barpolar\":[{\"marker\":{\"line\":{\"color\":\"#E5ECF6\",\"width\":0.5},\"pattern\":{\"fillmode\":\"overlay\",\"size\":10,\"solidity\":0.2}},\"type\":\"barpolar\"}],\"carpet\":[{\"aaxis\":{\"endlinecolor\":\"#2a3f5f\",\"gridcolor\":\"white\",\"linecolor\":\"white\",\"minorgridcolor\":\"white\",\"startlinecolor\":\"#2a3f5f\"},\"baxis\":{\"endlinecolor\":\"#2a3f5f\",\"gridcolor\":\"white\",\"linecolor\":\"white\",\"minorgridcolor\":\"white\",\"startlinecolor\":\"#2a3f5f\"},\"type\":\"carpet\"}],\"choropleth\":[{\"colorbar\":{\"outlinewidth\":0,\"ticks\":\"\"},\"type\":\"choropleth\"}],\"contour\":[{\"colorbar\":{\"outlinewidth\":0,\"ticks\":\"\"},\"colorscale\":[[0.0,\"#0d0887\"],[0.1111111111111111,\"#46039f\"],[0.2222222222222222,\"#7201a8\"],[0.3333333333333333,\"#9c179e\"],[0.4444444444444444,\"#bd3786\"],[0.5555555555555556,\"#d8576b\"],[0.6666666666666666,\"#ed7953\"],[0.7777777777777778,\"#fb9f3a\"],[0.8888888888888888,\"#fdca26\"],[1.0,\"#f0f921\"]],\"type\":\"contour\"}],\"contourcarpet\":[{\"colorbar\":{\"outlinewidth\":0,\"ticks\":\"\"},\"type\":\"contourcarpet\"}],\"heatmap\":[{\"colorbar\":{\"outlinewidth\":0,\"ticks\":\"\"},\"colorscale\":[[0.0,\"#0d0887\"],[0.1111111111111111,\"#46039f\"],[0.2222222222222222,\"#7201a8\"],[0.3333333333333333,\"#9c179e\"],[0.4444444444444444,\"#bd3786\"],[0.5555555555555556,\"#d8576b\"],[0.6666666666666666,\"#ed7953\"],[0.7777777777777778,\"#fb9f3a\"],[0.8888888888888888,\"#fdca26\"],[1.0,\"#f0f921\"]],\"type\":\"heatmap\"}],\"heatmapgl\":[{\"colorbar\":{\"outlinewidth\":0,\"ticks\":\"\"},\"colorscale\":[[0.0,\"#0d0887\"],[0.1111111111111111,\"#46039f\"],[0.2222222222222222,\"#7201a8\"],[0.3333333333333333,\"#9c179e\"],[0.4444444444444444,\"#bd3786\"],[0.5555555555555556,\"#d8576b\"],[0.6666666666666666,\"#ed7953\"],[0.7777777777777778,\"#fb9f3a\"],[0.8888888888888888,\"#fdca26\"],[1.0,\"#f0f921\"]],\"type\":\"heatmapgl\"}],\"histogram\":[{\"marker\":{\"pattern\":{\"fillmode\":\"overlay\",\"size\":10,\"solidity\":0.2}},\"type\":\"histogram\"}],\"histogram2d\":[{\"colorbar\":{\"outlinewidth\":0,\"ticks\":\"\"},\"colorscale\":[[0.0,\"#0d0887\"],[0.1111111111111111,\"#46039f\"],[0.2222222222222222,\"#7201a8\"],[0.3333333333333333,\"#9c179e\"],[0.4444444444444444,\"#bd3786\"],[0.5555555555555556,\"#d8576b\"],[0.6666666666666666,\"#ed7953\"],[0.7777777777777778,\"#fb9f3a\"],[0.8888888888888888,\"#fdca26\"],[1.0,\"#f0f921\"]],\"type\":\"histogram2d\"}],\"histogram2dcontour\":[{\"colorbar\":{\"outlinewidth\":0,\"ticks\":\"\"},\"colorscale\":[[0.0,\"#0d0887\"],[0.1111111111111111,\"#46039f\"],[0.2222222222222222,\"#7201a8\"],[0.3333333333333333,\"#9c179e\"],[0.4444444444444444,\"#bd3786\"],[0.5555555555555556,\"#d8576b\"],[0.6666666666666666,\"#ed7953\"],[0.7777777777777778,\"#fb9f3a\"],[0.8888888888888888,\"#fdca26\"],[1.0,\"#f0f921\"]],\"type\":\"histogram2dcontour\"}],\"mesh3d\":[{\"colorbar\":{\"outlinewidth\":0,\"ticks\":\"\"},\"type\":\"mesh3d\"}],\"parcoords\":[{\"line\":{\"colorbar\":{\"outlinewidth\":0,\"ticks\":\"\"}},\"type\":\"parcoords\"}],\"pie\":[{\"automargin\":true,\"type\":\"pie\"}],\"scatter\":[{\"marker\":{\"colorbar\":{\"outlinewidth\":0,\"ticks\":\"\"}},\"type\":\"scatter\"}],\"scatter3d\":[{\"line\":{\"colorbar\":{\"outlinewidth\":0,\"ticks\":\"\"}},\"marker\":{\"colorbar\":{\"outlinewidth\":0,\"ticks\":\"\"}},\"type\":\"scatter3d\"}],\"scattercarpet\":[{\"marker\":{\"colorbar\":{\"outlinewidth\":0,\"ticks\":\"\"}},\"type\":\"scattercarpet\"}],\"scattergeo\":[{\"marker\":{\"colorbar\":{\"outlinewidth\":0,\"ticks\":\"\"}},\"type\":\"scattergeo\"}],\"scattergl\":[{\"marker\":{\"colorbar\":{\"outlinewidth\":0,\"ticks\":\"\"}},\"type\":\"scattergl\"}],\"scattermapbox\":[{\"marker\":{\"colorbar\":{\"outlinewidth\":0,\"ticks\":\"\"}},\"type\":\"scattermapbox\"}],\"scatterpolar\":[{\"marker\":{\"colorbar\":{\"outlinewidth\":0,\"ticks\":\"\"}},\"type\":\"scatterpolar\"}],\"scatterpolargl\":[{\"marker\":{\"colorbar\":{\"outlinewidth\":0,\"ticks\":\"\"}},\"type\":\"scatterpolargl\"}],\"scatterternary\":[{\"marker\":{\"colorbar\":{\"outlinewidth\":0,\"ticks\":\"\"}},\"type\":\"scatterternary\"}],\"surface\":[{\"colorbar\":{\"outlinewidth\":0,\"ticks\":\"\"},\"colorscale\":[[0.0,\"#0d0887\"],[0.1111111111111111,\"#46039f\"],[0.2222222222222222,\"#7201a8\"],[0.3333333333333333,\"#9c179e\"],[0.4444444444444444,\"#bd3786\"],[0.5555555555555556,\"#d8576b\"],[0.6666666666666666,\"#ed7953\"],[0.7777777777777778,\"#fb9f3a\"],[0.8888888888888888,\"#fdca26\"],[1.0,\"#f0f921\"]],\"type\":\"surface\"}],\"table\":[{\"cells\":{\"fill\":{\"color\":\"#EBF0F8\"},\"line\":{\"color\":\"white\"}},\"header\":{\"fill\":{\"color\":\"#C8D4E3\"},\"line\":{\"color\":\"white\"}},\"type\":\"table\"}]},\"layout\":{\"annotationdefaults\":{\"arrowcolor\":\"#2a3f5f\",\"arrowhead\":0,\"arrowwidth\":1},\"autotypenumbers\":\"strict\",\"coloraxis\":{\"colorbar\":{\"outlinewidth\":0,\"ticks\":\"\"}},\"colorscale\":{\"diverging\":[[0,\"#8e0152\"],[0.1,\"#c51b7d\"],[0.2,\"#de77ae\"],[0.3,\"#f1b6da\"],[0.4,\"#fde0ef\"],[0.5,\"#f7f7f7\"],[0.6,\"#e6f5d0\"],[0.7,\"#b8e186\"],[0.8,\"#7fbc41\"],[0.9,\"#4d9221\"],[1,\"#276419\"]],\"sequential\":[[0.0,\"#0d0887\"],[0.1111111111111111,\"#46039f\"],[0.2222222222222222,\"#7201a8\"],[0.3333333333333333,\"#9c179e\"],[0.4444444444444444,\"#bd3786\"],[0.5555555555555556,\"#d8576b\"],[0.6666666666666666,\"#ed7953\"],[0.7777777777777778,\"#fb9f3a\"],[0.8888888888888888,\"#fdca26\"],[1.0,\"#f0f921\"]],\"sequentialminus\":[[0.0,\"#0d0887\"],[0.1111111111111111,\"#46039f\"],[0.2222222222222222,\"#7201a8\"],[0.3333333333333333,\"#9c179e\"],[0.4444444444444444,\"#bd3786\"],[0.5555555555555556,\"#d8576b\"],[0.6666666666666666,\"#ed7953\"],[0.7777777777777778,\"#fb9f3a\"],[0.8888888888888888,\"#fdca26\"],[1.0,\"#f0f921\"]]},\"colorway\":[\"#636efa\",\"#EF553B\",\"#00cc96\",\"#ab63fa\",\"#FFA15A\",\"#19d3f3\",\"#FF6692\",\"#B6E880\",\"#FF97FF\",\"#FECB52\"],\"font\":{\"color\":\"#2a3f5f\"},\"geo\":{\"bgcolor\":\"white\",\"lakecolor\":\"white\",\"landcolor\":\"#E5ECF6\",\"showlakes\":true,\"showland\":true,\"subunitcolor\":\"white\"},\"hoverlabel\":{\"align\":\"left\"},\"hovermode\":\"closest\",\"mapbox\":{\"style\":\"light\"},\"paper_bgcolor\":\"white\",\"plot_bgcolor\":\"#E5ECF6\",\"polar\":{\"angularaxis\":{\"gridcolor\":\"white\",\"linecolor\":\"white\",\"ticks\":\"\"},\"bgcolor\":\"#E5ECF6\",\"radialaxis\":{\"gridcolor\":\"white\",\"linecolor\":\"white\",\"ticks\":\"\"}},\"scene\":{\"xaxis\":{\"backgroundcolor\":\"#E5ECF6\",\"gridcolor\":\"white\",\"gridwidth\":2,\"linecolor\":\"white\",\"showbackground\":true,\"ticks\":\"\",\"zerolinecolor\":\"white\"},\"yaxis\":{\"backgroundcolor\":\"#E5ECF6\",\"gridcolor\":\"white\",\"gridwidth\":2,\"linecolor\":\"white\",\"showbackground\":true,\"ticks\":\"\",\"zerolinecolor\":\"white\"},\"zaxis\":{\"backgroundcolor\":\"#E5ECF6\",\"gridcolor\":\"white\",\"gridwidth\":2,\"linecolor\":\"white\",\"showbackground\":true,\"ticks\":\"\",\"zerolinecolor\":\"white\"}},\"shapedefaults\":{\"line\":{\"color\":\"#2a3f5f\"}},\"ternary\":{\"aaxis\":{\"gridcolor\":\"white\",\"linecolor\":\"white\",\"ticks\":\"\"},\"baxis\":{\"gridcolor\":\"white\",\"linecolor\":\"white\",\"ticks\":\"\"},\"bgcolor\":\"#E5ECF6\",\"caxis\":{\"gridcolor\":\"white\",\"linecolor\":\"white\",\"ticks\":\"\"}},\"title\":{\"x\":0.05},\"xaxis\":{\"automargin\":true,\"gridcolor\":\"white\",\"linecolor\":\"white\",\"ticks\":\"\",\"title\":{\"standoff\":15},\"zerolinecolor\":\"white\",\"zerolinewidth\":2},\"yaxis\":{\"automargin\":true,\"gridcolor\":\"white\",\"linecolor\":\"white\",\"ticks\":\"\",\"title\":{\"standoff\":15},\"zerolinecolor\":\"white\",\"zerolinewidth\":2}}},\"xaxis\":{\"anchor\":\"y\",\"domain\":[0.0,1.0],\"title\":{\"text\":\"index\"}},\"yaxis\":{\"anchor\":\"x\",\"domain\":[0.0,1.0],\"title\":{\"text\":\"value\"}},\"legend\":{\"title\":{\"text\":\"variable\"},\"tracegroupgap\":0},\"margin\":{\"t\":60},\"barmode\":\"relative\"},                        {\"responsive\": true}                    ).then(function(){\n",
              "                            \n",
              "var gd = document.getElementById('5e971fd2-655f-4ad1-b03e-2aed9e29ae36');\n",
              "var x = new MutationObserver(function (mutations, observer) {{\n",
              "        var display = window.getComputedStyle(gd).display;\n",
              "        if (!display || display === 'none') {{\n",
              "            console.log([gd, 'removed!']);\n",
              "            Plotly.purge(gd);\n",
              "            observer.disconnect();\n",
              "        }}\n",
              "}});\n",
              "\n",
              "// Listen for the removal of the full notebook cells\n",
              "var notebookContainer = gd.closest('#notebook-container');\n",
              "if (notebookContainer) {{\n",
              "    x.observe(notebookContainer, {childList: true});\n",
              "}}\n",
              "\n",
              "// Listen for the clearing of the current output cell\n",
              "var outputEl = gd.closest('.output');\n",
              "if (outputEl) {{\n",
              "    x.observe(outputEl, {childList: true});\n",
              "}}\n",
              "\n",
              "                        })                };                            </script>        </div>\n",
              "</body>\n",
              "</html>"
            ]
          },
          "metadata": {}
        }
      ]
    },
    {
      "cell_type": "code",
      "source": [
        "# Idioma (Language)\n",
        "artigos_por_idioma = contexto[\"LA\"].value_counts()\n",
        "artigos_por_idioma"
      ],
      "metadata": {
        "id": "tbbj21IBMJyr"
      },
      "execution_count": null,
      "outputs": []
    },
    {
      "cell_type": "code",
      "source": [
        "# Gráfico de pizza das publicações por idioma\n",
        "frequencia_artigos = artigos_por_idioma.plot(kind=\"pie\", autopct=\"%0.2f%%\")\n",
        "frequencia_artigos"
      ],
      "metadata": {
        "id": "kDmK9ajYM44O"
      },
      "execution_count": null,
      "outputs": []
    },
    {
      "cell_type": "code",
      "source": [],
      "metadata": {
        "id": "UojOVqKlODsK"
      },
      "execution_count": null,
      "outputs": []
    }
  ]
}