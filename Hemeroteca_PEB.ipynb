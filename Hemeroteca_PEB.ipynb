{
  "nbformat": 4,
  "nbformat_minor": 0,
  "metadata": {
    "colab": {
      "provenance": [],
      "authorship_tag": "ABX9TyOBMZpEhwHVAYSaMDGhDFD/",
      "include_colab_link": true
    },
    "kernelspec": {
      "name": "python3",
      "display_name": "Python 3"
    },
    "language_info": {
      "name": "python"
    }
  },
  "cells": [
    {
      "cell_type": "markdown",
      "metadata": {
        "id": "view-in-github",
        "colab_type": "text"
      },
      "source": [
        "<a href=\"https://colab.research.google.com/github/thiagovicino/python_analise_dados/blob/main/Hemeroteca_PEB.ipynb\" target=\"_parent\"><img src=\"https://colab.research.google.com/assets/colab-badge.svg\" alt=\"Open In Colab\"/></a>"
      ]
    },
    {
      "cell_type": "code",
      "execution_count": null,
      "metadata": {
        "id": "NuPmFD1padJw"
      },
      "outputs": [],
      "source": [
        "import numpy as np\n",
        "import pandas as pd\n",
        "import matplotlib.pyplot as plt"
      ]
    },
    {
      "cell_type": "code",
      "source": [
        "arq_json = \"METADADOS_FINAL.json\"\n",
        "dataset = pd.read_json(arq_json, orient=\"columns\")\n",
        "dataset = pd.json_normalize(dataset[\"_default\"])\n",
        "dataset"
      ],
      "metadata": {
        "colab": {
          "base_uri": "https://localhost:8080/",
          "height": 852
        },
        "id": "sZ6ayCl3ay2V",
        "outputId": "e218da9e-b6a0-4546-e016-9d268d70deac"
      },
      "execution_count": null,
      "outputs": [
        {
          "output_type": "execute_result",
          "data": {
            "text/plain": [
              "                              tema        data                jornal  \\\n",
              "0              03-brasil-argentina  26/11/2004     Jornal da ciência   \n",
              "1              03-brasil-argentina  17/12/2009      Gazeta Mercantil   \n",
              "2                 08-brasil-europa  00/00/0000  O Estado de S. Paulo   \n",
              "3              03-brasil-argentina  11/01/2002      Gazeta Mercantil   \n",
              "4      12-brasil-politica_exterior  30/03/2000      Gazeta Mercantil   \n",
              "...                            ...         ...                   ...   \n",
              "28993  12-brasil-politica_exterior  23/03/2000  O Estado de S. Paulo   \n",
              "28994  12-brasil-politica_exterior  24/03/2000      Gazeta Mercantil   \n",
              "28995  12-brasil-politica_exterior  27/03/2000      Gazeta Mercantil   \n",
              "28996  12-brasil-politica_exterior  28/03/2000  O Estado de S. Paulo   \n",
              "28997  12-brasil-politica_exterior  28/03/2000      Gazeta Mercantil   \n",
              "\n",
              "      jornal_sigla                                     titulo_noticia  \\\n",
              "0             SBPC         Reunião de Buenos Aires: Ciências da saúde   \n",
              "1              GZM       Agrale investirá uS$ 10 milhões na argentina   \n",
              "2              ESP  UE prepara estímulos para o etanol e Brasil po...   \n",
              "3              GZM                  Sistema financeiro ja esta falido   \n",
              "4              GZM                Apoio a Embraer de novo sob pressao   \n",
              "...            ...                                                ...   \n",
              "28993          ESP         OMC suspende negociacoes sobre agricultura   \n",
              "28994          GZM     UE insiste em multifuncionalidade na agricultu   \n",
              "28995          GZM     Tavares distribuira farpas contra os paises ma   \n",
              "28996          ESP       FMI deve promover estabilidade e crescimento   \n",
              "28997          GZM                       Embraer decisao sai 6a feira   \n",
              "\n",
              "                                        nome_arquivo_tif  \\\n",
              "0      [2004-11-26-SBPC-Reuniao_de_Buenos_Aires:_cien...   \n",
              "1      [2009-12-17-GZM-Agrale_investira_uS$_10_milhoe...   \n",
              "2      [0000-00-00-ESP-UE_prepara_estimulos_para_o_et...   \n",
              "3      [2002-01-11-GZM-Sistema_financeiro_ja_esta_fal...   \n",
              "4      [2000-03-30-GZM-Apoio_a_Embraer_de_novo_sob_pr...   \n",
              "...                                                  ...   \n",
              "28993  [2000-03-23-ESP-OMC_suspende_negociacoes_sobre...   \n",
              "28994  [2000-03-24-GZM-UE_insiste_em_multifuncionalid...   \n",
              "28995  [2000-03-27-GZM-Tavares_distribuira_farpas_con...   \n",
              "28996  [2000-03-28-ESP-FMI_deve_promover_estabilidade...   \n",
              "28997  [2000-03-28-GZM-Embraer_decisao_sai_6a_feira-p...   \n",
              "\n",
              "                                        nome_arquivo_pdf  quant_pags  \\\n",
              "0      2004-11-26-SBPC-Reuniao_de_Buenos_Aires:_cienc...           1   \n",
              "1      2009-12-17-GZM-Agrale_investira_uS$_10_milhoes...           1   \n",
              "2      0000-00-00-ESP-UE_prepara_estimulos_para_o_eta...           1   \n",
              "3      2002-01-11-GZM-Sistema_financeiro_ja_esta_fali...           1   \n",
              "4      2000-03-30-GZM-Apoio_a_Embraer_de_novo_sob_pre...           1   \n",
              "...                                                  ...         ...   \n",
              "28993  2000-03-23-ESP-OMC_suspende_negociacoes_sobre_...           1   \n",
              "28994  2000-03-24-GZM-UE_insiste_em_multifuncionalida...           2   \n",
              "28995  2000-03-27-GZM-Tavares_distribuira_farpas_cont...           1   \n",
              "28996  2000-03-28-ESP-FMI_deve_promover_estabilidade_...           3   \n",
              "28997  2000-03-28-GZM-Embraer_decisao_sai_6a_feira-p0...           1   \n",
              "\n",
              "      verifica_ocr paragrafos autoria                             dir_bd  \\\n",
              "0             true         NA      NA  /media/hdvm08/bd/002/997/001/json   \n",
              "1             true         NA      NA  /media/hdvm08/bd/002/997/001/json   \n",
              "2             true         NA      NA  /media/hdvm08/bd/002/997/001/json   \n",
              "3             true         NA      NA  /media/hdvm08/bd/002/997/001/json   \n",
              "4             true         NA      NA  /media/hdvm08/bd/002/997/001/json   \n",
              "...            ...        ...     ...                                ...   \n",
              "28993         true         NA      NA  /media/hdvm08/bd/002/997/001/json   \n",
              "28994         true         NA      NA  /media/hdvm08/bd/002/997/001/json   \n",
              "28995         true         NA      NA  /media/hdvm08/bd/002/997/001/json   \n",
              "28996         true         NA      NA  /media/hdvm08/bd/002/997/001/json   \n",
              "28997         true         NA      NA  /media/hdvm08/bd/002/997/001/json   \n",
              "\n",
              "                                             dir_arquivo     codigo_bd  \\\n",
              "0      /media/hdvm08/bd/002/997/001/tif/03-brasil-arg...  /002/997/001   \n",
              "1      /media/hdvm08/bd/002/997/001/tif/03-brasil-arg...  /002/997/001   \n",
              "2      /media/hdvm08/bd/002/997/001/tif/08-brasil-eur...  /002/997/001   \n",
              "3      /media/hdvm08/bd/002/997/001/tif/03-brasil-arg...  /002/997/001   \n",
              "4      /media/hdvm08/bd/002/997/001/tif/12-brasil-pol...  /002/997/001   \n",
              "...                                                  ...           ...   \n",
              "28993  /media/hdvm08/bd/002/997/001/tif/12-brasil-pol...  /002/997/001   \n",
              "28994  /media/hdvm08/bd/002/997/001/tif/12-brasil-pol...  /002/997/001   \n",
              "28995  /media/hdvm08/bd/002/997/001/tif/12-brasil-pol...  /002/997/001   \n",
              "28996  /media/hdvm08/bd/002/997/001/tif/12-brasil-pol...  /002/997/001   \n",
              "28997  /media/hdvm08/bd/002/997/001/tif/12-brasil-pol...  /002/997/001   \n",
              "\n",
              "                                                 dir_pdf  \n",
              "0      /media/hdvm08/bd/002/997/001/pdf/03-brasil-arg...  \n",
              "1      /media/hdvm08/bd/002/997/001/pdf/03-brasil-arg...  \n",
              "2      /media/hdvm08/bd/002/997/001/pdf/08-brasil-europa  \n",
              "3      /media/hdvm08/bd/002/997/001/pdf/03-brasil-arg...  \n",
              "4      /media/hdvm08/bd/002/997/001/pdf/12-brasil-pol...  \n",
              "...                                                  ...  \n",
              "28993  /media/hdvm08/bd/002/997/001/pdf/12-brasil-pol...  \n",
              "28994  /media/hdvm08/bd/002/997/001/pdf/12-brasil-pol...  \n",
              "28995  /media/hdvm08/bd/002/997/001/pdf/12-brasil-pol...  \n",
              "28996  /media/hdvm08/bd/002/997/001/pdf/12-brasil-pol...  \n",
              "28997  /media/hdvm08/bd/002/997/001/pdf/12-brasil-pol...  \n",
              "\n",
              "[28998 rows x 15 columns]"
            ],
            "text/html": [
              "\n",
              "  <div id=\"df-37ee7c7f-48a8-43e6-ab37-e1cc048411a5\">\n",
              "    <div class=\"colab-df-container\">\n",
              "      <div>\n",
              "<style scoped>\n",
              "    .dataframe tbody tr th:only-of-type {\n",
              "        vertical-align: middle;\n",
              "    }\n",
              "\n",
              "    .dataframe tbody tr th {\n",
              "        vertical-align: top;\n",
              "    }\n",
              "\n",
              "    .dataframe thead th {\n",
              "        text-align: right;\n",
              "    }\n",
              "</style>\n",
              "<table border=\"1\" class=\"dataframe\">\n",
              "  <thead>\n",
              "    <tr style=\"text-align: right;\">\n",
              "      <th></th>\n",
              "      <th>tema</th>\n",
              "      <th>data</th>\n",
              "      <th>jornal</th>\n",
              "      <th>jornal_sigla</th>\n",
              "      <th>titulo_noticia</th>\n",
              "      <th>nome_arquivo_tif</th>\n",
              "      <th>nome_arquivo_pdf</th>\n",
              "      <th>quant_pags</th>\n",
              "      <th>verifica_ocr</th>\n",
              "      <th>paragrafos</th>\n",
              "      <th>autoria</th>\n",
              "      <th>dir_bd</th>\n",
              "      <th>dir_arquivo</th>\n",
              "      <th>codigo_bd</th>\n",
              "      <th>dir_pdf</th>\n",
              "    </tr>\n",
              "  </thead>\n",
              "  <tbody>\n",
              "    <tr>\n",
              "      <th>0</th>\n",
              "      <td>03-brasil-argentina</td>\n",
              "      <td>26/11/2004</td>\n",
              "      <td>Jornal da ciência</td>\n",
              "      <td>SBPC</td>\n",
              "      <td>Reunião de Buenos Aires: Ciências da saúde</td>\n",
              "      <td>[2004-11-26-SBPC-Reuniao_de_Buenos_Aires:_cien...</td>\n",
              "      <td>2004-11-26-SBPC-Reuniao_de_Buenos_Aires:_cienc...</td>\n",
              "      <td>1</td>\n",
              "      <td>true</td>\n",
              "      <td>NA</td>\n",
              "      <td>NA</td>\n",
              "      <td>/media/hdvm08/bd/002/997/001/json</td>\n",
              "      <td>/media/hdvm08/bd/002/997/001/tif/03-brasil-arg...</td>\n",
              "      <td>/002/997/001</td>\n",
              "      <td>/media/hdvm08/bd/002/997/001/pdf/03-brasil-arg...</td>\n",
              "    </tr>\n",
              "    <tr>\n",
              "      <th>1</th>\n",
              "      <td>03-brasil-argentina</td>\n",
              "      <td>17/12/2009</td>\n",
              "      <td>Gazeta Mercantil</td>\n",
              "      <td>GZM</td>\n",
              "      <td>Agrale investirá uS$ 10 milhões na argentina</td>\n",
              "      <td>[2009-12-17-GZM-Agrale_investira_uS$_10_milhoe...</td>\n",
              "      <td>2009-12-17-GZM-Agrale_investira_uS$_10_milhoes...</td>\n",
              "      <td>1</td>\n",
              "      <td>true</td>\n",
              "      <td>NA</td>\n",
              "      <td>NA</td>\n",
              "      <td>/media/hdvm08/bd/002/997/001/json</td>\n",
              "      <td>/media/hdvm08/bd/002/997/001/tif/03-brasil-arg...</td>\n",
              "      <td>/002/997/001</td>\n",
              "      <td>/media/hdvm08/bd/002/997/001/pdf/03-brasil-arg...</td>\n",
              "    </tr>\n",
              "    <tr>\n",
              "      <th>2</th>\n",
              "      <td>08-brasil-europa</td>\n",
              "      <td>00/00/0000</td>\n",
              "      <td>O Estado de S. Paulo</td>\n",
              "      <td>ESP</td>\n",
              "      <td>UE prepara estímulos para o etanol e Brasil po...</td>\n",
              "      <td>[0000-00-00-ESP-UE_prepara_estimulos_para_o_et...</td>\n",
              "      <td>0000-00-00-ESP-UE_prepara_estimulos_para_o_eta...</td>\n",
              "      <td>1</td>\n",
              "      <td>true</td>\n",
              "      <td>NA</td>\n",
              "      <td>NA</td>\n",
              "      <td>/media/hdvm08/bd/002/997/001/json</td>\n",
              "      <td>/media/hdvm08/bd/002/997/001/tif/08-brasil-eur...</td>\n",
              "      <td>/002/997/001</td>\n",
              "      <td>/media/hdvm08/bd/002/997/001/pdf/08-brasil-europa</td>\n",
              "    </tr>\n",
              "    <tr>\n",
              "      <th>3</th>\n",
              "      <td>03-brasil-argentina</td>\n",
              "      <td>11/01/2002</td>\n",
              "      <td>Gazeta Mercantil</td>\n",
              "      <td>GZM</td>\n",
              "      <td>Sistema financeiro ja esta falido</td>\n",
              "      <td>[2002-01-11-GZM-Sistema_financeiro_ja_esta_fal...</td>\n",
              "      <td>2002-01-11-GZM-Sistema_financeiro_ja_esta_fali...</td>\n",
              "      <td>1</td>\n",
              "      <td>true</td>\n",
              "      <td>NA</td>\n",
              "      <td>NA</td>\n",
              "      <td>/media/hdvm08/bd/002/997/001/json</td>\n",
              "      <td>/media/hdvm08/bd/002/997/001/tif/03-brasil-arg...</td>\n",
              "      <td>/002/997/001</td>\n",
              "      <td>/media/hdvm08/bd/002/997/001/pdf/03-brasil-arg...</td>\n",
              "    </tr>\n",
              "    <tr>\n",
              "      <th>4</th>\n",
              "      <td>12-brasil-politica_exterior</td>\n",
              "      <td>30/03/2000</td>\n",
              "      <td>Gazeta Mercantil</td>\n",
              "      <td>GZM</td>\n",
              "      <td>Apoio a Embraer de novo sob pressao</td>\n",
              "      <td>[2000-03-30-GZM-Apoio_a_Embraer_de_novo_sob_pr...</td>\n",
              "      <td>2000-03-30-GZM-Apoio_a_Embraer_de_novo_sob_pre...</td>\n",
              "      <td>1</td>\n",
              "      <td>true</td>\n",
              "      <td>NA</td>\n",
              "      <td>NA</td>\n",
              "      <td>/media/hdvm08/bd/002/997/001/json</td>\n",
              "      <td>/media/hdvm08/bd/002/997/001/tif/12-brasil-pol...</td>\n",
              "      <td>/002/997/001</td>\n",
              "      <td>/media/hdvm08/bd/002/997/001/pdf/12-brasil-pol...</td>\n",
              "    </tr>\n",
              "    <tr>\n",
              "      <th>...</th>\n",
              "      <td>...</td>\n",
              "      <td>...</td>\n",
              "      <td>...</td>\n",
              "      <td>...</td>\n",
              "      <td>...</td>\n",
              "      <td>...</td>\n",
              "      <td>...</td>\n",
              "      <td>...</td>\n",
              "      <td>...</td>\n",
              "      <td>...</td>\n",
              "      <td>...</td>\n",
              "      <td>...</td>\n",
              "      <td>...</td>\n",
              "      <td>...</td>\n",
              "      <td>...</td>\n",
              "    </tr>\n",
              "    <tr>\n",
              "      <th>28993</th>\n",
              "      <td>12-brasil-politica_exterior</td>\n",
              "      <td>23/03/2000</td>\n",
              "      <td>O Estado de S. Paulo</td>\n",
              "      <td>ESP</td>\n",
              "      <td>OMC suspende negociacoes sobre agricultura</td>\n",
              "      <td>[2000-03-23-ESP-OMC_suspende_negociacoes_sobre...</td>\n",
              "      <td>2000-03-23-ESP-OMC_suspende_negociacoes_sobre_...</td>\n",
              "      <td>1</td>\n",
              "      <td>true</td>\n",
              "      <td>NA</td>\n",
              "      <td>NA</td>\n",
              "      <td>/media/hdvm08/bd/002/997/001/json</td>\n",
              "      <td>/media/hdvm08/bd/002/997/001/tif/12-brasil-pol...</td>\n",
              "      <td>/002/997/001</td>\n",
              "      <td>/media/hdvm08/bd/002/997/001/pdf/12-brasil-pol...</td>\n",
              "    </tr>\n",
              "    <tr>\n",
              "      <th>28994</th>\n",
              "      <td>12-brasil-politica_exterior</td>\n",
              "      <td>24/03/2000</td>\n",
              "      <td>Gazeta Mercantil</td>\n",
              "      <td>GZM</td>\n",
              "      <td>UE insiste em multifuncionalidade na agricultu</td>\n",
              "      <td>[2000-03-24-GZM-UE_insiste_em_multifuncionalid...</td>\n",
              "      <td>2000-03-24-GZM-UE_insiste_em_multifuncionalida...</td>\n",
              "      <td>2</td>\n",
              "      <td>true</td>\n",
              "      <td>NA</td>\n",
              "      <td>NA</td>\n",
              "      <td>/media/hdvm08/bd/002/997/001/json</td>\n",
              "      <td>/media/hdvm08/bd/002/997/001/tif/12-brasil-pol...</td>\n",
              "      <td>/002/997/001</td>\n",
              "      <td>/media/hdvm08/bd/002/997/001/pdf/12-brasil-pol...</td>\n",
              "    </tr>\n",
              "    <tr>\n",
              "      <th>28995</th>\n",
              "      <td>12-brasil-politica_exterior</td>\n",
              "      <td>27/03/2000</td>\n",
              "      <td>Gazeta Mercantil</td>\n",
              "      <td>GZM</td>\n",
              "      <td>Tavares distribuira farpas contra os paises ma</td>\n",
              "      <td>[2000-03-27-GZM-Tavares_distribuira_farpas_con...</td>\n",
              "      <td>2000-03-27-GZM-Tavares_distribuira_farpas_cont...</td>\n",
              "      <td>1</td>\n",
              "      <td>true</td>\n",
              "      <td>NA</td>\n",
              "      <td>NA</td>\n",
              "      <td>/media/hdvm08/bd/002/997/001/json</td>\n",
              "      <td>/media/hdvm08/bd/002/997/001/tif/12-brasil-pol...</td>\n",
              "      <td>/002/997/001</td>\n",
              "      <td>/media/hdvm08/bd/002/997/001/pdf/12-brasil-pol...</td>\n",
              "    </tr>\n",
              "    <tr>\n",
              "      <th>28996</th>\n",
              "      <td>12-brasil-politica_exterior</td>\n",
              "      <td>28/03/2000</td>\n",
              "      <td>O Estado de S. Paulo</td>\n",
              "      <td>ESP</td>\n",
              "      <td>FMI deve promover estabilidade e crescimento</td>\n",
              "      <td>[2000-03-28-ESP-FMI_deve_promover_estabilidade...</td>\n",
              "      <td>2000-03-28-ESP-FMI_deve_promover_estabilidade_...</td>\n",
              "      <td>3</td>\n",
              "      <td>true</td>\n",
              "      <td>NA</td>\n",
              "      <td>NA</td>\n",
              "      <td>/media/hdvm08/bd/002/997/001/json</td>\n",
              "      <td>/media/hdvm08/bd/002/997/001/tif/12-brasil-pol...</td>\n",
              "      <td>/002/997/001</td>\n",
              "      <td>/media/hdvm08/bd/002/997/001/pdf/12-brasil-pol...</td>\n",
              "    </tr>\n",
              "    <tr>\n",
              "      <th>28997</th>\n",
              "      <td>12-brasil-politica_exterior</td>\n",
              "      <td>28/03/2000</td>\n",
              "      <td>Gazeta Mercantil</td>\n",
              "      <td>GZM</td>\n",
              "      <td>Embraer decisao sai 6a feira</td>\n",
              "      <td>[2000-03-28-GZM-Embraer_decisao_sai_6a_feira-p...</td>\n",
              "      <td>2000-03-28-GZM-Embraer_decisao_sai_6a_feira-p0...</td>\n",
              "      <td>1</td>\n",
              "      <td>true</td>\n",
              "      <td>NA</td>\n",
              "      <td>NA</td>\n",
              "      <td>/media/hdvm08/bd/002/997/001/json</td>\n",
              "      <td>/media/hdvm08/bd/002/997/001/tif/12-brasil-pol...</td>\n",
              "      <td>/002/997/001</td>\n",
              "      <td>/media/hdvm08/bd/002/997/001/pdf/12-brasil-pol...</td>\n",
              "    </tr>\n",
              "  </tbody>\n",
              "</table>\n",
              "<p>28998 rows × 15 columns</p>\n",
              "</div>\n",
              "      <button class=\"colab-df-convert\" onclick=\"convertToInteractive('df-37ee7c7f-48a8-43e6-ab37-e1cc048411a5')\"\n",
              "              title=\"Convert this dataframe to an interactive table.\"\n",
              "              style=\"display:none;\">\n",
              "        \n",
              "  <svg xmlns=\"http://www.w3.org/2000/svg\" height=\"24px\"viewBox=\"0 0 24 24\"\n",
              "       width=\"24px\">\n",
              "    <path d=\"M0 0h24v24H0V0z\" fill=\"none\"/>\n",
              "    <path d=\"M18.56 5.44l.94 2.06.94-2.06 2.06-.94-2.06-.94-.94-2.06-.94 2.06-2.06.94zm-11 1L8.5 8.5l.94-2.06 2.06-.94-2.06-.94L8.5 2.5l-.94 2.06-2.06.94zm10 10l.94 2.06.94-2.06 2.06-.94-2.06-.94-.94-2.06-.94 2.06-2.06.94z\"/><path d=\"M17.41 7.96l-1.37-1.37c-.4-.4-.92-.59-1.43-.59-.52 0-1.04.2-1.43.59L10.3 9.45l-7.72 7.72c-.78.78-.78 2.05 0 2.83L4 21.41c.39.39.9.59 1.41.59.51 0 1.02-.2 1.41-.59l7.78-7.78 2.81-2.81c.8-.78.8-2.07 0-2.86zM5.41 20L4 18.59l7.72-7.72 1.47 1.35L5.41 20z\"/>\n",
              "  </svg>\n",
              "      </button>\n",
              "      \n",
              "  <style>\n",
              "    .colab-df-container {\n",
              "      display:flex;\n",
              "      flex-wrap:wrap;\n",
              "      gap: 12px;\n",
              "    }\n",
              "\n",
              "    .colab-df-convert {\n",
              "      background-color: #E8F0FE;\n",
              "      border: none;\n",
              "      border-radius: 50%;\n",
              "      cursor: pointer;\n",
              "      display: none;\n",
              "      fill: #1967D2;\n",
              "      height: 32px;\n",
              "      padding: 0 0 0 0;\n",
              "      width: 32px;\n",
              "    }\n",
              "\n",
              "    .colab-df-convert:hover {\n",
              "      background-color: #E2EBFA;\n",
              "      box-shadow: 0px 1px 2px rgba(60, 64, 67, 0.3), 0px 1px 3px 1px rgba(60, 64, 67, 0.15);\n",
              "      fill: #174EA6;\n",
              "    }\n",
              "\n",
              "    [theme=dark] .colab-df-convert {\n",
              "      background-color: #3B4455;\n",
              "      fill: #D2E3FC;\n",
              "    }\n",
              "\n",
              "    [theme=dark] .colab-df-convert:hover {\n",
              "      background-color: #434B5C;\n",
              "      box-shadow: 0px 1px 3px 1px rgba(0, 0, 0, 0.15);\n",
              "      filter: drop-shadow(0px 1px 2px rgba(0, 0, 0, 0.3));\n",
              "      fill: #FFFFFF;\n",
              "    }\n",
              "  </style>\n",
              "\n",
              "      <script>\n",
              "        const buttonEl =\n",
              "          document.querySelector('#df-37ee7c7f-48a8-43e6-ab37-e1cc048411a5 button.colab-df-convert');\n",
              "        buttonEl.style.display =\n",
              "          google.colab.kernel.accessAllowed ? 'block' : 'none';\n",
              "\n",
              "        async function convertToInteractive(key) {\n",
              "          const element = document.querySelector('#df-37ee7c7f-48a8-43e6-ab37-e1cc048411a5');\n",
              "          const dataTable =\n",
              "            await google.colab.kernel.invokeFunction('convertToInteractive',\n",
              "                                                     [key], {});\n",
              "          if (!dataTable) return;\n",
              "\n",
              "          const docLinkHtml = 'Like what you see? Visit the ' +\n",
              "            '<a target=\"_blank\" href=https://colab.research.google.com/notebooks/data_table.ipynb>data table notebook</a>'\n",
              "            + ' to learn more about interactive tables.';\n",
              "          element.innerHTML = '';\n",
              "          dataTable['output_type'] = 'display_data';\n",
              "          await google.colab.output.renderOutput(dataTable, element);\n",
              "          const docLink = document.createElement('div');\n",
              "          docLink.innerHTML = docLinkHtml;\n",
              "          element.appendChild(docLink);\n",
              "        }\n",
              "      </script>\n",
              "    </div>\n",
              "  </div>\n",
              "  "
            ]
          },
          "metadata": {},
          "execution_count": 74
        }
      ]
    },
    {
      "cell_type": "code",
      "source": [
        "dataset.shape"
      ],
      "metadata": {
        "colab": {
          "base_uri": "https://localhost:8080/"
        },
        "id": "_ygWGOldazbx",
        "outputId": "37d9b24c-cfc1-4c48-80d9-8ac8e82c3027"
      },
      "execution_count": null,
      "outputs": [
        {
          "output_type": "execute_result",
          "data": {
            "text/plain": [
              "(28998, 15)"
            ]
          },
          "metadata": {},
          "execution_count": 75
        }
      ]
    },
    {
      "cell_type": "code",
      "source": [
        "dataset.columns"
      ],
      "metadata": {
        "colab": {
          "base_uri": "https://localhost:8080/"
        },
        "id": "d-ErZ7ZabgRd",
        "outputId": "3bf76f87-65ff-415c-86bf-66a31ba196f1"
      },
      "execution_count": null,
      "outputs": [
        {
          "output_type": "execute_result",
          "data": {
            "text/plain": [
              "Index(['tema', 'data', 'jornal', 'jornal_sigla', 'titulo_noticia',\n",
              "       'nome_arquivo_tif', 'nome_arquivo_pdf', 'quant_pags', 'verifica_ocr',\n",
              "       'paragrafos', 'autoria', 'dir_bd', 'dir_arquivo', 'codigo_bd',\n",
              "       'dir_pdf'],\n",
              "      dtype='object')"
            ]
          },
          "metadata": {},
          "execution_count": 76
        }
      ]
    },
    {
      "cell_type": "code",
      "source": [
        "dataset.values"
      ],
      "metadata": {
        "colab": {
          "base_uri": "https://localhost:8080/"
        },
        "id": "7BPfKgvbbix3",
        "outputId": "2be84b5b-dbb1-413d-8f3f-217132d8eb9f"
      },
      "execution_count": null,
      "outputs": [
        {
          "output_type": "execute_result",
          "data": {
            "text/plain": [
              "array([['03-brasil-argentina', '26/11/2004', 'Jornal da ciência', ...,\n",
              "        '/media/hdvm08/bd/002/997/001/tif/03-brasil-argentina/',\n",
              "        '/002/997/001',\n",
              "        '/media/hdvm08/bd/002/997/001/pdf/03-brasil-argentina'],\n",
              "       ['03-brasil-argentina', '17/12/2009', 'Gazeta Mercantil', ...,\n",
              "        '/media/hdvm08/bd/002/997/001/tif/03-brasil-argentina/',\n",
              "        '/002/997/001',\n",
              "        '/media/hdvm08/bd/002/997/001/pdf/03-brasil-argentina'],\n",
              "       ['08-brasil-europa', '00/00/0000', 'O Estado de S. Paulo', ...,\n",
              "        '/media/hdvm08/bd/002/997/001/tif/08-brasil-europa/',\n",
              "        '/002/997/001',\n",
              "        '/media/hdvm08/bd/002/997/001/pdf/08-brasil-europa'],\n",
              "       ...,\n",
              "       ['12-brasil-politica_exterior', '27/03/2000', 'Gazeta Mercantil',\n",
              "        ...,\n",
              "        '/media/hdvm08/bd/002/997/001/tif/12-brasil-politica_exterior/',\n",
              "        '/002/997/001',\n",
              "        '/media/hdvm08/bd/002/997/001/pdf/12-brasil-politica_exterior'],\n",
              "       ['12-brasil-politica_exterior', '28/03/2000',\n",
              "        'O Estado de S. Paulo', ...,\n",
              "        '/media/hdvm08/bd/002/997/001/tif/12-brasil-politica_exterior/',\n",
              "        '/002/997/001',\n",
              "        '/media/hdvm08/bd/002/997/001/pdf/12-brasil-politica_exterior'],\n",
              "       ['12-brasil-politica_exterior', '28/03/2000', 'Gazeta Mercantil',\n",
              "        ...,\n",
              "        '/media/hdvm08/bd/002/997/001/tif/12-brasil-politica_exterior/',\n",
              "        '/002/997/001',\n",
              "        '/media/hdvm08/bd/002/997/001/pdf/12-brasil-politica_exterior']],\n",
              "      dtype=object)"
            ]
          },
          "metadata": {},
          "execution_count": 77
        }
      ]
    },
    {
      "cell_type": "code",
      "source": [
        "dataset.index"
      ],
      "metadata": {
        "colab": {
          "base_uri": "https://localhost:8080/"
        },
        "id": "4GeBVlu8buTp",
        "outputId": "16f23abf-cf91-4316-de12-7a3e32e886f8"
      },
      "execution_count": null,
      "outputs": [
        {
          "output_type": "execute_result",
          "data": {
            "text/plain": [
              "RangeIndex(start=0, stop=28998, step=1)"
            ]
          },
          "metadata": {},
          "execution_count": 78
        }
      ]
    },
    {
      "cell_type": "code",
      "source": [
        "dataset.index.dtype"
      ],
      "metadata": {
        "colab": {
          "base_uri": "https://localhost:8080/"
        },
        "id": "6gS4WJP-cAcm",
        "outputId": "dfc03116-803c-4687-8e85-6e9f348b9a43"
      },
      "execution_count": null,
      "outputs": [
        {
          "output_type": "execute_result",
          "data": {
            "text/plain": [
              "dtype('int64')"
            ]
          },
          "metadata": {},
          "execution_count": 79
        }
      ]
    },
    {
      "cell_type": "code",
      "source": [
        "dataset.dtypes"
      ],
      "metadata": {
        "colab": {
          "base_uri": "https://localhost:8080/"
        },
        "id": "4-xBFeRob1kY",
        "outputId": "5cc9f280-a4e2-49a2-e781-5c69b0336910"
      },
      "execution_count": null,
      "outputs": [
        {
          "output_type": "execute_result",
          "data": {
            "text/plain": [
              "tema                object\n",
              "data                object\n",
              "jornal              object\n",
              "jornal_sigla        object\n",
              "titulo_noticia      object\n",
              "nome_arquivo_tif    object\n",
              "nome_arquivo_pdf    object\n",
              "quant_pags           int64\n",
              "verifica_ocr        object\n",
              "paragrafos          object\n",
              "autoria             object\n",
              "dir_bd              object\n",
              "dir_arquivo         object\n",
              "codigo_bd           object\n",
              "dir_pdf             object\n",
              "dtype: object"
            ]
          },
          "metadata": {},
          "execution_count": 80
        }
      ]
    },
    {
      "cell_type": "code",
      "source": [
        "dataset[\"data\"] = pd.to_datetime(dataset[\"data\"], errors=\"coerce\")\n",
        "dataset[\"ano\"], dataset[\"mes\"], dataset[\"dia\"] = dataset[\"data\"].dt.year, dataset[\"data\"].dt.month, dataset[\"data\"].dt.day\n",
        "data_completa = dataset[[\"dia\", \"mes\", \"ano\"]] \n",
        "#saber datas com zeros nos três campos (ano, mês e dia)\n",
        "#saber datas com zeros só em um dos campos (dia ou mês ou ano)\n",
        "#saber datas com zeros em dois dos campos (dia e mês ou mês e ano ou dia e ano)\n"
      ],
      "metadata": {
        "id": "Hsh33lYtfKse"
      },
      "execution_count": null,
      "outputs": []
    },
    {
      "cell_type": "code",
      "source": [
        "teste = {\"data\": [\"00/00/1999\"]}\n",
        "df = pd.DataFrame(teste)\n",
        "df[\"data\"] = pd.to_datetime(df[\"data\"], errors=\"coerce\")\n",
        "df[\"dia\"], df[\"mes\"], df[\"ano\"] = df[\"data\"].dt.day, df[\"data\"].dt.month, df[\"data\"]\n",
        "df"
      ],
      "metadata": {
        "colab": {
          "base_uri": "https://localhost:8080/",
          "height": 81
        },
        "id": "34kBFY0xqqRF",
        "outputId": "c9f482c6-1c73-4a67-9cc0-bdd99d767aeb"
      },
      "execution_count": null,
      "outputs": [
        {
          "output_type": "execute_result",
          "data": {
            "text/plain": [
              "  data  dia  mes ano\n",
              "0  NaT  NaN  NaN NaT"
            ],
            "text/html": [
              "\n",
              "  <div id=\"df-99b3025e-5b87-46ec-a3e9-61190cd21303\">\n",
              "    <div class=\"colab-df-container\">\n",
              "      <div>\n",
              "<style scoped>\n",
              "    .dataframe tbody tr th:only-of-type {\n",
              "        vertical-align: middle;\n",
              "    }\n",
              "\n",
              "    .dataframe tbody tr th {\n",
              "        vertical-align: top;\n",
              "    }\n",
              "\n",
              "    .dataframe thead th {\n",
              "        text-align: right;\n",
              "    }\n",
              "</style>\n",
              "<table border=\"1\" class=\"dataframe\">\n",
              "  <thead>\n",
              "    <tr style=\"text-align: right;\">\n",
              "      <th></th>\n",
              "      <th>data</th>\n",
              "      <th>dia</th>\n",
              "      <th>mes</th>\n",
              "      <th>ano</th>\n",
              "    </tr>\n",
              "  </thead>\n",
              "  <tbody>\n",
              "    <tr>\n",
              "      <th>0</th>\n",
              "      <td>NaT</td>\n",
              "      <td>NaN</td>\n",
              "      <td>NaN</td>\n",
              "      <td>NaT</td>\n",
              "    </tr>\n",
              "  </tbody>\n",
              "</table>\n",
              "</div>\n",
              "      <button class=\"colab-df-convert\" onclick=\"convertToInteractive('df-99b3025e-5b87-46ec-a3e9-61190cd21303')\"\n",
              "              title=\"Convert this dataframe to an interactive table.\"\n",
              "              style=\"display:none;\">\n",
              "        \n",
              "  <svg xmlns=\"http://www.w3.org/2000/svg\" height=\"24px\"viewBox=\"0 0 24 24\"\n",
              "       width=\"24px\">\n",
              "    <path d=\"M0 0h24v24H0V0z\" fill=\"none\"/>\n",
              "    <path d=\"M18.56 5.44l.94 2.06.94-2.06 2.06-.94-2.06-.94-.94-2.06-.94 2.06-2.06.94zm-11 1L8.5 8.5l.94-2.06 2.06-.94-2.06-.94L8.5 2.5l-.94 2.06-2.06.94zm10 10l.94 2.06.94-2.06 2.06-.94-2.06-.94-.94-2.06-.94 2.06-2.06.94z\"/><path d=\"M17.41 7.96l-1.37-1.37c-.4-.4-.92-.59-1.43-.59-.52 0-1.04.2-1.43.59L10.3 9.45l-7.72 7.72c-.78.78-.78 2.05 0 2.83L4 21.41c.39.39.9.59 1.41.59.51 0 1.02-.2 1.41-.59l7.78-7.78 2.81-2.81c.8-.78.8-2.07 0-2.86zM5.41 20L4 18.59l7.72-7.72 1.47 1.35L5.41 20z\"/>\n",
              "  </svg>\n",
              "      </button>\n",
              "      \n",
              "  <style>\n",
              "    .colab-df-container {\n",
              "      display:flex;\n",
              "      flex-wrap:wrap;\n",
              "      gap: 12px;\n",
              "    }\n",
              "\n",
              "    .colab-df-convert {\n",
              "      background-color: #E8F0FE;\n",
              "      border: none;\n",
              "      border-radius: 50%;\n",
              "      cursor: pointer;\n",
              "      display: none;\n",
              "      fill: #1967D2;\n",
              "      height: 32px;\n",
              "      padding: 0 0 0 0;\n",
              "      width: 32px;\n",
              "    }\n",
              "\n",
              "    .colab-df-convert:hover {\n",
              "      background-color: #E2EBFA;\n",
              "      box-shadow: 0px 1px 2px rgba(60, 64, 67, 0.3), 0px 1px 3px 1px rgba(60, 64, 67, 0.15);\n",
              "      fill: #174EA6;\n",
              "    }\n",
              "\n",
              "    [theme=dark] .colab-df-convert {\n",
              "      background-color: #3B4455;\n",
              "      fill: #D2E3FC;\n",
              "    }\n",
              "\n",
              "    [theme=dark] .colab-df-convert:hover {\n",
              "      background-color: #434B5C;\n",
              "      box-shadow: 0px 1px 3px 1px rgba(0, 0, 0, 0.15);\n",
              "      filter: drop-shadow(0px 1px 2px rgba(0, 0, 0, 0.3));\n",
              "      fill: #FFFFFF;\n",
              "    }\n",
              "  </style>\n",
              "\n",
              "      <script>\n",
              "        const buttonEl =\n",
              "          document.querySelector('#df-99b3025e-5b87-46ec-a3e9-61190cd21303 button.colab-df-convert');\n",
              "        buttonEl.style.display =\n",
              "          google.colab.kernel.accessAllowed ? 'block' : 'none';\n",
              "\n",
              "        async function convertToInteractive(key) {\n",
              "          const element = document.querySelector('#df-99b3025e-5b87-46ec-a3e9-61190cd21303');\n",
              "          const dataTable =\n",
              "            await google.colab.kernel.invokeFunction('convertToInteractive',\n",
              "                                                     [key], {});\n",
              "          if (!dataTable) return;\n",
              "\n",
              "          const docLinkHtml = 'Like what you see? Visit the ' +\n",
              "            '<a target=\"_blank\" href=https://colab.research.google.com/notebooks/data_table.ipynb>data table notebook</a>'\n",
              "            + ' to learn more about interactive tables.';\n",
              "          element.innerHTML = '';\n",
              "          dataTable['output_type'] = 'display_data';\n",
              "          await google.colab.output.renderOutput(dataTable, element);\n",
              "          const docLink = document.createElement('div');\n",
              "          docLink.innerHTML = docLinkHtml;\n",
              "          element.appendChild(docLink);\n",
              "        }\n",
              "      </script>\n",
              "    </div>\n",
              "  </div>\n",
              "  "
            ]
          },
          "metadata": {},
          "execution_count": 103
        }
      ]
    },
    {
      "cell_type": "code",
      "source": [
        "dataset[\"data\"].value_counts(ascending=False, normalize=False, sort=True, dropna=True, bins=None)"
      ],
      "metadata": {
        "colab": {
          "base_uri": "https://localhost:8080/"
        },
        "id": "2E1KCSUbb4_8",
        "outputId": "396a868b-a935-446c-96cc-932932b66dbf"
      },
      "execution_count": null,
      "outputs": [
        {
          "output_type": "execute_result",
          "data": {
            "text/plain": [
              "1998-03-03    45\n",
              "1996-11-25    44\n",
              "1999-11-23    41\n",
              "1997-02-18    39\n",
              "1996-05-29    34\n",
              "              ..\n",
              "2000-11-11     1\n",
              "1999-01-02     1\n",
              "2004-10-25     1\n",
              "2000-01-08     1\n",
              "1999-12-08     1\n",
              "Name: data, Length: 6534, dtype: int64"
            ]
          },
          "metadata": {},
          "execution_count": 83
        }
      ]
    },
    {
      "cell_type": "code",
      "source": [
        "dataset[\"data\"].unique()"
      ],
      "metadata": {
        "colab": {
          "base_uri": "https://localhost:8080/"
        },
        "id": "pIkmxtVqc9e5",
        "outputId": "e3ec2e11-cc3d-4b23-a0e2-09a311524a3f"
      },
      "execution_count": null,
      "outputs": [
        {
          "output_type": "execute_result",
          "data": {
            "text/plain": [
              "array(['2004-11-26T00:00:00.000000000', '2009-12-17T00:00:00.000000000',\n",
              "                                 'NaT', ...,\n",
              "       '2000-02-28T00:00:00.000000000', '2000-05-03T00:00:00.000000000',\n",
              "       '2000-06-03T00:00:00.000000000'], dtype='datetime64[ns]')"
            ]
          },
          "metadata": {},
          "execution_count": 84
        }
      ]
    }
  ]
}