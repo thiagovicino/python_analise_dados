{
  "nbformat": 4,
  "nbformat_minor": 0,
  "metadata": {
    "colab": {
      "provenance": [],
      "authorship_tag": "ABX9TyPDEqIYyr21gb3fEVXzFAUr",
      "include_colab_link": true
    },
    "kernelspec": {
      "name": "python3",
      "display_name": "Python 3"
    },
    "language_info": {
      "name": "python"
    }
  },
  "cells": [
    {
      "cell_type": "markdown",
      "metadata": {
        "id": "view-in-github",
        "colab_type": "text"
      },
      "source": [
        "<a href=\"https://colab.research.google.com/github/thiagovicino/python_analise_dados/blob/main/hemeroteca_peb_analise_dados_Thiago.ipynb\" target=\"_parent\"><img src=\"https://colab.research.google.com/assets/colab-badge.svg\" alt=\"Open In Colab\"/></a>"
      ]
    },
    {
      "cell_type": "code",
      "execution_count": 45,
      "metadata": {
        "id": "GxExJ78bSPOV"
      },
      "outputs": [],
      "source": [
        "import numpy as np\n",
        "import pandas as pd"
      ]
    },
    {
      "cell_type": "code",
      "source": [
        "print(\"Olá, mundo!\")\n"
      ],
      "metadata": {
        "colab": {
          "base_uri": "https://localhost:8080/"
        },
        "id": "R73uy0utZF5Z",
        "outputId": "9fd29e9d-bf79-48c3-f85d-310495982a5d"
      },
      "execution_count": 46,
      "outputs": [
        {
          "output_type": "stream",
          "name": "stdout",
          "text": [
            "Olá, mundo!\n"
          ]
        }
      ]
    },
    {
      "cell_type": "markdown",
      "source": [
        "#Pandas Series"
      ],
      "metadata": {
        "id": "RX22hkbMS37S"
      }
    },
    {
      "cell_type": "code",
      "source": [
        "lista_paises = [\"Brasil\", \"Angola\", \"Portugal\", \"Timor Leste\", \"Moçambique\"]\n",
        "lista_populacao = [214, 33.93, 10.3, 1.34, 32.16]\n",
        "paises = pd.Series(data=lista_populacao, index=lista_paises)\n",
        "#Dataframe é uma matriz de dados\n",
        "#Series, ao contrário, diz respeito a uma linha da matriz (dataframe)\n",
        "paises.name = \"PAISES\"\n",
        "paises.index.name = \"POPULAÇÃO\"\n",
        "paises\n",
        "tamanho = paises.size\n",
        "print(f\"A quantidade de países é: {tamanho}\")\n",
        "dados = paises.values\n",
        "print(dados)\n",
        "rotulos = paises.index\n",
        "rotulos\n",
        "paises"
      ],
      "metadata": {
        "colab": {
          "base_uri": "https://localhost:8080/"
        },
        "id": "-fql636VZtmT",
        "outputId": "2065c3eb-fcba-4c58-eee1-945a11c27114"
      },
      "execution_count": 47,
      "outputs": [
        {
          "output_type": "stream",
          "name": "stdout",
          "text": [
            "A quantidade de países é: 5\n",
            "[214.    33.93  10.3    1.34  32.16]\n"
          ]
        },
        {
          "output_type": "execute_result",
          "data": {
            "text/plain": [
              "POPULAÇÃO\n",
              "Brasil         214.00\n",
              "Angola          33.93\n",
              "Portugal        10.30\n",
              "Timor Leste      1.34\n",
              "Moçambique      32.16\n",
              "Name: PAISES, dtype: float64"
            ]
          },
          "metadata": {},
          "execution_count": 47
        }
      ]
    },
    {
      "cell_type": "markdown",
      "source": [
        "# Pandas - DataFrame"
      ],
      "metadata": {
        "id": "OIKIDggkSzQi"
      }
    },
    {
      "cell_type": "code",
      "source": [
        "dados = {\n",
        "    \"nomes\": [\"Brasil\", \"Angola\", \"Portugal\", \"Timor Leste\", \"Moçambique\"],\n",
        "    \"população\": [214, 33.93, 10.3, 1.34, 32.16]\n",
        "}\n",
        "siglas = [\"BRA\", \"ANG\", \"POR\", \"TML\", \"MOC\"]\n",
        "paises = pd.DataFrame(data=dados, index=siglas)\n",
        "paises"
      ],
      "metadata": {
        "colab": {
          "base_uri": "https://localhost:8080/",
          "height": 206
        },
        "id": "Y8hRGf8WS1-t",
        "outputId": "e4e9fa9a-42ea-4e38-d50d-2ed7dca6dff3"
      },
      "execution_count": 48,
      "outputs": [
        {
          "output_type": "execute_result",
          "data": {
            "text/plain": [
              "           nomes  população\n",
              "BRA       Brasil     214.00\n",
              "ANG       Angola      33.93\n",
              "POR     Portugal      10.30\n",
              "TML  Timor Leste       1.34\n",
              "MOC   Moçambique      32.16"
            ],
            "text/html": [
              "\n",
              "  <div id=\"df-35d6b1f2-17ee-4ca4-8e51-798c5df4a910\">\n",
              "    <div class=\"colab-df-container\">\n",
              "      <div>\n",
              "<style scoped>\n",
              "    .dataframe tbody tr th:only-of-type {\n",
              "        vertical-align: middle;\n",
              "    }\n",
              "\n",
              "    .dataframe tbody tr th {\n",
              "        vertical-align: top;\n",
              "    }\n",
              "\n",
              "    .dataframe thead th {\n",
              "        text-align: right;\n",
              "    }\n",
              "</style>\n",
              "<table border=\"1\" class=\"dataframe\">\n",
              "  <thead>\n",
              "    <tr style=\"text-align: right;\">\n",
              "      <th></th>\n",
              "      <th>nomes</th>\n",
              "      <th>população</th>\n",
              "    </tr>\n",
              "  </thead>\n",
              "  <tbody>\n",
              "    <tr>\n",
              "      <th>BRA</th>\n",
              "      <td>Brasil</td>\n",
              "      <td>214.00</td>\n",
              "    </tr>\n",
              "    <tr>\n",
              "      <th>ANG</th>\n",
              "      <td>Angola</td>\n",
              "      <td>33.93</td>\n",
              "    </tr>\n",
              "    <tr>\n",
              "      <th>POR</th>\n",
              "      <td>Portugal</td>\n",
              "      <td>10.30</td>\n",
              "    </tr>\n",
              "    <tr>\n",
              "      <th>TML</th>\n",
              "      <td>Timor Leste</td>\n",
              "      <td>1.34</td>\n",
              "    </tr>\n",
              "    <tr>\n",
              "      <th>MOC</th>\n",
              "      <td>Moçambique</td>\n",
              "      <td>32.16</td>\n",
              "    </tr>\n",
              "  </tbody>\n",
              "</table>\n",
              "</div>\n",
              "      <button class=\"colab-df-convert\" onclick=\"convertToInteractive('df-35d6b1f2-17ee-4ca4-8e51-798c5df4a910')\"\n",
              "              title=\"Convert this dataframe to an interactive table.\"\n",
              "              style=\"display:none;\">\n",
              "        \n",
              "  <svg xmlns=\"http://www.w3.org/2000/svg\" height=\"24px\"viewBox=\"0 0 24 24\"\n",
              "       width=\"24px\">\n",
              "    <path d=\"M0 0h24v24H0V0z\" fill=\"none\"/>\n",
              "    <path d=\"M18.56 5.44l.94 2.06.94-2.06 2.06-.94-2.06-.94-.94-2.06-.94 2.06-2.06.94zm-11 1L8.5 8.5l.94-2.06 2.06-.94-2.06-.94L8.5 2.5l-.94 2.06-2.06.94zm10 10l.94 2.06.94-2.06 2.06-.94-2.06-.94-.94-2.06-.94 2.06-2.06.94z\"/><path d=\"M17.41 7.96l-1.37-1.37c-.4-.4-.92-.59-1.43-.59-.52 0-1.04.2-1.43.59L10.3 9.45l-7.72 7.72c-.78.78-.78 2.05 0 2.83L4 21.41c.39.39.9.59 1.41.59.51 0 1.02-.2 1.41-.59l7.78-7.78 2.81-2.81c.8-.78.8-2.07 0-2.86zM5.41 20L4 18.59l7.72-7.72 1.47 1.35L5.41 20z\"/>\n",
              "  </svg>\n",
              "      </button>\n",
              "      \n",
              "  <style>\n",
              "    .colab-df-container {\n",
              "      display:flex;\n",
              "      flex-wrap:wrap;\n",
              "      gap: 12px;\n",
              "    }\n",
              "\n",
              "    .colab-df-convert {\n",
              "      background-color: #E8F0FE;\n",
              "      border: none;\n",
              "      border-radius: 50%;\n",
              "      cursor: pointer;\n",
              "      display: none;\n",
              "      fill: #1967D2;\n",
              "      height: 32px;\n",
              "      padding: 0 0 0 0;\n",
              "      width: 32px;\n",
              "    }\n",
              "\n",
              "    .colab-df-convert:hover {\n",
              "      background-color: #E2EBFA;\n",
              "      box-shadow: 0px 1px 2px rgba(60, 64, 67, 0.3), 0px 1px 3px 1px rgba(60, 64, 67, 0.15);\n",
              "      fill: #174EA6;\n",
              "    }\n",
              "\n",
              "    [theme=dark] .colab-df-convert {\n",
              "      background-color: #3B4455;\n",
              "      fill: #D2E3FC;\n",
              "    }\n",
              "\n",
              "    [theme=dark] .colab-df-convert:hover {\n",
              "      background-color: #434B5C;\n",
              "      box-shadow: 0px 1px 3px 1px rgba(0, 0, 0, 0.15);\n",
              "      filter: drop-shadow(0px 1px 2px rgba(0, 0, 0, 0.3));\n",
              "      fill: #FFFFFF;\n",
              "    }\n",
              "  </style>\n",
              "\n",
              "      <script>\n",
              "        const buttonEl =\n",
              "          document.querySelector('#df-35d6b1f2-17ee-4ca4-8e51-798c5df4a910 button.colab-df-convert');\n",
              "        buttonEl.style.display =\n",
              "          google.colab.kernel.accessAllowed ? 'block' : 'none';\n",
              "\n",
              "        async function convertToInteractive(key) {\n",
              "          const element = document.querySelector('#df-35d6b1f2-17ee-4ca4-8e51-798c5df4a910');\n",
              "          const dataTable =\n",
              "            await google.colab.kernel.invokeFunction('convertToInteractive',\n",
              "                                                     [key], {});\n",
              "          if (!dataTable) return;\n",
              "\n",
              "          const docLinkHtml = 'Like what you see? Visit the ' +\n",
              "            '<a target=\"_blank\" href=https://colab.research.google.com/notebooks/data_table.ipynb>data table notebook</a>'\n",
              "            + ' to learn more about interactive tables.';\n",
              "          element.innerHTML = '';\n",
              "          dataTable['output_type'] = 'display_data';\n",
              "          await google.colab.output.renderOutput(dataTable, element);\n",
              "          const docLink = document.createElement('div');\n",
              "          docLink.innerHTML = docLinkHtml;\n",
              "          element.appendChild(docLink);\n",
              "        }\n",
              "      </script>\n",
              "    </div>\n",
              "  </div>\n",
              "  "
            ]
          },
          "metadata": {},
          "execution_count": 48
        }
      ]
    },
    {
      "cell_type": "markdown",
      "source": [
        "## Propriedades"
      ],
      "metadata": {
        "id": "-Siq4D33S3vQ"
      }
    },
    {
      "cell_type": "code",
      "source": [
        "formato = paises.shape\n",
        "print(f\"linhas x colunas: {formato}\")\n",
        "type(formato)\n"
      ],
      "metadata": {
        "colab": {
          "base_uri": "https://localhost:8080/"
        },
        "id": "o6oUVKZ2TO5n",
        "outputId": "7e505838-8321-4242-dfd9-97f8f72a22a7"
      },
      "execution_count": 49,
      "outputs": [
        {
          "output_type": "stream",
          "name": "stdout",
          "text": [
            "linhas x colunas: (5, 2)\n"
          ]
        },
        {
          "output_type": "execute_result",
          "data": {
            "text/plain": [
              "tuple"
            ]
          },
          "metadata": {},
          "execution_count": 49
        }
      ]
    },
    {
      "cell_type": "code",
      "source": [
        "numero_linhas = paises.shape[0]\n",
        "numero_linhas"
      ],
      "metadata": {
        "colab": {
          "base_uri": "https://localhost:8080/"
        },
        "id": "3mhd3DZUXRv0",
        "outputId": "f38a3dc2-b55d-4a22-b2b1-7b21e2bbaccd"
      },
      "execution_count": 50,
      "outputs": [
        {
          "output_type": "execute_result",
          "data": {
            "text/plain": [
              "5"
            ]
          },
          "metadata": {},
          "execution_count": 50
        }
      ]
    },
    {
      "cell_type": "code",
      "source": [
        "numero_linhas = paises.shape[1]\n",
        "numero_linhas"
      ],
      "metadata": {
        "colab": {
          "base_uri": "https://localhost:8080/"
        },
        "id": "Y-qqhKwDXpEM",
        "outputId": "eddef656-c016-487d-e562-cd5c7500e1fc"
      },
      "execution_count": 51,
      "outputs": [
        {
          "output_type": "execute_result",
          "data": {
            "text/plain": [
              "2"
            ]
          },
          "metadata": {},
          "execution_count": 51
        }
      ]
    },
    {
      "cell_type": "code",
      "source": [
        "indices = paises.index\n",
        "indices"
      ],
      "metadata": {
        "colab": {
          "base_uri": "https://localhost:8080/"
        },
        "id": "-HZ2UEzVX1vt",
        "outputId": "1dfdd2a0-2420-48b7-e80d-b2fba131b3d8"
      },
      "execution_count": 52,
      "outputs": [
        {
          "output_type": "execute_result",
          "data": {
            "text/plain": [
              "Index(['BRA', 'ANG', 'POR', 'TML', 'MOC'], dtype='object')"
            ]
          },
          "metadata": {},
          "execution_count": 52
        }
      ]
    },
    {
      "cell_type": "code",
      "source": [
        "colunas = paises.columns\n",
        "colunas"
      ],
      "metadata": {
        "colab": {
          "base_uri": "https://localhost:8080/"
        },
        "id": "0V1nKbGQYBHR",
        "outputId": "9300ee43-bdff-49a4-8420-86fa4e7c2165"
      },
      "execution_count": 53,
      "outputs": [
        {
          "output_type": "execute_result",
          "data": {
            "text/plain": [
              "Index(['nomes', 'população'], dtype='object')"
            ]
          },
          "metadata": {},
          "execution_count": 53
        }
      ]
    },
    {
      "cell_type": "code",
      "source": [
        "tipo = type(paises)\n",
        "tipo"
      ],
      "metadata": {
        "colab": {
          "base_uri": "https://localhost:8080/"
        },
        "id": "3kF0IolnYxOA",
        "outputId": "9bdc678e-ea51-4c33-a0f2-8b8dc864abb1"
      },
      "execution_count": 54,
      "outputs": [
        {
          "output_type": "execute_result",
          "data": {
            "text/plain": [
              "pandas.core.frame.DataFrame"
            ]
          },
          "metadata": {},
          "execution_count": 54
        }
      ]
    },
    {
      "cell_type": "code",
      "source": [
        "tipo = paises.dtypes\n",
        "tipo"
      ],
      "metadata": {
        "colab": {
          "base_uri": "https://localhost:8080/"
        },
        "id": "jzGOaV9AZGeJ",
        "outputId": "6baac09e-57b9-4fc6-f2da-f22704e8981d"
      },
      "execution_count": 55,
      "outputs": [
        {
          "output_type": "execute_result",
          "data": {
            "text/plain": [
              "nomes         object\n",
              "população    float64\n",
              "dtype: object"
            ]
          },
          "metadata": {},
          "execution_count": 55
        }
      ]
    },
    {
      "cell_type": "markdown",
      "source": [
        "# Consulta e modificação de dados"
      ],
      "metadata": {
        "id": "WcWXb1xeTRXt"
      }
    },
    {
      "cell_type": "code",
      "source": [
        "paises.iloc[1]\n"
      ],
      "metadata": {
        "colab": {
          "base_uri": "https://localhost:8080/"
        },
        "id": "uZjFfI3rTa91",
        "outputId": "c1919ed5-562b-4d01-f946-d2e2398c9e8d"
      },
      "execution_count": 56,
      "outputs": [
        {
          "output_type": "execute_result",
          "data": {
            "text/plain": [
              "nomes        Angola\n",
              "população     33.93\n",
              "Name: ANG, dtype: object"
            ]
          },
          "metadata": {},
          "execution_count": 56
        }
      ]
    },
    {
      "cell_type": "code",
      "source": [
        "paises.iat[1,0]"
      ],
      "metadata": {
        "colab": {
          "base_uri": "https://localhost:8080/",
          "height": 37
        },
        "id": "DPubmP38adCF",
        "outputId": "ad306305-cca4-4c74-a7d6-86262a4922e0"
      },
      "execution_count": 57,
      "outputs": [
        {
          "output_type": "execute_result",
          "data": {
            "text/plain": [
              "'Angola'"
            ],
            "application/vnd.google.colaboratory.intrinsic+json": {
              "type": "string"
            }
          },
          "metadata": {},
          "execution_count": 57
        }
      ]
    },
    {
      "cell_type": "code",
      "source": [
        "paises.iloc[0][\"nomes\"]"
      ],
      "metadata": {
        "colab": {
          "base_uri": "https://localhost:8080/",
          "height": 37
        },
        "id": "h0_h1bQ_anpZ",
        "outputId": "131cf1d9-9288-4f7c-f148-66ef1d59369a"
      },
      "execution_count": 58,
      "outputs": [
        {
          "output_type": "execute_result",
          "data": {
            "text/plain": [
              "'Brasil'"
            ],
            "application/vnd.google.colaboratory.intrinsic+json": {
              "type": "string"
            }
          },
          "metadata": {},
          "execution_count": 58
        }
      ]
    },
    {
      "cell_type": "code",
      "source": [
        "paises.loc[\"BRA\"][\"população\"]"
      ],
      "metadata": {
        "colab": {
          "base_uri": "https://localhost:8080/"
        },
        "id": "c-GjUY2ian-w",
        "outputId": "73adeb1c-efbc-4261-f867-f2c99809664b"
      },
      "execution_count": 60,
      "outputs": [
        {
          "output_type": "execute_result",
          "data": {
            "text/plain": [
              "214.0"
            ]
          },
          "metadata": {},
          "execution_count": 60
        }
      ]
    },
    {
      "cell_type": "code",
      "source": [
        "paises.at[\"BRA\", \"população\"]"
      ],
      "metadata": {
        "colab": {
          "base_uri": "https://localhost:8080/"
        },
        "id": "mE5rsfYbcFcF",
        "outputId": "bfb2e6c2-4041-4724-be03-b3f0f147d087"
      },
      "execution_count": 61,
      "outputs": [
        {
          "output_type": "execute_result",
          "data": {
            "text/plain": [
              "214.0"
            ]
          },
          "metadata": {},
          "execution_count": 61
        }
      ]
    },
    {
      "cell_type": "code",
      "source": [
        "paises[\"população\"]"
      ],
      "metadata": {
        "colab": {
          "base_uri": "https://localhost:8080/"
        },
        "id": "uRxDjd-KcP_B",
        "outputId": "22d64724-dbe4-4ff2-ae95-c79573e9c028"
      },
      "execution_count": 62,
      "outputs": [
        {
          "output_type": "execute_result",
          "data": {
            "text/plain": [
              "BRA    214.00\n",
              "ANG     33.93\n",
              "POR     10.30\n",
              "TML      1.34\n",
              "MOC     32.16\n",
              "Name: população, dtype: float64"
            ]
          },
          "metadata": {},
          "execution_count": 62
        }
      ]
    },
    {
      "cell_type": "code",
      "source": [
        "csv = \"contexto_inter.csv\"\n",
        "contexto = pd.read_csv(csv)\n",
        "contexto[\"AU\"]"
      ],
      "metadata": {
        "colab": {
          "base_uri": "https://localhost:8080/"
        },
        "id": "3GIm2TFBcbL2",
        "outputId": "60c66da4-2756-49c5-e72b-170dfe04ebb6"
      },
      "execution_count": 66,
      "outputs": [
        {
          "output_type": "execute_result",
          "data": {
            "text/plain": [
              "0                                  Eugênio Vargas Garcia\n",
              "1                                 Juan Gabriel Tokatlian\n",
              "2                         Maria Guadalupe Moog Rodrigues\n",
              "3                                        Mark Everingham\n",
              "4                                            Mônica Herz\n",
              "                             ...                        \n",
              "419    Leandro Wolpert dos Santos;André Pimentel Ferr...\n",
              "420                       Cairo Gabriel Borges Junqueira\n",
              "421           Virginia Soledad Busilli;María Belén Jaime\n",
              "422               Bruno Hendler;André Luiz Cançado Motta\n",
              "423                                João Fernando Finazzi\n",
              "Name: AU, Length: 424, dtype: object"
            ]
          },
          "metadata": {},
          "execution_count": 66
        }
      ]
    },
    {
      "cell_type": "markdown",
      "source": [
        "# Gráficos"
      ],
      "metadata": {
        "id": "9Wx67FR9TbXz"
      }
    },
    {
      "cell_type": "code",
      "source": [
        "barras = paises.plot(kind=\"bar\", color=[\"#E84A28\"])\n",
        "barras"
      ],
      "metadata": {
        "id": "kBFFwwGnTfXW"
      },
      "execution_count": null,
      "outputs": []
    },
    {
      "cell_type": "markdown",
      "source": [
        "# Trabalhando com arquivos .csv"
      ],
      "metadata": {
        "id": "EHBCupOLTfhx"
      }
    },
    {
      "cell_type": "code",
      "source": [],
      "metadata": {
        "id": "Nqx-QMpNTiOn"
      },
      "execution_count": null,
      "outputs": []
    },
    {
      "cell_type": "markdown",
      "source": [
        "# Trabalhando com arquivos de texto .json"
      ],
      "metadata": {
        "id": "79Ztb2ZGTt4m"
      }
    },
    {
      "cell_type": "code",
      "source": [],
      "metadata": {
        "id": "EvFvjZdrT5BE"
      },
      "execution_count": null,
      "outputs": []
    },
    {
      "cell_type": "markdown",
      "source": [],
      "metadata": {
        "id": "wBFZ9emUT4r-"
      }
    }
  ]
}