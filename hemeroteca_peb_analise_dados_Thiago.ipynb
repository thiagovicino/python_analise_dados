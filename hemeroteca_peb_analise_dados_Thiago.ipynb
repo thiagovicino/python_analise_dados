{
  "nbformat": 4,
  "nbformat_minor": 0,
  "metadata": {
    "colab": {
      "provenance": [],
      "authorship_tag": "ABX9TyOBkLY7pOL448mwe3yhcGqz",
      "include_colab_link": true
    },
    "kernelspec": {
      "name": "python3",
      "display_name": "Python 3"
    },
    "language_info": {
      "name": "python"
    }
  },
  "cells": [
    {
      "cell_type": "markdown",
      "metadata": {
        "id": "view-in-github",
        "colab_type": "text"
      },
      "source": [
        "<a href=\"https://colab.research.google.com/github/thiagovicino/python_analise_dados/blob/main/hemeroteca_peb_analise_dados_Thiago.ipynb\" target=\"_parent\"><img src=\"https://colab.research.google.com/assets/colab-badge.svg\" alt=\"Open In Colab\"/></a>"
      ]
    },
    {
      "cell_type": "code",
      "execution_count": 1,
      "metadata": {
        "id": "GxExJ78bSPOV"
      },
      "outputs": [],
      "source": [
        "import numpy as np\n",
        "import pandas as pd"
      ]
    },
    {
      "cell_type": "code",
      "source": [
        "print(\"Olá, mundo!\")\n"
      ],
      "metadata": {
        "colab": {
          "base_uri": "https://localhost:8080/"
        },
        "id": "R73uy0utZF5Z",
        "outputId": "1a25b392-c2d9-428d-e260-4020aced5f91"
      },
      "execution_count": 2,
      "outputs": [
        {
          "output_type": "stream",
          "name": "stdout",
          "text": [
            "Olá, mundo!\n"
          ]
        }
      ]
    },
    {
      "cell_type": "code",
      "source": [
        "lista_paises = [\"Brasil\", \"Angola\", \"Portugal\", \"Timor Leste\", \"Moçambique\"]\n",
        "lista_populacao = [214, 33.93, 10.3, 1.34, 32.16]\n",
        "paises = pd.Series(data=lista_populacao, index=lista_paises)\n",
        "paises.name = \"PAISES\"\n",
        "paises.index.name = \"POPULAÇÃO\"\n",
        "paises\n",
        "tamanho = paises.size\n",
        "tamanho\n",
        "dados = paises.values\n",
        "dados\n",
        "rotulos = paises.index\n",
        "rotulos\n",
        "paises"
      ],
      "metadata": {
        "colab": {
          "base_uri": "https://localhost:8080/"
        },
        "id": "-fql636VZtmT",
        "outputId": "8fd51f23-c6ce-4777-f530-d541dfb2edab"
      },
      "execution_count": 21,
      "outputs": [
        {
          "output_type": "execute_result",
          "data": {
            "text/plain": [
              "POPULAÇÃO\n",
              "Brasil         214.00\n",
              "Angola          33.93\n",
              "Portugal        10.30\n",
              "Timor Leste      1.34\n",
              "Moçambique      32.16\n",
              "Name: PAISES, dtype: float64"
            ]
          },
          "metadata": {},
          "execution_count": 21
        }
      ]
    }
  ]
}